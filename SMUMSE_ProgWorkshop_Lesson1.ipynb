{
 "cells": [
  {
   "cell_type": "markdown",
   "metadata": {},
   "source": [
    "# SMU Master of Science (Economics) Programming Workshop in Python\n",
    "\n",
    "\n",
    "## Introduction\n",
    "This is an introductory course/workshop in Programming with Python, aimed at achieving the following objectives:\n",
    "1. Give a brief introduction/overview of Python\n",
    "2. Equip students with foundational programming knowledge for the MSc Programme in Economics\n",
    "\n",
    "Throughout the duration of the course, we will learn programming using an application-based approach. For most of the course, students will be required to write code (in the form of in-class assignments) - this is probably the best way to learn coding/programming. \n",
    "\n",
    "More often than not, we are not interested in whether you got the answer right or wrong - we are more interested in the way you think about the question, and your approach towards solving it.\n",
    "\n",
    "#### Course Outline\n",
    "The course will be split into the following modules:\n",
    "\n",
    "1. Introduction, Syntax, Operations and Data Structures\n",
    "2. Loops, Conditional Statements, Functions and Classes\n",
    "3. NumPy and Pandas - Data Cleaning, Reading and Manipulation\n",
    "4. Matplotlib and Seaborn - Data Plotting\n",
    "5. Algorithms\n",
    "\n",
    "In today's class, we will be covering the first module on syntax, operations and data structures."
   ]
  },
  {
   "cell_type": "markdown",
   "metadata": {},
   "source": [
    "## Basic Syntax and Operations\n",
    "\n",
    "In the earlier days of programming, humans have to key in specific code (machine-readable code) that the machines can interpret in order for them to execute the action specified. For example, Fortran and C are 2 such \"low-level\" languages - they are languages that can be easily interpreted by the computer, but not necessarily easy for humans to understand:\n",
    "\n",
    "<img src=\"images/fortran_code.jpg\">\n",
    "\n",
    "However, in recent times, for sake of simplicity and convenience, newer languages, such as R and Python, are \"higher-level\" languages - they have a build-in interpreter that translates what we provide as code/inputs for the machine to interpret/execute\n",
    "\n",
    "Then, one benefit of newer languages such as Python and R stems from its readability and simplicity, but comes at the cost of longer computation. This wouldn't be an issue as long as we are not dealing with *Big Data*.\n",
    "\n",
    "In this chapter, we will start off with a quick introduction to the syntax (or grammar) and basic operations of the Python language - this will give you a taste of what Python can and cannot do.\n",
    "\n",
    "<img src=\"images/python_code.jpeg\">"
   ]
  },
  {
   "cell_type": "markdown",
   "metadata": {},
   "source": [
    "### Variable Assignment\n",
    "\n",
    "In the following example, we assign the value 200 * 17 to the variable \"x\", and then we use the print function to print its value. Note that we can also assign strings, which are also known as text, but we will have to use quotation marks."
   ]
  },
  {
   "cell_type": "code",
   "execution_count": 1,
   "metadata": {},
   "outputs": [
    {
     "name": "stdout",
     "output_type": "stream",
     "text": [
      "3400\n",
      "Hello World.\n"
     ]
    }
   ],
   "source": [
    "# Problem 1 (Note that to make comments in Python, we can include a #)\n",
    "x = 200 * 17\n",
    "print(x) \n",
    "\n",
    "y = \"Hello World.\"\n",
    "print (y)"
   ]
  },
  {
   "cell_type": "markdown",
   "metadata": {},
   "source": [
    "### Type \n",
    "\n",
    "Note that in the above code block, there are 2 lines of output. The function, `print`, takes an argument, and prints it out. Below, we can use the `print` function along with the `type` function, to learn more about the type of the variables."
   ]
  },
  {
   "cell_type": "code",
   "execution_count": 2,
   "metadata": {},
   "outputs": [
    {
     "name": "stdout",
     "output_type": "stream",
     "text": [
      "<class 'int'>\n",
      "<class 'str'>\n"
     ]
    }
   ],
   "source": [
    "print(type(x))\n",
    "print(type(y))"
   ]
  },
  {
   "cell_type": "markdown",
   "metadata": {},
   "source": [
    "Not surprisingly, '3400' was assigned to the type, `int` while 'Hello World' was assigned to the type `str`. There are many different data types in Python but the main ones are as follows:\n",
    "\n",
    "1. int - integers\n",
    "2. float - floating point (decimals)\n",
    "3. str - string variables"
   ]
  },
  {
   "cell_type": "markdown",
   "metadata": {},
   "source": [
    "### Concatenating Strings and Integers\n",
    "\n",
    "After seeing those examples, you may have the following questions in mind:\n",
    "1. Can we add a string to an integer?\n",
    "2. Can we add a string to a string?\n",
    "3. Can we do multiplication with a string?\n",
    "\n",
    "As it turns out, one of the best ways to understand more about programming is to **actively** code. Another way to learn more about programming is to learn to ask the right questions (most programmers use StackOverflow). \n",
    "\n",
    "Below, we answer the 3 questions in sequential order."
   ]
  },
  {
   "cell_type": "code",
   "execution_count": 3,
   "metadata": {},
   "outputs": [
    {
     "ename": "TypeError",
     "evalue": "unsupported operand type(s) for +: 'int' and 'str'",
     "output_type": "error",
     "traceback": [
      "\u001b[0;31m---------------------------------------------------------------------------\u001b[0m",
      "\u001b[0;31mTypeError\u001b[0m                                 Traceback (most recent call last)",
      "\u001b[0;32m<ipython-input-3-3558049486d3>\u001b[0m in \u001b[0;36m<module>\u001b[0;34m()\u001b[0m\n\u001b[1;32m      1\u001b[0m \u001b[0;31m# Question 1\u001b[0m\u001b[0;34m\u001b[0m\u001b[0;34m\u001b[0m\u001b[0m\n\u001b[0;32m----> 2\u001b[0;31m \u001b[0mx\u001b[0m \u001b[0;34m+\u001b[0m \u001b[0my\u001b[0m\u001b[0;34m\u001b[0m\u001b[0m\n\u001b[0m",
      "\u001b[0;31mTypeError\u001b[0m: unsupported operand type(s) for +: 'int' and 'str'"
     ]
    }
   ],
   "source": [
    "# Question 1\n",
    "x + y"
   ]
  },
  {
   "cell_type": "markdown",
   "metadata": {},
   "source": [
    "As it turns out, we cannot do so. This is also our first example of an error; in this case, a TypeError. To learn more about the error, we can look at the text that comes after the error: essentially, the error says that we cannot add integers and strings together. However, there is a way to circumvent this, but we digress from this question, and move on to the second question: can we add a string to a string?"
   ]
  },
  {
   "cell_type": "code",
   "execution_count": 4,
   "metadata": {},
   "outputs": [
    {
     "data": {
      "text/plain": [
       "'Hello World.Hello World.'"
      ]
     },
     "execution_count": 4,
     "metadata": {},
     "output_type": "execute_result"
    }
   ],
   "source": [
    "y + y"
   ]
  },
  {
   "cell_type": "markdown",
   "metadata": {},
   "source": [
    "It turns out that we can add a string to a string. However, note that since we did not assign another variable to store the value returned by the addition of the variables, we cannot retrieve the values. This implies the following: whenever you're interested in a result, or think that you may need it again, save it! This reduces the complexity of your program, since you do not have to run the same function over and over again. "
   ]
  },
  {
   "cell_type": "markdown",
   "metadata": {},
   "source": [
    "---\n",
    "##### Naming Conventions and Comments\n",
    "It is pretty important to know how to name your variables. \n",
    "\n",
    "Suppose you're naming a variable which contains the mean of the GDP variable, one sensible name will be to name it **gdp_mean**, instead of **x**. While this distinction seems pretty trivial right now, when you begin to write longer chunks of code, naming conventions make it easy for other readers to know what you're doing, and for you to follow what you're actually doing. In addition, having variables with uninformative names makes it difficult to carry on writing code if you need to call these variables in the future.\n",
    "\n",
    "Writing comments also help your readers understand what each block of code (be it a loop, function or conditional statements) are doing. As you begin to write more and more code, and begin to call previously defined functions, it becomes very difficult for your readers (and you) to follow what's going on. Writing comments can often help to reduce the reading burden of your readers.\n",
    "\n",
    "---\n",
    "\n",
    "And back to the main course. Adding 2 strings together essentially implies appending them to one another. Because of this, we can also do multiplication with a string."
   ]
  },
  {
   "cell_type": "code",
   "execution_count": 5,
   "metadata": {},
   "outputs": [
    {
     "data": {
      "text/plain": [
       "'Hello World.Hello World.Hello World.'"
      ]
     },
     "execution_count": 5,
     "metadata": {},
     "output_type": "execute_result"
    }
   ],
   "source": [
    "3 * y"
   ]
  },
  {
   "cell_type": "markdown",
   "metadata": {},
   "source": [
    "### Mathematical Operations in Python\n",
    "\n",
    "In what follows, I will show basic mathematical operations for integers in Python, including:\n",
    "\n",
    "1. Addition\n",
    "2. Subtraction\n",
    "3. Multiplication\n",
    "4. Division\n",
    "5. Exponential"
   ]
  },
  {
   "cell_type": "code",
   "execution_count": 6,
   "metadata": {},
   "outputs": [
    {
     "data": {
      "text/plain": [
       "9"
      ]
     },
     "execution_count": 6,
     "metadata": {},
     "output_type": "execute_result"
    }
   ],
   "source": [
    "3 + 6"
   ]
  },
  {
   "cell_type": "code",
   "execution_count": 7,
   "metadata": {},
   "outputs": [
    {
     "data": {
      "text/plain": [
       "-3"
      ]
     },
     "execution_count": 7,
     "metadata": {},
     "output_type": "execute_result"
    }
   ],
   "source": [
    "4 - 7"
   ]
  },
  {
   "cell_type": "code",
   "execution_count": 8,
   "metadata": {},
   "outputs": [
    {
     "data": {
      "text/plain": [
       "15"
      ]
     },
     "execution_count": 8,
     "metadata": {},
     "output_type": "execute_result"
    }
   ],
   "source": [
    "5 * 3"
   ]
  },
  {
   "cell_type": "code",
   "execution_count": 9,
   "metadata": {},
   "outputs": [
    {
     "name": "stdout",
     "output_type": "stream",
     "text": [
      "<class 'float'> 1.6666666666666667\n"
     ]
    }
   ],
   "source": [
    "j = 5 / 3\n",
    "print(type(j), j)"
   ]
  },
  {
   "cell_type": "markdown",
   "metadata": {},
   "source": [
    "This is our first instance of a floating point variable. Floating point work the same way as integers; we can carry out multiplication, addition, division etc. on them. However, when we try to convert a floating point to an integer, Python rounds it down. We will learn more about type conversion in the next section."
   ]
  },
  {
   "cell_type": "code",
   "execution_count": 10,
   "metadata": {
    "scrolled": true
   },
   "outputs": [
    {
     "data": {
      "text/plain": [
       "1"
      ]
     },
     "execution_count": 10,
     "metadata": {},
     "output_type": "execute_result"
    }
   ],
   "source": [
    "int(j)"
   ]
  },
  {
   "cell_type": "code",
   "execution_count": 11,
   "metadata": {},
   "outputs": [
    {
     "data": {
      "text/plain": [
       "8"
      ]
     },
     "execution_count": 11,
     "metadata": {},
     "output_type": "execute_result"
    }
   ],
   "source": [
    "2 ** 3"
   ]
  },
  {
   "cell_type": "markdown",
   "metadata": {},
   "source": [
    "### Type Conversion\n",
    "\n",
    "In practice, one can convert the integer type variable to a string type. One way to do so is to use the `str` function. The `str` function takes a variable (integer, string, float) and converts it to a string variable. On the contrary, you cannot use the `int` function on strings, unless the string contains only numbers. \n",
    "\n",
    "Below, we show some examples of what can and cannot be done."
   ]
  },
  {
   "cell_type": "code",
   "execution_count": 12,
   "metadata": {},
   "outputs": [
    {
     "name": "stdout",
     "output_type": "stream",
     "text": [
      "<class 'str'>\n"
     ]
    }
   ],
   "source": [
    "k = str(x)\n",
    "print(type(k))"
   ]
  },
  {
   "cell_type": "code",
   "execution_count": 13,
   "metadata": {},
   "outputs": [
    {
     "name": "stdout",
     "output_type": "stream",
     "text": [
      "<class 'int'>\n"
     ]
    }
   ],
   "source": [
    "z = int(k)\n",
    "print(type(z))"
   ]
  },
  {
   "cell_type": "code",
   "execution_count": 14,
   "metadata": {},
   "outputs": [
    {
     "ename": "ValueError",
     "evalue": "invalid literal for int() with base 10: 'Hello World.'",
     "output_type": "error",
     "traceback": [
      "\u001b[0;31m---------------------------------------------------------------------------\u001b[0m",
      "\u001b[0;31mValueError\u001b[0m                                Traceback (most recent call last)",
      "\u001b[0;32m<ipython-input-14-ae3ef0eecb5e>\u001b[0m in \u001b[0;36m<module>\u001b[0;34m()\u001b[0m\n\u001b[0;32m----> 1\u001b[0;31m \u001b[0mint\u001b[0m\u001b[0;34m(\u001b[0m\u001b[0my\u001b[0m\u001b[0;34m)\u001b[0m\u001b[0;34m\u001b[0m\u001b[0m\n\u001b[0m",
      "\u001b[0;31mValueError\u001b[0m: invalid literal for int() with base 10: 'Hello World.'"
     ]
    }
   ],
   "source": [
    "int(y)"
   ]
  },
  {
   "cell_type": "markdown",
   "metadata": {},
   "source": [
    "Here, we have the second error: a ValueError. The text that follows after the error says that Python was unable to convert a text, in this case, \"Hello World\", to an integer. No surprises here."
   ]
  },
  {
   "cell_type": "markdown",
   "metadata": {},
   "source": [
    "## Data Types\n",
    "\n",
    "So far, we have seen quite a number of data types. How do we store these data types in a structure that is easily accessible, yet manipulable? \n",
    "\n",
    "It turns out that there are many different types of data structures that provides us with a schema for doing so. For example, we have ordered lists, tuples and more. Listed below are typical data structures used:\n",
    "\n",
    "1. List (ordered list)\n",
    "2. Sets\n",
    "3. Dictionaries (hash-tables; key-value pairs)\n",
    "4. Tuples\n",
    "\n",
    "In this subsection, we learn more about the first 3 types of data structures."
   ]
  },
  {
   "cell_type": "markdown",
   "metadata": {},
   "source": [
    "### Lists\n",
    "In what follows, we give a somewhat brief summary of what lists are. Essentially, a list is a collection of variables that has the following properties: \n",
    "\n",
    "1. They are **ordered**\n",
    "2. They are **mutable**\n",
    "3. They allow for duplicate members (taken from [here](https://www.w3schools.com/python/python_lists.asp)). \n",
    "\n",
    "Finally, lists can be constructed in Python using either the square brackets, [ ] or the function, `list()`.\n",
    "\n",
    "We can also change the elements in a list - add new members to a list, remove members from a list and switch elements within the list."
   ]
  },
  {
   "cell_type": "code",
   "execution_count": 15,
   "metadata": {},
   "outputs": [
    {
     "data": {
      "text/plain": [
       "list"
      ]
     },
     "execution_count": 15,
     "metadata": {},
     "output_type": "execute_result"
    }
   ],
   "source": [
    "x = []\n",
    "type(x)"
   ]
  },
  {
   "cell_type": "markdown",
   "metadata": {},
   "source": [
    "One interesting aspect of Python is that it uses zero-indexing i.e. the first element in the list is denoted by the index 0 instead of 1.\n",
    "\n",
    "In the next code block, we demonstrate how to extract an element of the list. We can use the square brackets, [0], to query the 0-th element of the list."
   ]
  },
  {
   "cell_type": "code",
   "execution_count": 16,
   "metadata": {},
   "outputs": [
    {
     "name": "stdout",
     "output_type": "stream",
     "text": [
      "The first element in the list is Alex.\n"
     ]
    }
   ],
   "source": [
    "x = [\"Alex\", \"Bob\", \"Charlie\"] # assign the variable x to a list containing 3 names\n",
    "print(\"The first element in the list is\", x[0] + \".\")"
   ]
  },
  {
   "cell_type": "markdown",
   "metadata": {},
   "source": [
    "Similar to strings, when we concatenate 2 lists together, Python appends the list, `y`, to the back of list `x`.\n",
    "\n",
    "That is, it creates a new list `[[x[0], x[1], ...], [y[0], y[1], ...]`. \n",
    "\n",
    "Thus, the order of the operation matters: x + y yields a different output compared to y + x. Similar to strings as well, we can also multiply lists. Multiplying lists concatenates the lists together."
   ]
  },
  {
   "cell_type": "code",
   "execution_count": 17,
   "metadata": {},
   "outputs": [
    {
     "name": "stdout",
     "output_type": "stream",
     "text": [
      "['Alex', 'Bob', 'Charlie', 'Diane', 'Elaine']\n",
      "5\n"
     ]
    }
   ],
   "source": [
    "y = [\"Diane\", \"Elaine\"] # assigns the variable to a list containing 2 names\n",
    "print(x+y)\n",
    "print(len(x+y))"
   ]
  },
  {
   "cell_type": "code",
   "execution_count": 18,
   "metadata": {},
   "outputs": [
    {
     "data": {
      "text/plain": [
       "['Alex', 'Bob', 'Charlie', 'Alex', 'Bob', 'Charlie']"
      ]
     },
     "execution_count": 18,
     "metadata": {},
     "output_type": "execute_result"
    }
   ],
   "source": [
    "x * 2"
   ]
  },
  {
   "cell_type": "markdown",
   "metadata": {},
   "source": [
    "Lists are a simple way of storing and extracting information. One can easily verify whether an element is in a list, using the list method, `in`. \n",
    "\n",
    "Python checks whether the element is in the list, and returns True if the element is in the list and False otherwise. However, note that this method is **sensitive to capital letters**, as evident from the following examples.\n",
    "\n",
    "Note: Methods and functions are really similar, although there are some fundamental differences between methods and functions. For example, methods are unique to functions. This will be discussed in a future lesson."
   ]
  },
  {
   "cell_type": "code",
   "execution_count": 19,
   "metadata": {},
   "outputs": [
    {
     "name": "stdout",
     "output_type": "stream",
     "text": [
      "['Alex', 'Bob', 'Charlie']\n"
     ]
    }
   ],
   "source": [
    "print(x)"
   ]
  },
  {
   "cell_type": "code",
   "execution_count": 20,
   "metadata": {},
   "outputs": [
    {
     "data": {
      "text/plain": [
       "True"
      ]
     },
     "execution_count": 20,
     "metadata": {},
     "output_type": "execute_result"
    }
   ],
   "source": [
    "\"Alex\" in x"
   ]
  },
  {
   "cell_type": "code",
   "execution_count": 21,
   "metadata": {},
   "outputs": [
    {
     "data": {
      "text/plain": [
       "False"
      ]
     },
     "execution_count": 21,
     "metadata": {},
     "output_type": "execute_result"
    }
   ],
   "source": [
    "\"Bobby\" in x"
   ]
  },
  {
   "cell_type": "code",
   "execution_count": 22,
   "metadata": {},
   "outputs": [
    {
     "data": {
      "text/plain": [
       "False"
      ]
     },
     "execution_count": 22,
     "metadata": {},
     "output_type": "execute_result"
    }
   ],
   "source": [
    "\"alex\" in x"
   ]
  },
  {
   "cell_type": "markdown",
   "metadata": {},
   "source": [
    "Lists can perform a variety of operations, which are referred to as methods (you can check them out [here](https://www.programiz.com/python-programming/methods/list)). We will go through some of them in this lesson:\n",
    "\n",
    "1. append\n",
    "2. extend\n",
    "3. insert\n",
    "4. remove\n",
    "5. reverse\n",
    "6. sort\n",
    "\n",
    "Note that these methods are non-reversible. After applying these methods, the list gets altered. Once you perform an operation (method), the list will be different from what it used to be."
   ]
  },
  {
   "cell_type": "code",
   "execution_count": 23,
   "metadata": {},
   "outputs": [
    {
     "name": "stdout",
     "output_type": "stream",
     "text": [
      "['Alex', 'Bob', 'Charlie']\n",
      "['Alex', 'Bob', 'Charlie', ['Daniel', 'Edgar']]\n"
     ]
    }
   ],
   "source": [
    "# The list method, append, add an element to the list (note than an element of a list can be a list itself)\n",
    "print(x)\n",
    "x.append([\"Daniel\", \"Edgar\"])\n",
    "print(x)"
   ]
  },
  {
   "cell_type": "code",
   "execution_count": 24,
   "metadata": {},
   "outputs": [
    {
     "name": "stdout",
     "output_type": "stream",
     "text": [
      "['Alex', 'Bob', 'Charlie', ['Daniel', 'Edgar']] ['Diane', 'Elaine']\n",
      "['Alex', 'Bob', 'Charlie', ['Daniel', 'Edgar'], 'Diane', 'Elaine']\n"
     ]
    }
   ],
   "source": [
    "# The list method, extend, extends the list to include the elements of another list\n",
    "print(x, y)\n",
    "x.extend(y)\n",
    "print(x)"
   ]
  },
  {
   "cell_type": "code",
   "execution_count": 25,
   "metadata": {},
   "outputs": [
    {
     "name": "stdout",
     "output_type": "stream",
     "text": [
      "['James', 'Alex', 'Bob', 'Charlie', ['Daniel', 'Edgar'], 'Diane', 'Elaine']\n"
     ]
    }
   ],
   "source": [
    "# The list method, insert, inserts an element to the list \n",
    "# (requires 2 arguments - 1st argument is the position, and 2nd argument is the element)\n",
    "x.insert(0, \"James\")\n",
    "print(x)"
   ]
  },
  {
   "cell_type": "code",
   "execution_count": 26,
   "metadata": {},
   "outputs": [
    {
     "name": "stdout",
     "output_type": "stream",
     "text": [
      "['James', 'Alex', 'Bob', 'Charlie', ['Daniel', 'Edgar'], 'Elaine']\n"
     ]
    }
   ],
   "source": [
    "# The list method, remove, removes an element from the list, if it is present\n",
    "x.remove('Diane')\n",
    "print(x)"
   ]
  },
  {
   "cell_type": "code",
   "execution_count": 27,
   "metadata": {},
   "outputs": [
    {
     "name": "stdout",
     "output_type": "stream",
     "text": [
      "['Elaine', ['Daniel', 'Edgar'], 'Charlie', 'Bob', 'Alex', 'James']\n"
     ]
    }
   ],
   "source": [
    "# The list method, reverse, reverses the entire list index\n",
    "x.reverse()\n",
    "print(x)"
   ]
  },
  {
   "cell_type": "code",
   "execution_count": 28,
   "metadata": {},
   "outputs": [
    {
     "ename": "TypeError",
     "evalue": "'<' not supported between instances of 'list' and 'str'",
     "output_type": "error",
     "traceback": [
      "\u001b[0;31m---------------------------------------------------------------------------\u001b[0m",
      "\u001b[0;31mTypeError\u001b[0m                                 Traceback (most recent call last)",
      "\u001b[0;32m<ipython-input-28-293af31052d5>\u001b[0m in \u001b[0;36m<module>\u001b[0;34m()\u001b[0m\n\u001b[1;32m      1\u001b[0m \u001b[0;31m# The list method, sort, sorts the list by numerical or alphabetical order\u001b[0m\u001b[0;34m\u001b[0m\u001b[0;34m\u001b[0m\u001b[0m\n\u001b[0;32m----> 2\u001b[0;31m \u001b[0mx\u001b[0m\u001b[0;34m.\u001b[0m\u001b[0msort\u001b[0m\u001b[0;34m(\u001b[0m\u001b[0;34m)\u001b[0m\u001b[0;34m\u001b[0m\u001b[0m\n\u001b[0m",
      "\u001b[0;31mTypeError\u001b[0m: '<' not supported between instances of 'list' and 'str'"
     ]
    }
   ],
   "source": [
    "# The list method, sort, sorts the list by numerical or alphabetical order\n",
    "x.sort()"
   ]
  },
  {
   "cell_type": "markdown",
   "metadata": {},
   "source": [
    "As it turns out, you cannot sort a list that contains both lists and strings. \n",
    "\n",
    "In-class assignment:\n",
    "\n",
    "Can you sort a list if it has both integers and strings? Use an example to show this."
   ]
  },
  {
   "cell_type": "code",
   "execution_count": 29,
   "metadata": {
    "collapsed": true
   },
   "outputs": [],
   "source": [
    "# Your code here"
   ]
  },
  {
   "cell_type": "code",
   "execution_count": 30,
   "metadata": {},
   "outputs": [
    {
     "name": "stdout",
     "output_type": "stream",
     "text": [
      "['Alex', 'Bob', 'Charlie', 'Elaine', 'James']\n"
     ]
    }
   ],
   "source": [
    "x.remove(['Daniel', 'Edgar'])\n",
    "x.sort()\n",
    "print(x)"
   ]
  },
  {
   "cell_type": "markdown",
   "metadata": {},
   "source": [
    "Practice: Can you `remove` an element if it does not appear in a list?"
   ]
  },
  {
   "cell_type": "markdown",
   "metadata": {},
   "source": [
    "Now that we have some experience with lists, here's a quick in-class assignment:\n",
    "\n",
    "1. Create 2 lists: one that contains the numbers, 3, 5, 7 and another that contains strings \"Helen\", \"Jake\", \"Betty\".\n",
    "2. Add the integer 4 to the first string such that it is the second element in the first list, and the string \"Sarah\" to the second one such that it is the first element in the second string.\n",
    "3. Sort both lists in reverse order (i.e. first string should return [7, 5, 4, 3])\n",
    "4. Append the second list to the first list.\n",
    "5. Check if you can sort them.\n",
    "\n",
    "Note: there are many ways to do this problem."
   ]
  },
  {
   "cell_type": "code",
   "execution_count": 31,
   "metadata": {
    "collapsed": true
   },
   "outputs": [],
   "source": [
    "# Your code here"
   ]
  },
  {
   "cell_type": "markdown",
   "metadata": {},
   "source": [
    "### Sets\n",
    "\n",
    "A set is a collection of variables and has the following properties: \n",
    "1. They are **unordered** \n",
    "2. They are **unindexed**\n",
    "3. They do not not allow for duplicate members. \n",
    "\n",
    "That is, sets contain only **unique** values. To create a set, we can use the curly brackets, { }, or the function, set()."
   ]
  },
  {
   "cell_type": "code",
   "execution_count": 32,
   "metadata": {},
   "outputs": [
    {
     "name": "stdout",
     "output_type": "stream",
     "text": [
      "<class 'set'>\n"
     ]
    }
   ],
   "source": [
    "set_a = set()\n",
    "print(type(set_a))\n",
    "set_a = {\"Apples\", \"Bananas\", \"Oranges\", \"Pears\", \"Apples\"}"
   ]
  },
  {
   "cell_type": "markdown",
   "metadata": {},
   "source": [
    "In the previous code block, we created a set with 5 elements, but the element \"Apples\" appears twice in the set. \n",
    "\n",
    "Noting that sets contain only unique values, we should expect `set_a` to have 4 elements"
   ]
  },
  {
   "cell_type": "code",
   "execution_count": 33,
   "metadata": {},
   "outputs": [
    {
     "data": {
      "text/plain": [
       "{'Apples', 'Bananas', 'Oranges', 'Pears'}"
      ]
     },
     "execution_count": 33,
     "metadata": {},
     "output_type": "execute_result"
    }
   ],
   "source": [
    "set_a"
   ]
  },
  {
   "cell_type": "markdown",
   "metadata": {},
   "source": [
    "Similar to lists, one can check whether an element is in the set using the \"in\" function, but note that it is case-sensitive."
   ]
  },
  {
   "cell_type": "code",
   "execution_count": 34,
   "metadata": {},
   "outputs": [
    {
     "name": "stdout",
     "output_type": "stream",
     "text": [
      "True\n",
      "False\n"
     ]
    }
   ],
   "source": [
    "print(\"Bananas\" in set_a)\n",
    "print(\"bananas\" in set_a)"
   ]
  },
  {
   "cell_type": "markdown",
   "metadata": {},
   "source": [
    "To add an element to the set, we can use the set method, \"add\". To add more than one element, we can use the set method, \"update\", to update a set with **another set**. To check how many elements the set contains, we can use the function, `len()`."
   ]
  },
  {
   "cell_type": "code",
   "execution_count": 35,
   "metadata": {
    "scrolled": true
   },
   "outputs": [
    {
     "data": {
      "text/plain": [
       "{'Apples', 'Bananas', 'Oranges', 'Pears', 'Watermelons'}"
      ]
     },
     "execution_count": 35,
     "metadata": {},
     "output_type": "execute_result"
    }
   ],
   "source": [
    "set_a.add(\"Watermelons\")\n",
    "set_a"
   ]
  },
  {
   "cell_type": "code",
   "execution_count": 36,
   "metadata": {
    "scrolled": true
   },
   "outputs": [
    {
     "data": {
      "text/plain": [
       "{'Apples', 'Bananas', 'Durians', 'Mangoes', 'Oranges', 'Pears', 'Watermelons'}"
      ]
     },
     "execution_count": 36,
     "metadata": {},
     "output_type": "execute_result"
    }
   ],
   "source": [
    "# Note that the elements in the set may not retain their index\n",
    "set_b = {\"Mangoes\", \"Durians\"}\n",
    "set_a.update(set_b)\n",
    "set_a"
   ]
  },
  {
   "cell_type": "code",
   "execution_count": 37,
   "metadata": {},
   "outputs": [
    {
     "data": {
      "text/plain": [
       "7"
      ]
     },
     "execution_count": 37,
     "metadata": {},
     "output_type": "execute_result"
    }
   ],
   "source": [
    "len(set_a)"
   ]
  },
  {
   "cell_type": "markdown",
   "metadata": {},
   "source": [
    "What if we were to add an element that is already present in the set?"
   ]
  },
  {
   "cell_type": "code",
   "execution_count": 38,
   "metadata": {},
   "outputs": [
    {
     "data": {
      "text/plain": [
       "{'Apples', 'Bananas', 'Durians', 'Mangoes', 'Oranges', 'Pears', 'Watermelons'}"
      ]
     },
     "execution_count": 38,
     "metadata": {},
     "output_type": "execute_result"
    }
   ],
   "source": [
    "set_a.add(\"Durians\")\n",
    "set_a"
   ]
  },
  {
   "cell_type": "code",
   "execution_count": 39,
   "metadata": {},
   "outputs": [
    {
     "data": {
      "text/plain": [
       "7"
      ]
     },
     "execution_count": 39,
     "metadata": {},
     "output_type": "execute_result"
    }
   ],
   "source": [
    "len(set_a)"
   ]
  },
  {
   "cell_type": "markdown",
   "metadata": {},
   "source": [
    "As it turns out, adding the string, \"Durians\" does not change the set in any way, since the string **already** appears in the set. This is one of the key differences between sets and lists. Another difference (as we have previously discussed) is that sets may not retain their structure as they are constructed, but lists do.\n",
    "\n",
    "---\n",
    "\n",
    "To remove an element from the set, we can use the set method, \"remove\". However, if an element does not exist in the set, this will raise an error. \n",
    "\n",
    "For that reason, some prefer to use the set method, \"discard\". Below, we show both methods."
   ]
  },
  {
   "cell_type": "code",
   "execution_count": 40,
   "metadata": {},
   "outputs": [
    {
     "ename": "KeyError",
     "evalue": "'Jackfruits'",
     "output_type": "error",
     "traceback": [
      "\u001b[0;31m---------------------------------------------------------------------------\u001b[0m",
      "\u001b[0;31mKeyError\u001b[0m                                  Traceback (most recent call last)",
      "\u001b[0;32m<ipython-input-40-bd44809e8927>\u001b[0m in \u001b[0;36m<module>\u001b[0;34m()\u001b[0m\n\u001b[0;32m----> 1\u001b[0;31m \u001b[0mset_a\u001b[0m\u001b[0;34m.\u001b[0m\u001b[0mremove\u001b[0m\u001b[0;34m(\u001b[0m\u001b[0;34m\"Jackfruits\"\u001b[0m\u001b[0;34m)\u001b[0m\u001b[0;34m\u001b[0m\u001b[0m\n\u001b[0m",
      "\u001b[0;31mKeyError\u001b[0m: 'Jackfruits'"
     ]
    }
   ],
   "source": [
    "set_a.remove(\"Jackfruits\")"
   ]
  },
  {
   "cell_type": "markdown",
   "metadata": {},
   "source": [
    "Since the element \"Jackfruits\" does not appear in the set, this raises a KeyError. What does the \"KeyError\" here refer to? In Python, \"keys\" and \"elements\" in a set are used interchangeably - there is an error with regard to the removing the element from the list."
   ]
  },
  {
   "cell_type": "code",
   "execution_count": 41,
   "metadata": {
    "scrolled": true
   },
   "outputs": [
    {
     "name": "stdout",
     "output_type": "stream",
     "text": [
      "{'Durians', 'Oranges', 'Watermelons', 'Pears', 'Mangoes', 'Bananas', 'Apples'}\n"
     ]
    }
   ],
   "source": [
    "set_a.discard(\"Jackfruits\")\n",
    "print(set_a)"
   ]
  },
  {
   "cell_type": "markdown",
   "metadata": {},
   "source": [
    "To learn more about sets, you can refer to the link [here](https://www.w3schools.com/python/python_sets.asp)."
   ]
  },
  {
   "cell_type": "markdown",
   "metadata": {},
   "source": [
    "### Dictionaries\n",
    "\n",
    "A dictionary is a collection of variables that have the following properties:\n",
    "1. They are **unordered**\n",
    "2. They are **changeable**\n",
    "3. They are **indexed** \n",
    "\n",
    "In Python dictionaries are also written with curly brackets _{ }_, but they contain 2 types of elements: keys and values. \n",
    "\n",
    "Dictionaries are perhaps the most useful of all data structures, since we are able store 2 types of information with one data structure. \n",
    "\n",
    "For example, a teacher may be keen to store the test results of students. Then, the keys are the names of the students, while the values are their test results."
   ]
  },
  {
   "cell_type": "code",
   "execution_count": 42,
   "metadata": {
    "collapsed": true
   },
   "outputs": [],
   "source": [
    "# We begin by defining a dictionary: \"height\", that contains 6 key-value pairs \n",
    "# where keys are names, and values are height\n",
    "\n",
    "height = {\n",
    "    \"John\": 175,\n",
    "    \"Marie\": 165,\n",
    "    \"Jack\": 190,\n",
    "    \"Stacy\": 177,\n",
    "    \"Dana\": 152,\n",
    "    \"Jackson\": 168\n",
    "}"
   ]
  },
  {
   "cell_type": "code",
   "execution_count": 43,
   "metadata": {},
   "outputs": [
    {
     "data": {
      "text/plain": [
       "152"
      ]
     },
     "execution_count": 43,
     "metadata": {},
     "output_type": "execute_result"
    }
   ],
   "source": [
    "# To access the height (value) of a certain individual, we can use the key (name of the individual)\n",
    "height['Dana']"
   ]
  },
  {
   "cell_type": "code",
   "execution_count": 44,
   "metadata": {},
   "outputs": [
    {
     "data": {
      "text/plain": [
       "True"
      ]
     },
     "execution_count": 44,
     "metadata": {},
     "output_type": "execute_result"
    }
   ],
   "source": [
    "# To check if a name is in the dictionary, we can use the \"in\" function\n",
    "'Stacy' in height"
   ]
  },
  {
   "cell_type": "code",
   "execution_count": 45,
   "metadata": {},
   "outputs": [
    {
     "data": {
      "text/plain": [
       "False"
      ]
     },
     "execution_count": 45,
     "metadata": {},
     "output_type": "execute_result"
    }
   ],
   "source": [
    "\"Daniel\" in height"
   ]
  },
  {
   "cell_type": "code",
   "execution_count": 46,
   "metadata": {},
   "outputs": [
    {
     "data": {
      "text/plain": [
       "dict_keys(['John', 'Marie', 'Jack', 'Stacy', 'Dana', 'Jackson'])"
      ]
     },
     "execution_count": 46,
     "metadata": {},
     "output_type": "execute_result"
    }
   ],
   "source": [
    "# To check the names of the dictionary, we can use the \"keys\" method\n",
    "height.keys()"
   ]
  },
  {
   "cell_type": "code",
   "execution_count": 47,
   "metadata": {},
   "outputs": [
    {
     "data": {
      "text/plain": [
       "dict_values([175, 165, 190, 177, 152, 168])"
      ]
     },
     "execution_count": 47,
     "metadata": {},
     "output_type": "execute_result"
    }
   ],
   "source": [
    "# Similarly, we can do the same for values using the \"values\" method\n",
    "height.values()"
   ]
  },
  {
   "cell_type": "markdown",
   "metadata": {},
   "source": [
    "In the previous 2 code blocks, they returned an object `dict_values`. One can coerce these objects to be lists, by using the function, `list()`"
   ]
  },
  {
   "cell_type": "code",
   "execution_count": 48,
   "metadata": {},
   "outputs": [
    {
     "data": {
      "text/plain": [
       "['John', 'Marie', 'Jack', 'Stacy', 'Dana', 'Jackson']"
      ]
     },
     "execution_count": 48,
     "metadata": {},
     "output_type": "execute_result"
    }
   ],
   "source": [
    "list(height.keys())"
   ]
  },
  {
   "cell_type": "code",
   "execution_count": 49,
   "metadata": {},
   "outputs": [
    {
     "data": {
      "text/plain": [
       "157"
      ]
     },
     "execution_count": 49,
     "metadata": {},
     "output_type": "execute_result"
    }
   ],
   "source": [
    "# We can also change the values of a specific key. For example, suppose Dana grew taller by 5cm this year.\n",
    "height['Dana'] += 5\n",
    "height['Dana']"
   ]
  },
  {
   "cell_type": "code",
   "execution_count": 50,
   "metadata": {},
   "outputs": [
    {
     "data": {
      "text/plain": [
       "{'Dana': 157,\n",
       " 'Jack': 190,\n",
       " 'Jackson': 168,\n",
       " 'John': 175,\n",
       " 'Luke': 180,\n",
       " 'Marie': 165,\n",
       " 'Stacy': 177}"
      ]
     },
     "execution_count": 50,
     "metadata": {},
     "output_type": "execute_result"
    }
   ],
   "source": [
    "# In addition, we can add new keys to the dictionary\n",
    "height[\"Luke\"] = 180\n",
    "height"
   ]
  },
  {
   "cell_type": "code",
   "execution_count": 51,
   "metadata": {},
   "outputs": [
    {
     "data": {
      "text/plain": [
       "7"
      ]
     },
     "execution_count": 51,
     "metadata": {},
     "output_type": "execute_result"
    }
   ],
   "source": [
    "len(height)"
   ]
  },
  {
   "cell_type": "code",
   "execution_count": 52,
   "metadata": {},
   "outputs": [
    {
     "data": {
      "text/plain": [
       "{'Dana': 157,\n",
       " 'Jack': 190,\n",
       " 'John': 175,\n",
       " 'Luke': 180,\n",
       " 'Marie': 165,\n",
       " 'Stacy': 177}"
      ]
     },
     "execution_count": 52,
     "metadata": {},
     "output_type": "execute_result"
    }
   ],
   "source": [
    "# To remove a key-value pair from the dictionary, we can use the \"pop\" method\n",
    "height.pop(\"Jackson\")\n",
    "height"
   ]
  },
  {
   "cell_type": "code",
   "execution_count": 53,
   "metadata": {},
   "outputs": [
    {
     "ename": "KeyError",
     "evalue": "'Lucy'",
     "output_type": "error",
     "traceback": [
      "\u001b[0;31m---------------------------------------------------------------------------\u001b[0m",
      "\u001b[0;31mKeyError\u001b[0m                                  Traceback (most recent call last)",
      "\u001b[0;32m<ipython-input-53-6e9370734d09>\u001b[0m in \u001b[0;36m<module>\u001b[0;34m()\u001b[0m\n\u001b[0;32m----> 1\u001b[0;31m \u001b[0mheight\u001b[0m\u001b[0;34m.\u001b[0m\u001b[0mpop\u001b[0m\u001b[0;34m(\u001b[0m\u001b[0;34m\"Lucy\"\u001b[0m\u001b[0;34m)\u001b[0m\u001b[0;34m\u001b[0m\u001b[0m\n\u001b[0m",
      "\u001b[0;31mKeyError\u001b[0m: 'Lucy'"
     ]
    }
   ],
   "source": [
    "height.pop(\"Lucy\")"
   ]
  },
  {
   "cell_type": "code",
   "execution_count": 54,
   "metadata": {},
   "outputs": [
    {
     "data": {
      "text/plain": [
       "{'Dana': 157, 'John': 175, 'Luke': 180, 'Marie': 165, 'Stacy': 177}"
      ]
     },
     "execution_count": 54,
     "metadata": {},
     "output_type": "execute_result"
    }
   ],
   "source": [
    "# Alternatively, one can use the del (which stands for delete) function\n",
    "del height['Jack']\n",
    "height"
   ]
  },
  {
   "cell_type": "code",
   "execution_count": 55,
   "metadata": {},
   "outputs": [
    {
     "ename": "KeyError",
     "evalue": "'Lucy'",
     "output_type": "error",
     "traceback": [
      "\u001b[0;31m---------------------------------------------------------------------------\u001b[0m",
      "\u001b[0;31mKeyError\u001b[0m                                  Traceback (most recent call last)",
      "\u001b[0;32m<ipython-input-55-1305b26a9200>\u001b[0m in \u001b[0;36m<module>\u001b[0;34m()\u001b[0m\n\u001b[0;32m----> 1\u001b[0;31m \u001b[0;32mdel\u001b[0m \u001b[0mheight\u001b[0m\u001b[0;34m[\u001b[0m\u001b[0;34m\"Lucy\"\u001b[0m\u001b[0;34m]\u001b[0m\u001b[0;34m\u001b[0m\u001b[0m\n\u001b[0m",
      "\u001b[0;31mKeyError\u001b[0m: 'Lucy'"
     ]
    }
   ],
   "source": [
    "del height[\"Lucy\"]"
   ]
  },
  {
   "cell_type": "markdown",
   "metadata": {},
   "source": [
    "In-class assignment:\n",
    "\n",
    "1. Create a dictionary, called \"weight\", using the follow dataset:\n",
    "\n",
    "|Name  | Weight|\n",
    "|------|-------|\n",
    "|Jane  | 46.0  |\n",
    "|John  | 75.2  |\n",
    "|Tina  | 50.2  |\n",
    "|Lena  | 48.5  |\n",
    "|Kane  | 78.2  |\n",
    "|Ryan  | 69.7  |\n",
    "\n",
    "2. Suppose data for a new person (Kate) is available, and she weighs 43.0 kg. Add this information in.\n",
    "3. What is the average weight for the males in the group? (Hint: the mean function will be useful: mean( ))\n",
    "4. What about the average weight for the females?\n",
    "\n",
    "Suppose information on the height of the individuals is given:\n",
    "\n",
    "|Name  | Height |\n",
    "|------|------- |\n",
    "|Jane  | 155.0  |\n",
    "|John  | 181.2  |\n",
    "|Tina  | 172.6  |\n",
    "|Lena  | 162.3  |\n",
    "|Kane  | 174.8  |\n",
    "|Ryan  | 172.3  |\n",
    "|Kate  | 151.8  |\n",
    "\n",
    "1. Create another dictionary, \"height\" using the above dataset. Note that with the inclusion of this dataset, we have information on the height and weight of the 7 individuals.\n",
    "2. Create a new dictionary, \"data\" which contains 2 keys (height and weight), where each key returns a value (the dictionary)."
   ]
  },
  {
   "cell_type": "code",
   "execution_count": 56,
   "metadata": {
    "collapsed": true
   },
   "outputs": [],
   "source": [
    "# Please do your in-class assignment here\n"
   ]
  },
  {
   "cell_type": "markdown",
   "metadata": {},
   "source": [
    "### Application of Data Structures (Prelude to the next module)\n",
    "In this section of the class, I will show an example of why lists and dictionaries are so important and powerful in computing. Consider the following problem, where we have a specific text, and we need to find the number of times each word appears in the text (suppose we have 10,000 texts with 10,000 words each). This may be because we expect words that appear more frequently to be more important or provide more information about the text.\n",
    "\n",
    "For the sake of simplicity, we focus on only 1 text, but it is entirely plausible to have 10,000 texts to analyse. Our approach here is to break the problem down into smaller problems which are easier to solve, and then combine the solutions to the smaller problems and check if we can find a \"global\" solution.\n",
    "\n",
    "Here, you will also see a glimpse of function definition and for-loops (both to be studied in the second module)."
   ]
  },
  {
   "cell_type": "markdown",
   "metadata": {},
   "source": [
    "Let's proceed to work on converting our letters to lower-case, and remove punctuations."
   ]
  },
  {
   "cell_type": "code",
   "execution_count": 57,
   "metadata": {},
   "outputs": [
    {
     "name": "stdout",
     "output_type": "stream",
     "text": [
      "\n",
      "Why should you learn to write programs?\n",
      "\n",
      "Writing programs (or programming) is a very creative \n",
      "and rewarding activity.  You can write programs for \n",
      "many reasons, ranging from making your living to solving\n",
      "a difficult data analysis problem to having fun to helping\n",
      "someone else solve a problem.  This\n"
     ]
    }
   ],
   "source": [
    "# Read and save text data to variable (text)\n",
    "f = open(\"text/intro.txt\", \"r\")\n",
    "text = f.read()\n",
    "print(text[:300])\n",
    "f.close()"
   ]
  },
  {
   "cell_type": "code",
   "execution_count": 58,
   "metadata": {
    "collapsed": true
   },
   "outputs": [],
   "source": [
    "# Data cleaning using a function\n",
    "def data_cleaning(text):\n",
    "    '''\n",
    "    This function strips input of whitespaces, converts it into lower case and removes all punctuation from input.\n",
    "    In addition, it returns the text as a list by splitting on \"spaces\".\n",
    "    \n",
    "    Input: str\n",
    "    Output: list\n",
    "    '''\n",
    "    text = text.strip() # Remove whitespaces from the text (white spaces are \\n, \\t)\n",
    "    text = text.lower() # Converts the text to lower-case\n",
    "\n",
    "    # Remove punctuations\n",
    "    punctuations = '''!()-[]{};:'\"\\,<>./?@#$%^&*_~''' # provide the punctuations\n",
    "    newtext = \"\"\n",
    "    for char in text: # iterate over each character in the text and if it is a punctuation, remove it.\n",
    "        if char in punctuations: continue\n",
    "        else: newtext += char\n",
    "\n",
    "    text_list = newtext.split() # converts the text to a list by splitting on the space between 2 words\n",
    "    return text_list\n",
    "\n",
    "text_list = data_cleaning(text)"
   ]
  },
  {
   "cell_type": "code",
   "execution_count": 59,
   "metadata": {},
   "outputs": [
    {
     "data": {
      "text/plain": [
       "['why',\n",
       " 'should',\n",
       " 'you',\n",
       " 'learn',\n",
       " 'to',\n",
       " 'write',\n",
       " 'programs',\n",
       " 'writing',\n",
       " 'programs',\n",
       " 'or']"
      ]
     },
     "execution_count": 59,
     "metadata": {},
     "output_type": "execute_result"
    }
   ],
   "source": [
    "# The output from the previous function returns a list of strings that are all in lower-case\n",
    "text_list[:10]"
   ]
  },
  {
   "cell_type": "code",
   "execution_count": 60,
   "metadata": {
    "collapsed": true
   },
   "outputs": [],
   "source": [
    "# Create a dictionary with words as key and values as the number of times the word appears in the list\n",
    "word_count = {}\n",
    "\n",
    "for word in text_list: # Loop through the words in the list, and keep count of each word by creating a dictionary\n",
    "    if word in word_count.keys(): word_count[word] += 1\n",
    "    else: word_count[word] = 1"
   ]
  },
  {
   "cell_type": "code",
   "execution_count": 61,
   "metadata": {
    "collapsed": true
   },
   "outputs": [],
   "source": [
    "# Sort the dictionary by number of times a word appears\n",
    "import operator\n",
    "sorted_word_count = sorted(word_count.items(), key=operator.itemgetter(1), reverse=True)"
   ]
  },
  {
   "cell_type": "code",
   "execution_count": 62,
   "metadata": {},
   "outputs": [
    {
     "data": {
      "text/plain": [
       "[('the', 249),\n",
       " ('to', 205),\n",
       " ('a', 172),\n",
       " ('and', 164),\n",
       " ('you', 152),\n",
       " ('is', 114),\n",
       " ('of', 103),\n",
       " ('python', 103),\n",
       " ('in', 81),\n",
       " ('it', 76),\n",
       " ('that', 73),\n",
       " ('we', 67),\n",
       " ('for', 52),\n",
       " ('are', 43),\n",
       " ('be', 42),\n",
       " ('program', 41),\n",
       " ('language', 41),\n",
       " ('your', 39),\n",
       " ('with', 37),\n",
       " ('will', 34),\n",
       " ('as', 31),\n",
       " ('at', 31),\n",
       " ('or', 29),\n",
       " ('have', 27),\n",
       " ('programs', 26),\n",
       " ('our', 25),\n",
       " ('when', 25),\n",
       " ('this', 24),\n",
       " ('but', 24),\n",
       " ('write', 23),\n",
       " ('on', 23),\n",
       " ('can', 22),\n",
       " ('what', 21),\n",
       " ('computer', 21),\n",
       " ('very', 20),\n",
       " ('how', 20),\n",
       " ('programming', 19),\n",
       " ('these', 19),\n",
       " ('use', 19),\n",
       " ('words', 18),\n",
       " ('not', 18),\n",
       " ('more', 18),\n",
       " ('from', 17),\n",
       " ('so', 17),\n",
       " ('machine', 17),\n",
       " ('need', 16),\n",
       " ('problem', 15),\n",
       " ('do', 15),\n",
       " ('if', 15),\n",
       " ('word', 15)]"
      ]
     },
     "execution_count": 62,
     "metadata": {},
     "output_type": "execute_result"
    }
   ],
   "source": [
    "# Get top 50 words that appears in the text\n",
    "sorted_word_count[:50]"
   ]
  },
  {
   "cell_type": "markdown",
   "metadata": {},
   "source": [
    "## Conclusion\n",
    "\n",
    "At the end of this lesson, we have discussed the following:\n",
    "\n",
    "1. Different types of data types\n",
    "2. Different types of data structures\n",
    "3. How to use these data types and structures to store data we are interested in"
   ]
  },
  {
   "cell_type": "code",
   "execution_count": null,
   "metadata": {
    "collapsed": true
   },
   "outputs": [],
   "source": []
  }
 ],
 "metadata": {
  "kernelspec": {
   "display_name": "Python 3",
   "language": "python",
   "name": "python3"
  },
  "language_info": {
   "codemirror_mode": {
    "name": "ipython",
    "version": 3
   },
   "file_extension": ".py",
   "mimetype": "text/x-python",
   "name": "python",
   "nbconvert_exporter": "python",
   "pygments_lexer": "ipython3",
   "version": "3.6.3"
  }
 },
 "nbformat": 4,
 "nbformat_minor": 2
}
