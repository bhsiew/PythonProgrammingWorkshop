{
 "cells": [
  {
   "cell_type": "markdown",
   "metadata": {},
   "source": [
    "# SMU Master of Science (Economics) Programming Workshop in Python\n",
    "\n",
    "\n",
    "## Introduction\n",
    "In today's class, we will be learning more about Loops, Conditional Statements, Functions and Classes. Previously, we have seen some simple applications of loops and functions. Today, we will learn about them in more detail.\n",
    "\n",
    "We being our discussion with loops."
   ]
  },
  {
   "cell_type": "markdown",
   "metadata": {},
   "source": [
    "### Loops\n",
    "\n",
    "There are typically 2 types of loops: \"For\" and \"While\" loops.\n",
    "\n",
    "\"For\" loops are traditionally used when you have a block of code which you want to repeat a fixed number of times. The Python \"for\" statement iterates over the members of a sequence in order, executing the block each time, while \"while\" loops are typically used when a condition needs to be checked each iteration, or to repeat a block of code forever.\n",
    "\n",
    "We open the section with a few examples for both types of loops to get a feel of what programmers aim to do when they use such loops."
   ]
  },
  {
   "cell_type": "code",
   "execution_count": 1,
   "metadata": {},
   "outputs": [
    {
     "name": "stdout",
     "output_type": "stream",
     "text": [
      "There are 5 names with more than 4 letters.\n"
     ]
    }
   ],
   "source": [
    "# Suppose we have a list of names, and we want to find out how many names have more than 4 letters\n",
    "names = ['James', 'Daniel', 'Jane', 'Ahmad', 'Tan', 'Clarissa', 'Douglas', 'Gina']\n",
    "\n",
    "names_more_than_4_letters = 0\n",
    "for name in names:\n",
    "    if len(name) > 4: names_more_than_4_letters += 1\n",
    "\n",
    "print('There are %d names with more than 4 letters.' % names_more_than_4_letters)"
   ]
  },
  {
   "cell_type": "code",
   "execution_count": 2,
   "metadata": {},
   "outputs": [
    {
     "name": "stdout",
     "output_type": "stream",
     "text": [
      "James has a height of more than 160cm.\n",
      "Clarissa has a height of more than 160cm.\n",
      "Douglas has a height of more than 160cm.\n",
      "Gina has a height of more than 160cm.\n"
     ]
    }
   ],
   "source": [
    "# We can loop over a dictionary too\n",
    "# Suppose we are interested in finding out the names of those who are taller than 160cm\n",
    "height = {'James': 180, 'Jane': 157, 'Clarissa': 162, 'Douglas': 172, 'Gina': 175}\n",
    "\n",
    "# for name in height.keys():\n",
    "#     print(name)\n",
    "    \n",
    "for name in height.keys():\n",
    "    if height[name] > 160:\n",
    "        print(name, 'has a height of more than 160cm.')"
   ]
  },
  {
   "cell_type": "code",
   "execution_count": 3,
   "metadata": {},
   "outputs": [
    {
     "data": {
      "text/plain": [
       "27730"
      ]
     },
     "execution_count": 3,
     "metadata": {},
     "output_type": "execute_result"
    }
   ],
   "source": [
    "# Suppose we want to sum integers from 1 to n\n",
    "n = 235\n",
    "count = 0\n",
    "\n",
    "total = 0\n",
    "while count <= n: # condition for while loop to \"stop looping\"\n",
    "    total += count\n",
    "    count += 1\n",
    "\n",
    "total"
   ]
  },
  {
   "cell_type": "code",
   "execution_count": 4,
   "metadata": {},
   "outputs": [
    {
     "data": {
      "text/plain": [
       "27730"
      ]
     },
     "execution_count": 4,
     "metadata": {},
     "output_type": "execute_result"
    }
   ],
   "source": [
    "# Of course, this can be done with a for-loop as well\n",
    "n = 235\n",
    "\n",
    "total = 0\n",
    "for num in range(n+1):\n",
    "    total += num\n",
    "\n",
    "total"
   ]
  },
  {
   "cell_type": "code",
   "execution_count": 5,
   "metadata": {},
   "outputs": [
    {
     "data": {
      "text/plain": [
       "27730"
      ]
     },
     "execution_count": 5,
     "metadata": {},
     "output_type": "execute_result"
    }
   ],
   "source": [
    "# Fastest way to do this through a list comprehension (not discussed)\n",
    "n = 235\n",
    "sum([num for num in range(n+1)])"
   ]
  },
  {
   "cell_type": "markdown",
   "metadata": {},
   "source": [
    "Besides lists, one can also loop through strings; each character in the string will be read once. In addition, we can use the range function on an integer (say, n) to loop through the numbers 0 to n-1. Below, we show how both methods are done:"
   ]
  },
  {
   "cell_type": "code",
   "execution_count": 6,
   "metadata": {},
   "outputs": [
    {
     "name": "stdout",
     "output_type": "stream",
     "text": [
      "B\n",
      "e\n",
      "t\n",
      "t\n",
      "y\n"
     ]
    }
   ],
   "source": [
    "new_string = 'Betty'\n",
    "for char in new_string:\n",
    "    print(char)"
   ]
  },
  {
   "cell_type": "code",
   "execution_count": 7,
   "metadata": {
    "scrolled": true
   },
   "outputs": [
    {
     "name": "stdout",
     "output_type": "stream",
     "text": [
      "0\n",
      "1\n",
      "2\n",
      "3\n",
      "4\n",
      "5\n",
      "6\n",
      "7\n",
      "8\n",
      "9\n"
     ]
    }
   ],
   "source": [
    "num = 10\n",
    "for i in range(num):\n",
    "    print(i)"
   ]
  },
  {
   "cell_type": "markdown",
   "metadata": {},
   "source": [
    "At times, one may find it useful to keep the index of the list when looping over. While one may use counts to keep count, we can also use the function enumerate. The function enumerate (which works only in a loop) returns the element and its index of each iteration."
   ]
  },
  {
   "cell_type": "code",
   "execution_count": 8,
   "metadata": {},
   "outputs": [
    {
     "name": "stdout",
     "output_type": "stream",
     "text": [
      "Arthur is index number 0 in the class list.\n",
      "Bob is index number 1 in the class list.\n",
      "Charlie is index number 2 in the class list.\n",
      "Dennis is index number 3 in the class list.\n"
     ]
    }
   ],
   "source": [
    "name_list = ['Arthur', 'Bob', 'Charlie', 'Dennis']\n",
    "for idx, name in enumerate(name_list):\n",
    "    print(name, 'is index number %d in the class list.' % idx)"
   ]
  },
  {
   "cell_type": "code",
   "execution_count": 9,
   "metadata": {},
   "outputs": [
    {
     "name": "stdout",
     "output_type": "stream",
     "text": [
      "Arthur is index number 0 in the class list.\n",
      "Bob is index number 1 in the class list.\n",
      "Charlie is index number 2 in the class list.\n",
      "Dennis is index number 3 in the class list.\n"
     ]
    }
   ],
   "source": [
    "count = 0\n",
    "for name in name_list:\n",
    "    print(name, 'is index number %d in the class list.' % count)\n",
    "    count += 1"
   ]
  },
  {
   "cell_type": "markdown",
   "metadata": {},
   "source": [
    "### Conditional Statements\n",
    "\n",
    "Conditional statements are executed whenever a condition is satisfied. We typically do this in the form of an if-else statement, where a specific chunk of code is executed only if the condition for it to be executed is met. Otherwise, the chunk of code is skipped. \n",
    "\n",
    "Here's an image representation of an if-only statement:\n",
    "\n",
    "![](images/flowchart_if_only.png \"If-Only Statements\")\n",
    "\n",
    "\n",
    "Here's an image representation of an if-else statement:\n",
    "\n",
    "![](images/flowchart_if_else.png \"If-Else Statements\")\n",
    "\n",
    "Application:\n",
    "Given some data, one might, for example, be interested to subset the data based on a person's test result to identify who might require additional tuition. In that case, one way to do so will be to use conditional statements."
   ]
  },
  {
   "cell_type": "code",
   "execution_count": 10,
   "metadata": {
    "collapsed": true
   },
   "outputs": [],
   "source": [
    "# In this example, we are given a dictionary of data where the keys are the names of the students and the values are\n",
    "# the test results of the students. As the teacher, you are interested in those that score below x marks \n",
    "# which can be defined by user.\n",
    "\n",
    "test_results = {\n",
    "    'Amy': 68,\n",
    "    'Jason': 41,\n",
    "    'Priscilla': 48,\n",
    "    'Daniel': 89,\n",
    "    'Katie': 95,\n",
    "    'Ryan': 28,\n",
    "    'Dennis': 64\n",
    "}"
   ]
  },
  {
   "cell_type": "code",
   "execution_count": 11,
   "metadata": {},
   "outputs": [
    {
     "name": "stdout",
     "output_type": "stream",
     "text": [
      "Amy has scored above 50 marks. Good job!\n",
      "Jason has scored below 50 marks.\n",
      "Priscilla has scored below 50 marks.\n",
      "Daniel has scored above 50 marks. Good job!\n",
      "Katie has scored above 50 marks. Good job!\n",
      "Ryan has scored below 50 marks.\n",
      "Dennis has scored above 50 marks. Good job!\n"
     ]
    }
   ],
   "source": [
    "# One way to find out who scored below x is to use conditional statements. Below, we show 1 way to do thisL\n",
    "pass_score = 50\n",
    "\n",
    "for name in test_results.keys():\n",
    "    if test_results[name] < pass_score:\n",
    "        print(name, 'has scored below %d marks.' % pass_score)\n",
    "    else:\n",
    "        print(name, 'has scored above %d marks. Good job!' % pass_score)"
   ]
  },
  {
   "cell_type": "markdown",
   "metadata": {},
   "source": [
    "It appears that Jason, Priscilla and Ryan require additional attention and possibly tuition. Suppose we want to give more tuition to students who are failing, and reward students who are performing well (scoring above 80). How we can write this in 1 block of code? We can use the 'elif' conditional statement, which stands for else-if."
   ]
  },
  {
   "cell_type": "code",
   "execution_count": 12,
   "metadata": {
    "scrolled": true
   },
   "outputs": [
    {
     "name": "stdout",
     "output_type": "stream",
     "text": [
      "Amy has scored 68 marks.\n",
      "Jason has scored below 50 marks. Please come back during summer for tuition.\n",
      "Priscilla has scored below 50 marks. Please come back during summer for tuition.\n",
      "Daniel has scored above 80 marks. Well done!\n",
      "Katie has scored above 80 marks. Well done!\n",
      "Ryan has scored below 50 marks. Please come back during summer for tuition.\n",
      "Dennis has scored 64 marks.\n"
     ]
    }
   ],
   "source": [
    "good_score = 80\n",
    "\n",
    "for name in test_results.keys():\n",
    "    if test_results[name] < pass_score:\n",
    "        print(name, 'has scored below %d marks. Please come back during summer for tuition.' % pass_score)\n",
    "    elif test_results[name] >= good_score:\n",
    "        print(name, 'has scored above %d marks. Well done!' % good_score)\n",
    "    else:\n",
    "        print(name, 'has scored %d marks.' % test_results[name])"
   ]
  },
  {
   "cell_type": "markdown",
   "metadata": {},
   "source": [
    "There's no limit as to how many 'elif' statements we choose to include in the loop itself. One can add as many as one needs, but it comes at the expense of ease to read. \n",
    "\n",
    "Another useful concept is that of 'continue' and 'break'. The continue function is called when you wish to loop over to the next iteration when certain conditions are not met, while the break function exits the loop once some condition is met. This is best illustrated by means of an example."
   ]
  },
  {
   "cell_type": "code",
   "execution_count": 13,
   "metadata": {},
   "outputs": [
    {
     "data": {
      "text/plain": [
       "['1996',\n",
       " '2019',\n",
       " '2018',\n",
       " '2016',\n",
       " '1994',\n",
       " '1997',\n",
       " '2008',\n",
       " '1992',\n",
       " '2090',\n",
       " '2011',\n",
       " '2009',\n",
       " '1993',\n",
       " '1995']"
      ]
     },
     "execution_count": 13,
     "metadata": {},
     "output_type": "execute_result"
    }
   ],
   "source": [
    "# Suppose we are interested in converting the dates to YYYY format from YY format\n",
    "# We also know that the list contains data from 1990 - 2019\n",
    "dates = ['1996', '2019', '18', '16', '94', '1997', '08', '92', '90', '2011', '09', '1993', '95']\n",
    "\n",
    "for idx, date in enumerate(dates):\n",
    "    if len(date) == 4: continue # Go to the next loop; there's nothing to do here (what happens if we omit this?)\n",
    "    else:\n",
    "        if int(date) + 10 > 100: newdate = '19' + date\n",
    "        else: newdate = '20' + date\n",
    "    dates[idx] = newdate\n",
    "    \n",
    "dates"
   ]
  },
  {
   "cell_type": "markdown",
   "metadata": {},
   "source": [
    "### Loops + Conditional Statements\n",
    "\n",
    "Loops can be combined with conditional statements to replicate more complicate structures that cannot be achieved simply by using either one alone. \n",
    "\n",
    "For example, consider the case where we have 2 lists: a list containing the gender of the students and another list containing the scores obtained by the students on a test, and we are interested in finding out which gender performed better on the test. It is easily to see that using either loops or conditional statements do not give us the result we want easily. This case can easily be generalized to policy changes (Treatment vs Control) etc."
   ]
  },
  {
   "cell_type": "code",
   "execution_count": 14,
   "metadata": {},
   "outputs": [
    {
     "name": "stdout",
     "output_type": "stream",
     "text": [
      "The average score for males is 34.666667.\n",
      "The average score for females is 38.000000.\n"
     ]
    }
   ],
   "source": [
    "# Suppose we are given 2 lists, one with the gender of the student and 1 with the score of the student\n",
    "# We are trying to find the mean score for both genders\n",
    "genders = ['F', 'F', 'M', 'F', 'M', 'F', 'M']\n",
    "scores = [36, 44, 32, 31, 45, 41, 27]\n",
    "\n",
    "count_M, count_F = 0, 0\n",
    "total_M, total_F = 0, 0\n",
    "\n",
    "for gender, score in zip(genders, scores):\n",
    "    if gender == 'M':\n",
    "        count_M += 1\n",
    "        total_M += score\n",
    "    else:\n",
    "        count_F += 1\n",
    "        total_F += score\n",
    "        \n",
    "print('The average score for males is %f.' % (total_M/count_M))\n",
    "print('The average score for females is %f.' % (total_F/count_F))"
   ]
  },
  {
   "cell_type": "markdown",
   "metadata": {},
   "source": [
    "In-class assignment:\n",
    "\n",
    "You are given the following dataset:\n",
    "\n",
    "|Name  | Height | Gender| Weight| School | Scores |\n",
    "|------|--------|-------|-------|--------|--------|\n",
    "|Jane  | 155.0  |   F   |  42.8 |  SMU   |  87.5  |\n",
    "|John  | 181.2  |   M   |  85.1 |  NTU   |  81.2  |\n",
    "|Tina  | 172.6  |   F   |  52.7 |  NUS   |  76.1  |\n",
    "|Lena  | 162.3  |   F   |  49.0 |  SMU   |  88.3  |\n",
    "|Kane  | 174.8  |   M   |  77.1 |  NUS   |  91.2  |\n",
    "|Ryan  | 172.3  |   M   |  82.6 |  NTU   |  77.6  |\n",
    "|Kate  | 151.8  |   F   |  45.2 |  SMU   |  82.5  |\n",
    "\n",
    "1. Using loops and conditional statements, find the difference between the average weights and heights of males and females.\n",
    "2. Using loops and conditional statements, find the difference between the average scores of males and females.\n",
    "3. Using loops and conditional statements, find the difference between the average scores of students who studied in SMU and NTU."
   ]
  },
  {
   "cell_type": "code",
   "execution_count": null,
   "metadata": {
    "collapsed": true
   },
   "outputs": [],
   "source": []
  },
  {
   "cell_type": "markdown",
   "metadata": {
    "collapsed": true
   },
   "source": [
    "### Functions\n",
    "Now that we have a working understanding of how loops and conditional statements work, we are ready to move on to functions and classes. \n",
    "\n",
    "\n",
    "We begin this module with a simple question: what exactly are functions?\n",
    "\n",
    "From [w3schools](https://www.w3schools.com/python/python_functions.asp), a function is a block of code which only runs when it is called. While this doesn't actually say much, it kind of implies that a function consists of proper code that can do whatever you want it to do, so long as it is computationally probable and possible. \n",
    "\n",
    "So far, we've seen quite a few functions:\n",
    "\n",
    "1. print( )\n",
    "2. range( )\n",
    "3. list( )\n",
    "4. dict( )\n",
    "5. len( )\n",
    "6. zip( )\n",
    "7. int( )\n",
    "8. float( )\n",
    "\n",
    "What do they have in common? Apart from the fact that they turn green when you type them in the Jupyter Notebook, they have round brackets ( ), which we can then input arguments for the functions. This begs the question: what exactly is an argument, then? \n",
    "\n",
    "Before we answer that question, we appeal to the '?' function in Python."
   ]
  },
  {
   "cell_type": "code",
   "execution_count": 15,
   "metadata": {
    "collapsed": true
   },
   "outputs": [],
   "source": [
    "?int()"
   ]
  },
  {
   "cell_type": "markdown",
   "metadata": {},
   "source": [
    "The '?' function in Python returns the documentation string for the function. For our previous example, we called the '?' function on the argument, int( ). It then returns the documentation string for the int function. From the documentation string, we know that int converts a number or a string to an integer, and returns 0 when no arguments are given. For floating point numbers (decimals), it truncates towards 0 (rounds down). Let's give it a try."
   ]
  },
  {
   "cell_type": "code",
   "execution_count": 16,
   "metadata": {},
   "outputs": [
    {
     "name": "stdout",
     "output_type": "stream",
     "text": [
      "6\n",
      "0\n"
     ]
    }
   ],
   "source": [
    "print(int(6.1))\n",
    "print(int())"
   ]
  },
  {
   "cell_type": "markdown",
   "metadata": {},
   "source": [
    "It worked! Now, this is one way to find out what a function is doing under the hood. The next time you have problems with certain functions, be sure to use this function to find out what exactly the function takes as arguments, and what it outputs.\n",
    "\n",
    "In what follows, I provide an example of a function. Do try to follow what's going on, as functions are pretty central to programming. Do note how loops and conditional statements are used (although not all functions require them) in this context."
   ]
  },
  {
   "cell_type": "code",
   "execution_count": 17,
   "metadata": {
    "collapsed": true
   },
   "outputs": [],
   "source": [
    "def get_mean(lst):\n",
    "    '''\n",
    "    Given a list, returns x, the mean of the values.\n",
    "    \n",
    "    Parameters: lst (list) containing only integers and/or float values\n",
    "    Output: x (float value).\n",
    "    '''\n",
    "    only_int_or_float = True\n",
    "    if type(lst) != list: return 'Please provide a list.'\n",
    "        \n",
    "    for num in lst:\n",
    "        if type(num) != float and type(num) != int: only_int_or_float = False\n",
    "    \n",
    "    if only_int_or_float is True: \n",
    "        return sum(lst)/len(lst)\n",
    "    else: \n",
    "        return 'Please provide a list with integers and/or float values.'"
   ]
  },
  {
   "cell_type": "code",
   "execution_count": 18,
   "metadata": {},
   "outputs": [
    {
     "data": {
      "text/plain": [
       "'Please provide a list with integers and/or float values.'"
      ]
     },
     "execution_count": 18,
     "metadata": {},
     "output_type": "execute_result"
    }
   ],
   "source": [
    "names = ['Jane', 'John', 'Jack']\n",
    "get_mean(names)"
   ]
  },
  {
   "cell_type": "code",
   "execution_count": 19,
   "metadata": {},
   "outputs": [
    {
     "data": {
      "text/plain": [
       "210.66666666666666"
      ]
     },
     "execution_count": 19,
     "metadata": {},
     "output_type": "execute_result"
    }
   ],
   "source": [
    "height = [136, 246, 250]\n",
    "get_mean(height)"
   ]
  },
  {
   "cell_type": "code",
   "execution_count": 20,
   "metadata": {},
   "outputs": [
    {
     "data": {
      "text/plain": [
       "'Please provide a list.'"
      ]
     },
     "execution_count": 20,
     "metadata": {},
     "output_type": "execute_result"
    }
   ],
   "source": [
    "k = 36\n",
    "get_mean(k)"
   ]
  },
  {
   "cell_type": "markdown",
   "metadata": {},
   "source": [
    "What do we notice?\n",
    "1. def - def is short-form for the word, define. This tells Python that we are going to define a function.\n",
    "2. get_mean( ) - get_mean is the name of our function, which takes only 1 argument.\n",
    "3. lst - lst is the sole argument used for the function, get_mean( ). In our case, we require lst to be a list.\n",
    "4. return - returns the output of interest (in this case, the mean of the list)\n",
    "\n",
    "We can include more than 1 argument for the function but in this case, it is not required."
   ]
  },
  {
   "cell_type": "markdown",
   "metadata": {},
   "source": [
    "Here's another example. This function acts almost exactly the same as the condition *num* >= 5."
   ]
  },
  {
   "cell_type": "code",
   "execution_count": 21,
   "metadata": {
    "collapsed": true
   },
   "outputs": [],
   "source": [
    "def larger_than_five(num):\n",
    "    '''\n",
    "    Returns True if the number provided is larger than 5 in value.\n",
    "    '''\n",
    "    if type(num) != int and type(num) != float: return 'Please input a number.'\n",
    "    \n",
    "    if num >= 5:\n",
    "        return True\n",
    "    else:\n",
    "        return False"
   ]
  },
  {
   "cell_type": "code",
   "execution_count": 22,
   "metadata": {
    "scrolled": true
   },
   "outputs": [
    {
     "name": "stdout",
     "output_type": "stream",
     "text": [
      "Please input a number.\n",
      "True\n"
     ]
    }
   ],
   "source": [
    "print(larger_than_five('six'))\n",
    "print(larger_than_five(6))"
   ]
  },
  {
   "cell_type": "markdown",
   "metadata": {},
   "source": [
    "In-class assignment\n",
    "\n",
    "In what follows, you are required to design a function that receives a list and outputs the most popular character in the list. For example, the list could be ['Jack, 'Jason', 'Gina']. In this case, the most popular character is 'a', which appears 3 times. I have provided starter code for this assignment."
   ]
  },
  {
   "cell_type": "code",
   "execution_count": 23,
   "metadata": {},
   "outputs": [
    {
     "ename": "IndentationError",
     "evalue": "expected an indented block (<ipython-input-23-149a28062e63>, line 18)",
     "output_type": "error",
     "traceback": [
      "\u001b[0;36m  File \u001b[0;32m\"<ipython-input-23-149a28062e63>\"\u001b[0;36m, line \u001b[0;32m18\u001b[0m\n\u001b[0;31m    sorted_character_count = sorted(character_count.items(), key=operator.itemgetter(1), reverse=True)\u001b[0m\n\u001b[0m    ^\u001b[0m\n\u001b[0;31mIndentationError\u001b[0m\u001b[0;31m:\u001b[0m expected an indented block\n"
     ]
    }
   ],
   "source": [
    "import operator\n",
    "\n",
    "name_list = ['Jack', 'Jason', 'Gina']\n",
    "\n",
    "def most_popular_character(lst):\n",
    "    '''\n",
    "    Returns the most popular alphabet from the names provided in the list\n",
    "    '''\n",
    "    if type(lst) != list: return 'Please provide a list.'\n",
    "    \n",
    "    character_count = {}\n",
    "    for name in lst:\n",
    "        for char in name: # You can loop through strings too!\n",
    "            \n",
    "            # Your code here\n",
    "            \n",
    "            \n",
    "    sorted_character_count = sorted(character_count.items(), key=operator.itemgetter(1), reverse=True)\n",
    "    return sorted_character_count[0]\n",
    "\n",
    "most_popular_character(name_list)\n",
    "\n",
    "# Robustness tests\n",
    "bad_name_list = 'sngoe'\n",
    "most_popular_character(bad_name_list) # Always assume users are trying to make your system look bad."
   ]
  },
  {
   "cell_type": "markdown",
   "metadata": {},
   "source": [
    "### Advanced Application: Recursive Programming with Functions\n",
    "In this section, we will be using recursive programming to solve problems. Recursive programming feres to the idea of using a function to call itself repeatedly, yielding a recursive structure. This can be used to solve many difficult problems, by breaking each problem down.\n",
    "\n",
    "Finally, there will not be any questions on this segment since this is pretty difficult even for experienced programmers (aside: I'm not an experienced programmer). Nonetheless, it **might** be useful since DP uses one of best approaches to tackle difficult problems.\n",
    "\n",
    "You have been warned: this sub-module is difficult. With that in mind, let's proceed.\n",
    "\n",
    "---\n",
    "\n",
    "#### Recursive Programming\n",
    "One way to see what Recursive Programming is doing is through the factorial problem. Suppose you wish to define a function, that takes as an integer as its rgument and returns the factorial of the integer. How do you do this? One way is the following:"
   ]
  },
  {
   "cell_type": "code",
   "execution_count": 24,
   "metadata": {},
   "outputs": [
    {
     "data": {
      "text/plain": [
       "120"
      ]
     },
     "execution_count": 24,
     "metadata": {},
     "output_type": "execute_result"
    }
   ],
   "source": [
    "def factorial(n):\n",
    "    if n == 0: return 1\n",
    "    elif n == 1: return 1\n",
    "    else:\n",
    "        return n * factorial(n-1)\n",
    "    \n",
    "factorial(5)"
   ]
  },
  {
   "cell_type": "markdown",
   "metadata": {},
   "source": [
    "While this is not the only way to solve this problem, it gives a glimpse as to what Recursive Programming aims to do. By repeatedly calling itself, it is able to reduce a potentially difficult to solve problem into a \"linear\" problem (the difficulty of the problem is O(n), where n is the integer).\n",
    "\n",
    "\n",
    "However, while Recursive programming is one way to solve complicated problems such as the Fibonacci problem, it is by no means the only way. Sometimes, it can even be the \"bad\" way."
   ]
  },
  {
   "cell_type": "markdown",
   "metadata": {},
   "source": [
    "Consider the following problem:\n",
    "\n",
    "A Fibonacci sequence is the integer sequence of 0, 1, 1, 2, 3, 5, 8...., where each succeeding integer is the sum of the previous 2 integers. Suppose we are trying to solve for the number at the n-th index (in Python, that will be the (n-1)-th index) of the Fibonacci Sequence. How can we do this? "
   ]
  },
  {
   "cell_type": "code",
   "execution_count": 25,
   "metadata": {},
   "outputs": [
    {
     "name": "stdout",
     "output_type": "stream",
     "text": [
      "286 ms ± 4.07 ms per loop (mean ± std. dev. of 7 runs, 1 loop each)\n"
     ]
    }
   ],
   "source": [
    "# First, the Recursive Programming method.\n",
    "def fibonacci(n):\n",
    "    if n == 0: return 0\n",
    "    elif n == 1: return 0\n",
    "    elif n == 2: return 1\n",
    "    else: return fibonacci(n-1) + fibonacci(n-2)\n",
    "\n",
    "n = 30\n",
    "\n",
    "%timeit fibonacci(30)"
   ]
  },
  {
   "cell_type": "code",
   "execution_count": 26,
   "metadata": {},
   "outputs": [
    {
     "name": "stdout",
     "output_type": "stream",
     "text": [
      "17.7 µs ± 497 ns per loop (mean ± std. dev. of 7 runs, 100000 loops each)\n"
     ]
    }
   ],
   "source": [
    "# As it turns out, recursive programming isn't very useful. How can we solve for this problem *more* efficiently?\n",
    "# One way to do this is through Dynamic Programming and memoization\n",
    "\n",
    "def fast_fibonacci(n):\n",
    "    if n == 0: return 0\n",
    "    elif n == 1: return 0\n",
    "    elif n == 2: return 1\n",
    "    else:\n",
    "        start = [0, 0, 1]\n",
    "        for num in range(2, n+1):\n",
    "            start.append(start[num] + start[num-1])\n",
    "    return start[n]\n",
    "\n",
    "%timeit fast_fibonacci(100)"
   ]
  },
  {
   "cell_type": "code",
   "execution_count": 27,
   "metadata": {
    "scrolled": true
   },
   "outputs": [
    {
     "data": {
      "text/plain": [
       "5702887"
      ]
     },
     "execution_count": 27,
     "metadata": {},
     "output_type": "execute_result"
    }
   ],
   "source": [
    "fibonacci(35)"
   ]
  },
  {
   "cell_type": "code",
   "execution_count": 28,
   "metadata": {},
   "outputs": [
    {
     "data": {
      "text/plain": [
       "5702887"
      ]
     },
     "execution_count": 28,
     "metadata": {},
     "output_type": "execute_result"
    }
   ],
   "source": [
    "fast_fibonacci(35)"
   ]
  },
  {
   "cell_type": "markdown",
   "metadata": {},
   "source": [
    "Memoization refers to the idea of storing the results the computer has previously calculated so that it does not have to calculate them from scratch over and over again. In the first scenario, the results from `fibonacci(3)` dose not enter into the computation of `fibonacci(4)`. That is, when the computer is called upon to run `fibonacci(4)`, it calculates `fibonacci(3)` from scratch and adds that to `fibonacci(2)`.\n",
    "\n",
    "On the other hand, the second scenario stores the results obtained from `fast_fibonacci(3)`, making the computation of `fast_fibonacci(4)` that much easier.\n",
    "\n",
    "---\n",
    "In-class assignment:\n",
    "\n",
    "Define a **recursive** function that takes an argument, n, and returns the sum of the first n integers."
   ]
  },
  {
   "cell_type": "code",
   "execution_count": 29,
   "metadata": {
    "collapsed": true
   },
   "outputs": [],
   "source": [
    "def recursive(n):\n",
    "    '''\n",
    "    This function takes an integer, n, as its input and returns the sum of the first n integers.\n",
    "    \n",
    "    Input: n, int\n",
    "    '''\n",
    "    # Your code here"
   ]
  },
  {
   "cell_type": "markdown",
   "metadata": {},
   "source": [
    "Suppose you're interested to solve for the square root of a number. Without a calculator, how can you do so? One way to do so is to use recursive programming."
   ]
  },
  {
   "cell_type": "code",
   "execution_count": 30,
   "metadata": {},
   "outputs": [
    {
     "data": {
      "text/plain": [
       "2.8125"
      ]
     },
     "execution_count": 30,
     "metadata": {},
     "output_type": "execute_result"
    }
   ],
   "source": [
    "(3.75 * 3/4)"
   ]
  },
  {
   "cell_type": "code",
   "execution_count": 31,
   "metadata": {
    "scrolled": false
   },
   "outputs": [
    {
     "data": {
      "text/plain": [
       "7.745361328125"
      ]
     },
     "execution_count": 31,
     "metadata": {},
     "output_type": "execute_result"
    }
   ],
   "source": [
    "def approximate(guess, n, threshold):\n",
    "    return abs(n - guess**2) < threshold\n",
    "\n",
    "def square_root(n, guess=n/2, current_range = [0, n]):\n",
    "    if approximate(guess, n, threshold = 0.01): return guess\n",
    "    else:\n",
    "        if n > guess**2: \n",
    "            current_range = [guess, current_range[1]]\n",
    "            new_guess = (current_range[0] + current_range[1])/2\n",
    "            return square_root(n, new_guess, current_range)\n",
    "        else:\n",
    "            current_range = [current_range[0], guess]\n",
    "            new_guess = (current_range[0] + current_range[1])/2\n",
    "            return square_root(n, new_guess, current_range)\n",
    "\n",
    "square_root(60, 0)"
   ]
  },
  {
   "cell_type": "markdown",
   "metadata": {},
   "source": [
    "#### Dynamic Programming\n",
    "It turns out that recursive programming is not the most efficient way. If you don't believe me, try setting n = 40. In this case, Dynamic Programming is the superior method. This begs the question: what is dynamic programming? \n",
    "\n",
    "Dynamic Programming is a method for solving a complex problem by breaking it down into a collection of simpler subproblems, solving each of those subproblems just once, and storing (**memoizing**) their solutions using a memory-based data structure (taken from the [Use Journal Blog](https://blog.usejournal.com/top-50-dynamic-programming-practice-problems-4208fed71aa3)).\n",
    "\n",
    "Due to their difficulty (and the fact that this is only an introductory workshop), we will refrain from talking about Dynamic Programming."
   ]
  },
  {
   "cell_type": "markdown",
   "metadata": {},
   "source": [
    "### Classes\n",
    "\n",
    "Python classes provide all the standard features of Object Oriented Programming: the class inheritance mechanism allows multiple base classes, a derived class can override any methods of its base class or classes, and a method can call the method of a base class with the same name. Objects can contain arbitrary amounts and kinds of data. As is true for modules, classes partake of the dynamic nature of Python: they are created at runtime, and can be modified further after creation.\n",
    "\n",
    "---\n",
    "\n",
    "In layman terms, classes are objects that a programmer can create, and bestow upon these objects attributes (such as names, height, weight etc.) and **methods** (which are essentially functions for classes). It might help if we were to look at a trivial example. To define a class, we call *class*:"
   ]
  },
  {
   "cell_type": "code",
   "execution_count": 32,
   "metadata": {
    "collapsed": true
   },
   "outputs": [],
   "source": [
    "class Robot:\n",
    "    '''\n",
    "    Creates an instance of the robot when called. \n",
    "    \n",
    "    Robot has the following attributes:\n",
    "    1. Name\n",
    "    2. Favourite Drink\n",
    "    3. Favourite Activity\n",
    "    4. Location\n",
    "    \n",
    "    Robot has the following methods (functions it can call):\n",
    "    1. what: Returns the class of the robot\n",
    "    2. drink: Returns the favorite drink of the robot\n",
    "    3. location: Returns the location of the class\n",
    "    4. name: Returns the name of the robot\n",
    "    5. activity: Returns the favorite activity of the robot\n",
    "    '''\n",
    "    def __init__(self, name, drink, act, location):\n",
    "        # Attributes of the robots\n",
    "        self.name = name\n",
    "        self.drink = drink\n",
    "        self.activity = act\n",
    "        self.location = location\n",
    "        \n",
    "    # Methods of robots (what functions it can call)\n",
    "    def what(self):\n",
    "        return \"I am a robot.\"\n",
    "    \n",
    "    def fav_drink(self):\n",
    "        return self.drink\n",
    "    \n",
    "    def cur_location(self):\n",
    "        return self.location\n",
    "    \n",
    "    def cur_name(self):\n",
    "        return self.name\n",
    "    \n",
    "    def fav_activity(self):\n",
    "        return self.activity"
   ]
  },
  {
   "cell_type": "markdown",
   "metadata": {},
   "source": [
    "In what follows, we instantiate (create an instance of) a robot, with the name of the robot Julian, given as an argument. Our robot loves drinking diesel, and likes to party with friends. The __init__ method of our class tells what we need to provide to instantiate the class: we need to provide a name, drink, activity and a location to create an instance of a robot.\n",
    "\n",
    "After the creation of the robot, we have 5 methods that we can call. Methods are essentially functions, but for classes. That is, the first argument of a method is the class. "
   ]
  },
  {
   "cell_type": "code",
   "execution_count": 33,
   "metadata": {},
   "outputs": [
    {
     "data": {
      "text/plain": [
       "'I am a robot.'"
      ]
     },
     "execution_count": 33,
     "metadata": {},
     "output_type": "execute_result"
    }
   ],
   "source": [
    "# In \n",
    "robot_1 = Robot(\"Julian\", \"Diesel\", \"Party\", \"Japan\")\n",
    "robot_1.what()"
   ]
  },
  {
   "cell_type": "code",
   "execution_count": 34,
   "metadata": {},
   "outputs": [
    {
     "data": {
      "text/plain": [
       "'Diesel'"
      ]
     },
     "execution_count": 34,
     "metadata": {},
     "output_type": "execute_result"
    }
   ],
   "source": [
    "robot_1.fav_drink()"
   ]
  },
  {
   "cell_type": "markdown",
   "metadata": {},
   "source": [
    "Consider a new example, which is exactly the same as the previous example except for a new method `made_new_friends`. This function tells us whether our robot made a new friend, and if so, how many new friends it made. Initially, we initialised the robot with 0 friends, but with the inclusion of this function, the robot is allowed to make new friends."
   ]
  },
  {
   "cell_type": "code",
   "execution_count": 35,
   "metadata": {
    "collapsed": true
   },
   "outputs": [],
   "source": [
    "class Robot:\n",
    "    '''\n",
    "    Creates an instance of the robot when called. \n",
    "    \n",
    "    Robot has the following attributes:\n",
    "    1. Name\n",
    "    2. Favourite Drink\n",
    "    3. Favourite Activity\n",
    "    4. Location\n",
    "    \n",
    "    Robot has the following methods (functions it can call):\n",
    "    1. what: Returns the class of the robot\n",
    "    2. drink: Returns the favorite drink of the robot\n",
    "    3. location: Returns the location of the class\n",
    "    4. name: Returns the name of the robot\n",
    "    5. activity: Returns the favorite activity of the robot\n",
    "    '''\n",
    "    def __init__(self, name, drink, act, location, friends=0):\n",
    "        # Attributes of the robots\n",
    "        self.name = name # Name of robot\n",
    "        self.drink = drink # Name of fav. drink\n",
    "        self.activity = act # Name of fav. activity\n",
    "        self.location = location # Name of current location\n",
    "        self.friends = friends\n",
    "        \n",
    "    # Methods of robots (what functions it can call)\n",
    "    def what(self):\n",
    "        return \"I am a robot.\"\n",
    "    \n",
    "    def fav_drink(self):\n",
    "        return self.drink\n",
    "    \n",
    "    def cur_location(self):\n",
    "        return self.location\n",
    "    \n",
    "    def cur_name(self):\n",
    "        return self.name\n",
    "    \n",
    "    def fav_activity(self):\n",
    "        return self.activity\n",
    "    \n",
    "    def made_new_friends(self, n):\n",
    "        self.friends += n\n",
    "        return \"I have %d friends now.\" % self.friends\n",
    "    \n",
    "    def update_location(self, new_location):\n",
    "        print('I was at %s.' % self.location)\n",
    "        self.location = new_location\n",
    "        print(\"I am currently at %s.\" % self.location)"
   ]
  },
  {
   "cell_type": "code",
   "execution_count": 36,
   "metadata": {},
   "outputs": [
    {
     "data": {
      "text/plain": [
       "'I am a robot.'"
      ]
     },
     "execution_count": 36,
     "metadata": {},
     "output_type": "execute_result"
    }
   ],
   "source": [
    "# In \n",
    "robot_1 = Robot(\"Julia\", \"Beer\", \"Party\", \"Robobar\")\n",
    "robot_1.what()"
   ]
  },
  {
   "cell_type": "code",
   "execution_count": 37,
   "metadata": {},
   "outputs": [
    {
     "name": "stdout",
     "output_type": "stream",
     "text": [
      "0\n"
     ]
    },
    {
     "data": {
      "text/plain": [
       "'I have 5 friends now.'"
      ]
     },
     "execution_count": 37,
     "metadata": {},
     "output_type": "execute_result"
    }
   ],
   "source": [
    "print(robot_1.friends)\n",
    "\n",
    "robot_1.made_new_friends(5)"
   ]
  },
  {
   "cell_type": "code",
   "execution_count": 38,
   "metadata": {},
   "outputs": [
    {
     "data": {
      "text/plain": [
       "5"
      ]
     },
     "execution_count": 38,
     "metadata": {},
     "output_type": "execute_result"
    }
   ],
   "source": [
    "robot_1.friends"
   ]
  },
  {
   "cell_type": "code",
   "execution_count": 39,
   "metadata": {},
   "outputs": [
    {
     "name": "stdout",
     "output_type": "stream",
     "text": [
      "I was at Robobar.\n",
      "I am currently at Chomp Chomp Hawker Center.\n"
     ]
    }
   ],
   "source": [
    "robot_1.update_location(\"Chomp Chomp Hawker Center\")"
   ]
  },
  {
   "cell_type": "markdown",
   "metadata": {},
   "source": [
    "It turns out that after attending some parties, Julia the Robot was able to make 5 friends! After drinking, she moved to a hawker center for some supper. \n",
    "\n",
    "Hopefully, this gives you a better idea of what classes are.\n",
    "\n",
    "---\n",
    "\n",
    "In-class assignment:\n",
    "\n",
    "Write up a class, \"Class\" that has the following attributes:\n",
    "1. Course Name, course_name\n",
    "2. Course Code, course_code\n",
    "3. Instructor Name, instructor_name\n",
    "4. Number of students, num_students\n",
    "5. Class Timings, class_timing\n",
    "\n",
    "The class should have the following methods:\n",
    "1. add_new_students (with argument: n (number of new students), int)\n",
    "2. remove_students (with argument: n (number of students removed), int)\n",
    "3. change_class_timings (with argument: new_timing, str)\n",
    "\n",
    "Instantiate the following classes, using the \"Class\" class:\n",
    "\n",
    "|   Course Name    | Code    |  Instructor Name   | No. of Students | Class Timings |\n",
    "|------------------|---------|--------------------|-----------------|---------------|\n",
    "|Microeconomics I  | ECON601 |  Takashi Kunimoto  |      20         | Mon 12:00pm   |\n",
    "|Econometrics I    | ECON611 |  Su Liangjun       |      18         | Tue 08:30am   |    \n",
    "|Mechanism Design  | ECON714 |  Shurojit Chatterji|       9         | Thu 15:30pm   |\n",
    "|Macroeconomics I  | ECON602 |  Nicolas Jacquet   |      11         | Wed 09:00am   |\n",
    "\n",
    "The following starter code has been provided. Do note that you should have 5 attributes, and 8 methods for your class (they are provided down in the starter code below)."
   ]
  },
  {
   "cell_type": "code",
   "execution_count": 40,
   "metadata": {
    "collapsed": true
   },
   "outputs": [],
   "source": [
    "class Class:\n",
    "    '''\n",
    "    Creates an instance of Class when called. \n",
    "    \n",
    "    Each class has the following attributes:\n",
    "    1. Course Name\n",
    "    2. Course Code\n",
    "    3. Instructor Name\n",
    "    4. Number of Students\n",
    "    5. Class Timings\n",
    "    \n",
    "    Robot has the following methods (functions it can call):\n",
    "    1. name: Returns the course name\n",
    "    2. code: Returns the course code\n",
    "    3. instructor_name: Returns the instructor name\n",
    "    4. no_of_students: Returns the number of students in the class\n",
    "    5. timing: Returns the class timing\n",
    "    6. add_new_students: Takes an input, n, and returns the total number of students in the class.\n",
    "    7. remove_students: Takes an input, n, and returns the total number of students left in the class.\n",
    "    8. change_class_timings: Takes an input, time, and returns the new timing of the class\n",
    "    '''\n",
    "    ## Your code here"
   ]
  },
  {
   "cell_type": "markdown",
   "metadata": {},
   "source": [
    "Suppose there are some changes to the classes after the semester has commenced. Please reflect these changes:\n",
    "\n",
    "1. 5 students from ECON601 decided to switch to ECON714. Update this change using the methods, add_new_students and remove_students from the appropriate classes.\n",
    "2. Due to conflicting schedules, Professor Su Liangjun decided to change his classes from Tuesdays, 08:30am to Mondays, 15:30pm.\n",
    "3. 2 new students have joined Professor Nicolas Jacquet's class."
   ]
  },
  {
   "cell_type": "code",
   "execution_count": null,
   "metadata": {
    "collapsed": true
   },
   "outputs": [],
   "source": [
    "## Your code here"
   ]
  }
 ],
 "metadata": {
  "kernelspec": {
   "display_name": "Python 3",
   "language": "python",
   "name": "python3"
  },
  "language_info": {
   "codemirror_mode": {
    "name": "ipython",
    "version": 3
   },
   "file_extension": ".py",
   "mimetype": "text/x-python",
   "name": "python",
   "nbconvert_exporter": "python",
   "pygments_lexer": "ipython3",
   "version": "3.6.3"
  }
 },
 "nbformat": 4,
 "nbformat_minor": 2
}
