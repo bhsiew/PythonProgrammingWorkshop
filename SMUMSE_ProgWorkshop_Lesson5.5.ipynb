{
 "cells": [
  {
   "cell_type": "markdown",
   "metadata": {},
   "source": [
    "## Final Lesson - Applied Econometrics with Python\n",
    "\n",
    "The final class is dedicated to Applied Econometrics, specifically using Python. How do we run a linear regression in Python? How can we obtain the results?\n",
    "\n",
    "Before we can run a linear regression, we need to conduct data cleaning, processing and manipulation. This draws on the previous lessons we have learnt. If there are any missing variables in the dataset, we have to impute the missing data, or remove the variable, since running a regression requires the observations to be present."
   ]
  },
  {
   "cell_type": "markdown",
   "metadata": {},
   "source": [
    "#### Case-Study approach\n",
    "\n",
    "Similar to the previous lessons, we will be adopting a case-study approach to learn more about the different regressions that can be done in Python. Specifically, we will be using the Titanic dataset. In addition, we will be using the following techniques taught in the previous lessons:\n",
    "\n",
    "1. Data Manipulation, Processing and Cleaning \n",
    "2. Imputing Missing Data\n",
    "3. Feature Generation\n",
    "\n",
    "The first and second section relies on much that we have learnt in lesson 3 on data manipulation, while the last section relies much on the 4th lesson. Without further ado, let's apply our understanding on the Titanic dataset."
   ]
  },
  {
   "cell_type": "markdown",
   "metadata": {},
   "source": [
    "### Preliminary Data Exploration\n",
    "\n",
    "In this section, we import key libraries and read the training and test data into Python. We look at summary statistics to get a better understanding of what we are currently dealing with."
   ]
  },
  {
   "cell_type": "code",
   "execution_count": 54,
   "metadata": {},
   "outputs": [],
   "source": [
    "import pandas as pd\n",
    "import numpy as np\n",
    "import seaborn as sns\n",
    "import matplotlib.pyplot as plt\n",
    "\n",
    "def read_and_combine_data(train_filepath, test_filepath):\n",
    "    # This function combines the training and test dataset into 1 dataset\n",
    "    train = pd.read_csv(train_filepath, index_col=0)\n",
    "    test = pd.read_csv(test_filepath, index_col=0)\n",
    "    \n",
    "    combine = pd.concat([train, test], sort=True)\n",
    "    return combine\n",
    "\n",
    "train_filepath = 'data/titanic/train.csv'\n",
    "test_filepath = 'data/titanic/test.csv'\n",
    "train = pd.read_csv(train_filepath, index_col=0)\n",
    "test = pd.read_csv(test_filepath, index_col=0)\n",
    "\n",
    "\n",
    "combine = read_and_combine_data(train_filepath, test_filepath)"
   ]
  },
  {
   "cell_type": "code",
   "execution_count": 55,
   "metadata": {},
   "outputs": [
    {
     "data": {
      "text/html": [
       "<div>\n",
       "<style scoped>\n",
       "    .dataframe tbody tr th:only-of-type {\n",
       "        vertical-align: middle;\n",
       "    }\n",
       "\n",
       "    .dataframe tbody tr th {\n",
       "        vertical-align: top;\n",
       "    }\n",
       "\n",
       "    .dataframe thead th {\n",
       "        text-align: right;\n",
       "    }\n",
       "</style>\n",
       "<table border=\"1\" class=\"dataframe\">\n",
       "  <thead>\n",
       "    <tr style=\"text-align: right;\">\n",
       "      <th></th>\n",
       "      <th>Age</th>\n",
       "      <th>Cabin</th>\n",
       "      <th>Embarked</th>\n",
       "      <th>Fare</th>\n",
       "      <th>Name</th>\n",
       "      <th>Parch</th>\n",
       "      <th>Pclass</th>\n",
       "      <th>Sex</th>\n",
       "      <th>SibSp</th>\n",
       "      <th>Survived</th>\n",
       "      <th>Ticket</th>\n",
       "    </tr>\n",
       "    <tr>\n",
       "      <th>PassengerId</th>\n",
       "      <th></th>\n",
       "      <th></th>\n",
       "      <th></th>\n",
       "      <th></th>\n",
       "      <th></th>\n",
       "      <th></th>\n",
       "      <th></th>\n",
       "      <th></th>\n",
       "      <th></th>\n",
       "      <th></th>\n",
       "      <th></th>\n",
       "    </tr>\n",
       "  </thead>\n",
       "  <tbody>\n",
       "    <tr>\n",
       "      <th>1</th>\n",
       "      <td>22.0</td>\n",
       "      <td>NaN</td>\n",
       "      <td>S</td>\n",
       "      <td>7.2500</td>\n",
       "      <td>Braund, Mr. Owen Harris</td>\n",
       "      <td>0</td>\n",
       "      <td>3</td>\n",
       "      <td>male</td>\n",
       "      <td>1</td>\n",
       "      <td>0.0</td>\n",
       "      <td>A/5 21171</td>\n",
       "    </tr>\n",
       "    <tr>\n",
       "      <th>2</th>\n",
       "      <td>38.0</td>\n",
       "      <td>C85</td>\n",
       "      <td>C</td>\n",
       "      <td>71.2833</td>\n",
       "      <td>Cumings, Mrs. John Bradley (Florence Briggs Th...</td>\n",
       "      <td>0</td>\n",
       "      <td>1</td>\n",
       "      <td>female</td>\n",
       "      <td>1</td>\n",
       "      <td>1.0</td>\n",
       "      <td>PC 17599</td>\n",
       "    </tr>\n",
       "    <tr>\n",
       "      <th>3</th>\n",
       "      <td>26.0</td>\n",
       "      <td>NaN</td>\n",
       "      <td>S</td>\n",
       "      <td>7.9250</td>\n",
       "      <td>Heikkinen, Miss. Laina</td>\n",
       "      <td>0</td>\n",
       "      <td>3</td>\n",
       "      <td>female</td>\n",
       "      <td>0</td>\n",
       "      <td>1.0</td>\n",
       "      <td>STON/O2. 3101282</td>\n",
       "    </tr>\n",
       "    <tr>\n",
       "      <th>4</th>\n",
       "      <td>35.0</td>\n",
       "      <td>C123</td>\n",
       "      <td>S</td>\n",
       "      <td>53.1000</td>\n",
       "      <td>Futrelle, Mrs. Jacques Heath (Lily May Peel)</td>\n",
       "      <td>0</td>\n",
       "      <td>1</td>\n",
       "      <td>female</td>\n",
       "      <td>1</td>\n",
       "      <td>1.0</td>\n",
       "      <td>113803</td>\n",
       "    </tr>\n",
       "    <tr>\n",
       "      <th>5</th>\n",
       "      <td>35.0</td>\n",
       "      <td>NaN</td>\n",
       "      <td>S</td>\n",
       "      <td>8.0500</td>\n",
       "      <td>Allen, Mr. William Henry</td>\n",
       "      <td>0</td>\n",
       "      <td>3</td>\n",
       "      <td>male</td>\n",
       "      <td>0</td>\n",
       "      <td>0.0</td>\n",
       "      <td>373450</td>\n",
       "    </tr>\n",
       "  </tbody>\n",
       "</table>\n",
       "</div>"
      ],
      "text/plain": [
       "              Age Cabin Embarked     Fare  \\\n",
       "PassengerId                                 \n",
       "1            22.0   NaN        S   7.2500   \n",
       "2            38.0   C85        C  71.2833   \n",
       "3            26.0   NaN        S   7.9250   \n",
       "4            35.0  C123        S  53.1000   \n",
       "5            35.0   NaN        S   8.0500   \n",
       "\n",
       "                                                          Name  Parch  Pclass  \\\n",
       "PassengerId                                                                     \n",
       "1                                      Braund, Mr. Owen Harris      0       3   \n",
       "2            Cumings, Mrs. John Bradley (Florence Briggs Th...      0       1   \n",
       "3                                       Heikkinen, Miss. Laina      0       3   \n",
       "4                 Futrelle, Mrs. Jacques Heath (Lily May Peel)      0       1   \n",
       "5                                     Allen, Mr. William Henry      0       3   \n",
       "\n",
       "                Sex  SibSp  Survived            Ticket  \n",
       "PassengerId                                             \n",
       "1              male      1       0.0         A/5 21171  \n",
       "2            female      1       1.0          PC 17599  \n",
       "3            female      0       1.0  STON/O2. 3101282  \n",
       "4            female      1       1.0            113803  \n",
       "5              male      0       0.0            373450  "
      ]
     },
     "execution_count": 55,
     "metadata": {},
     "output_type": "execute_result"
    }
   ],
   "source": [
    "combine.head()"
   ]
  },
  {
   "cell_type": "code",
   "execution_count": 56,
   "metadata": {},
   "outputs": [
    {
     "data": {
      "text/html": [
       "<div>\n",
       "<style scoped>\n",
       "    .dataframe tbody tr th:only-of-type {\n",
       "        vertical-align: middle;\n",
       "    }\n",
       "\n",
       "    .dataframe tbody tr th {\n",
       "        vertical-align: top;\n",
       "    }\n",
       "\n",
       "    .dataframe thead th {\n",
       "        text-align: right;\n",
       "    }\n",
       "</style>\n",
       "<table border=\"1\" class=\"dataframe\">\n",
       "  <thead>\n",
       "    <tr style=\"text-align: right;\">\n",
       "      <th></th>\n",
       "      <th>Age</th>\n",
       "      <th>Cabin</th>\n",
       "      <th>Embarked</th>\n",
       "      <th>Fare</th>\n",
       "      <th>Name</th>\n",
       "      <th>Parch</th>\n",
       "      <th>Pclass</th>\n",
       "      <th>Sex</th>\n",
       "      <th>SibSp</th>\n",
       "      <th>Survived</th>\n",
       "      <th>Ticket</th>\n",
       "    </tr>\n",
       "  </thead>\n",
       "  <tbody>\n",
       "    <tr>\n",
       "      <th>count</th>\n",
       "      <td>1046.000000</td>\n",
       "      <td>295</td>\n",
       "      <td>1307</td>\n",
       "      <td>1308.000000</td>\n",
       "      <td>1309</td>\n",
       "      <td>1309.000000</td>\n",
       "      <td>1309.000000</td>\n",
       "      <td>1309</td>\n",
       "      <td>1309.000000</td>\n",
       "      <td>891.000000</td>\n",
       "      <td>1309</td>\n",
       "    </tr>\n",
       "    <tr>\n",
       "      <th>unique</th>\n",
       "      <td>NaN</td>\n",
       "      <td>186</td>\n",
       "      <td>3</td>\n",
       "      <td>NaN</td>\n",
       "      <td>1307</td>\n",
       "      <td>NaN</td>\n",
       "      <td>NaN</td>\n",
       "      <td>2</td>\n",
       "      <td>NaN</td>\n",
       "      <td>NaN</td>\n",
       "      <td>929</td>\n",
       "    </tr>\n",
       "    <tr>\n",
       "      <th>top</th>\n",
       "      <td>NaN</td>\n",
       "      <td>C23 C25 C27</td>\n",
       "      <td>S</td>\n",
       "      <td>NaN</td>\n",
       "      <td>Connolly, Miss. Kate</td>\n",
       "      <td>NaN</td>\n",
       "      <td>NaN</td>\n",
       "      <td>male</td>\n",
       "      <td>NaN</td>\n",
       "      <td>NaN</td>\n",
       "      <td>CA. 2343</td>\n",
       "    </tr>\n",
       "    <tr>\n",
       "      <th>freq</th>\n",
       "      <td>NaN</td>\n",
       "      <td>6</td>\n",
       "      <td>914</td>\n",
       "      <td>NaN</td>\n",
       "      <td>2</td>\n",
       "      <td>NaN</td>\n",
       "      <td>NaN</td>\n",
       "      <td>843</td>\n",
       "      <td>NaN</td>\n",
       "      <td>NaN</td>\n",
       "      <td>11</td>\n",
       "    </tr>\n",
       "    <tr>\n",
       "      <th>mean</th>\n",
       "      <td>29.881138</td>\n",
       "      <td>NaN</td>\n",
       "      <td>NaN</td>\n",
       "      <td>33.295479</td>\n",
       "      <td>NaN</td>\n",
       "      <td>0.385027</td>\n",
       "      <td>2.294882</td>\n",
       "      <td>NaN</td>\n",
       "      <td>0.498854</td>\n",
       "      <td>0.383838</td>\n",
       "      <td>NaN</td>\n",
       "    </tr>\n",
       "    <tr>\n",
       "      <th>std</th>\n",
       "      <td>14.413493</td>\n",
       "      <td>NaN</td>\n",
       "      <td>NaN</td>\n",
       "      <td>51.758668</td>\n",
       "      <td>NaN</td>\n",
       "      <td>0.865560</td>\n",
       "      <td>0.837836</td>\n",
       "      <td>NaN</td>\n",
       "      <td>1.041658</td>\n",
       "      <td>0.486592</td>\n",
       "      <td>NaN</td>\n",
       "    </tr>\n",
       "    <tr>\n",
       "      <th>min</th>\n",
       "      <td>0.170000</td>\n",
       "      <td>NaN</td>\n",
       "      <td>NaN</td>\n",
       "      <td>0.000000</td>\n",
       "      <td>NaN</td>\n",
       "      <td>0.000000</td>\n",
       "      <td>1.000000</td>\n",
       "      <td>NaN</td>\n",
       "      <td>0.000000</td>\n",
       "      <td>0.000000</td>\n",
       "      <td>NaN</td>\n",
       "    </tr>\n",
       "    <tr>\n",
       "      <th>25%</th>\n",
       "      <td>21.000000</td>\n",
       "      <td>NaN</td>\n",
       "      <td>NaN</td>\n",
       "      <td>7.895800</td>\n",
       "      <td>NaN</td>\n",
       "      <td>0.000000</td>\n",
       "      <td>2.000000</td>\n",
       "      <td>NaN</td>\n",
       "      <td>0.000000</td>\n",
       "      <td>0.000000</td>\n",
       "      <td>NaN</td>\n",
       "    </tr>\n",
       "    <tr>\n",
       "      <th>50%</th>\n",
       "      <td>28.000000</td>\n",
       "      <td>NaN</td>\n",
       "      <td>NaN</td>\n",
       "      <td>14.454200</td>\n",
       "      <td>NaN</td>\n",
       "      <td>0.000000</td>\n",
       "      <td>3.000000</td>\n",
       "      <td>NaN</td>\n",
       "      <td>0.000000</td>\n",
       "      <td>0.000000</td>\n",
       "      <td>NaN</td>\n",
       "    </tr>\n",
       "    <tr>\n",
       "      <th>75%</th>\n",
       "      <td>39.000000</td>\n",
       "      <td>NaN</td>\n",
       "      <td>NaN</td>\n",
       "      <td>31.275000</td>\n",
       "      <td>NaN</td>\n",
       "      <td>0.000000</td>\n",
       "      <td>3.000000</td>\n",
       "      <td>NaN</td>\n",
       "      <td>1.000000</td>\n",
       "      <td>1.000000</td>\n",
       "      <td>NaN</td>\n",
       "    </tr>\n",
       "    <tr>\n",
       "      <th>max</th>\n",
       "      <td>80.000000</td>\n",
       "      <td>NaN</td>\n",
       "      <td>NaN</td>\n",
       "      <td>512.329200</td>\n",
       "      <td>NaN</td>\n",
       "      <td>9.000000</td>\n",
       "      <td>3.000000</td>\n",
       "      <td>NaN</td>\n",
       "      <td>8.000000</td>\n",
       "      <td>1.000000</td>\n",
       "      <td>NaN</td>\n",
       "    </tr>\n",
       "  </tbody>\n",
       "</table>\n",
       "</div>"
      ],
      "text/plain": [
       "                Age        Cabin Embarked         Fare                  Name  \\\n",
       "count   1046.000000          295     1307  1308.000000                  1309   \n",
       "unique          NaN          186        3          NaN                  1307   \n",
       "top             NaN  C23 C25 C27        S          NaN  Connolly, Miss. Kate   \n",
       "freq            NaN            6      914          NaN                     2   \n",
       "mean      29.881138          NaN      NaN    33.295479                   NaN   \n",
       "std       14.413493          NaN      NaN    51.758668                   NaN   \n",
       "min        0.170000          NaN      NaN     0.000000                   NaN   \n",
       "25%       21.000000          NaN      NaN     7.895800                   NaN   \n",
       "50%       28.000000          NaN      NaN    14.454200                   NaN   \n",
       "75%       39.000000          NaN      NaN    31.275000                   NaN   \n",
       "max       80.000000          NaN      NaN   512.329200                   NaN   \n",
       "\n",
       "              Parch       Pclass   Sex        SibSp    Survived    Ticket  \n",
       "count   1309.000000  1309.000000  1309  1309.000000  891.000000      1309  \n",
       "unique          NaN          NaN     2          NaN         NaN       929  \n",
       "top             NaN          NaN  male          NaN         NaN  CA. 2343  \n",
       "freq            NaN          NaN   843          NaN         NaN        11  \n",
       "mean       0.385027     2.294882   NaN     0.498854    0.383838       NaN  \n",
       "std        0.865560     0.837836   NaN     1.041658    0.486592       NaN  \n",
       "min        0.000000     1.000000   NaN     0.000000    0.000000       NaN  \n",
       "25%        0.000000     2.000000   NaN     0.000000    0.000000       NaN  \n",
       "50%        0.000000     3.000000   NaN     0.000000    0.000000       NaN  \n",
       "75%        0.000000     3.000000   NaN     1.000000    1.000000       NaN  \n",
       "max        9.000000     3.000000   NaN     8.000000    1.000000       NaN  "
      ]
     },
     "execution_count": 56,
     "metadata": {},
     "output_type": "execute_result"
    }
   ],
   "source": [
    "combine.describe(include='all')"
   ]
  },
  {
   "cell_type": "markdown",
   "metadata": {},
   "source": [
    "### Imputing Missing Data\n",
    "\n",
    "In our case, we are tasked to predict whether a passenger survived based on the features in the model. However, some of these features are not as useful as others, and we can generate new features using a combination of different features. Before we do that however, we check for missing data."
   ]
  },
  {
   "cell_type": "code",
   "execution_count": 57,
   "metadata": {},
   "outputs": [
    {
     "data": {
      "text/plain": [
       "Age          263\n",
       "Cabin       1014\n",
       "Embarked       2\n",
       "Fare           1\n",
       "Name           0\n",
       "Parch          0\n",
       "Pclass         0\n",
       "Sex            0\n",
       "SibSp          0\n",
       "Survived     418\n",
       "Ticket         0\n",
       "dtype: int64"
      ]
     },
     "execution_count": 57,
     "metadata": {},
     "output_type": "execute_result"
    }
   ],
   "source": [
    "np.sum(pd.isnull(combine))"
   ]
  },
  {
   "cell_type": "markdown",
   "metadata": {},
   "source": [
    "We note that there are quite a significant number of observations with missing data. To circumvent this, we can create a new column for the \"Cabin\" variable, to indicate that the data are missing. For the \"Embarked\" and \"Fare\" feature, we can impute the most popular embarkation point and the average fare."
   ]
  },
  {
   "cell_type": "code",
   "execution_count": 58,
   "metadata": {},
   "outputs": [
    {
     "data": {
      "text/plain": [
       "S    914\n",
       "C    270\n",
       "Q    123\n",
       "Name: Embarked, dtype: int64"
      ]
     },
     "execution_count": 58,
     "metadata": {},
     "output_type": "execute_result"
    }
   ],
   "source": [
    "combine.Embarked.value_counts()"
   ]
  },
  {
   "cell_type": "code",
   "execution_count": 59,
   "metadata": {},
   "outputs": [
    {
     "data": {
      "text/plain": [
       "33.2954792813456"
      ]
     },
     "execution_count": 59,
     "metadata": {},
     "output_type": "execute_result"
    }
   ],
   "source": [
    "combine.Fare.mean()"
   ]
  },
  {
   "cell_type": "code",
   "execution_count": 60,
   "metadata": {},
   "outputs": [],
   "source": [
    "def impute_missing_cabins():\n",
    "    return combine.Cabin.fillna(\"N\", inplace=True)\n",
    "\n",
    "def impute_missing_embarkation_point():\n",
    "    return combine.Embarked.fillna(\"S\", inplace=True)\n",
    "\n",
    "def impute_missing_fare():\n",
    "    return combine.Fare.fillna(combine.Fare.mean(), inplace=True)\n",
    "\n",
    "impute_missing_cabins()\n",
    "impute_missing_embarkation_point()\n",
    "impute_missing_fare()"
   ]
  },
  {
   "cell_type": "code",
   "execution_count": 61,
   "metadata": {},
   "outputs": [
    {
     "data": {
      "text/plain": [
       "Age         263\n",
       "Cabin         0\n",
       "Embarked      0\n",
       "Fare          0\n",
       "Name          0\n",
       "Parch         0\n",
       "Pclass        0\n",
       "Sex           0\n",
       "SibSp         0\n",
       "Survived    418\n",
       "Ticket        0\n",
       "dtype: int64"
      ]
     },
     "execution_count": 61,
     "metadata": {},
     "output_type": "execute_result"
    }
   ],
   "source": [
    "np.sum(pd.isnull(combine))"
   ]
  },
  {
   "cell_type": "markdown",
   "metadata": {},
   "source": [
    "We are left with the age variable. There are a few ways to resolve this issue:\n",
    "\n",
    "1. Drop the age variable.\n",
    "2. Impute the missing ages with the average age of the dataset\n",
    "3. Use conditional information to determine the missing age\n",
    "\n",
    "Of the 3, the third way is the hardest - we will do the third way. \n",
    "\n",
    "We first split the Name column into First and Last Name, bearing in mind that the designation of the passenger may contain some important information on the age of the passenger. Let's take a look at an example. The first element in the Name column is \"Braund, Mr. Owen Harris\". Splitting on space yields the following list: [\"Braund,\", \"Mr.\", \"Owen\", \"Harris\"].\n",
    "\n",
    "What happens when we split on \", \"?"
   ]
  },
  {
   "cell_type": "code",
   "execution_count": 62,
   "metadata": {},
   "outputs": [
    {
     "data": {
      "text/plain": [
       "['Braund', 'Mr. Owen Harris']"
      ]
     },
     "execution_count": 62,
     "metadata": {},
     "output_type": "execute_result"
    }
   ],
   "source": [
    "combine.Name.iloc[0].split(\", \")"
   ]
  },
  {
   "cell_type": "code",
   "execution_count": null,
   "metadata": {},
   "outputs": [],
   "source": []
  },
  {
   "cell_type": "code",
   "execution_count": 63,
   "metadata": {
    "scrolled": false
   },
   "outputs": [
    {
     "name": "stdout",
     "output_type": "stream",
     "text": [
      "Done.\n"
     ]
    }
   ],
   "source": [
    "def get_desg_first_name(name):\n",
    "    # This returns the second element after splitting on the pattern \", \"\n",
    "    return name.split(\", \")[1]\n",
    "\n",
    "def get_first_name():\n",
    "    # Fist, we ob\n",
    "    first_name = combine.Name.apply(lambda x: get_desg_first_name(x))\n",
    "    combine['FirstName'] = first_name.apply(lambda x: x.split(\". \")[1])\n",
    "    combine['Designation'] = first_name.apply(lambda x: x.split(\". \")[0])\n",
    "    return combine\n",
    "    \n",
    "def get_last_name():\n",
    "    combine['LastName'] = combine.Name.apply(lambda x: x.split(\", \")[0])\n",
    "    return combine\n",
    "\n",
    "get_last_name()\n",
    "get_first_name()\n",
    "print('Done.')"
   ]
  },
  {
   "cell_type": "code",
   "execution_count": 64,
   "metadata": {},
   "outputs": [
    {
     "data": {
      "text/html": [
       "<div>\n",
       "<style scoped>\n",
       "    .dataframe tbody tr th:only-of-type {\n",
       "        vertical-align: middle;\n",
       "    }\n",
       "\n",
       "    .dataframe tbody tr th {\n",
       "        vertical-align: top;\n",
       "    }\n",
       "\n",
       "    .dataframe thead th {\n",
       "        text-align: right;\n",
       "    }\n",
       "</style>\n",
       "<table border=\"1\" class=\"dataframe\">\n",
       "  <thead>\n",
       "    <tr style=\"text-align: right;\">\n",
       "      <th></th>\n",
       "      <th>Age</th>\n",
       "      <th>Cabin</th>\n",
       "      <th>Embarked</th>\n",
       "      <th>Fare</th>\n",
       "      <th>Name</th>\n",
       "      <th>Parch</th>\n",
       "      <th>Pclass</th>\n",
       "      <th>Sex</th>\n",
       "      <th>SibSp</th>\n",
       "      <th>Survived</th>\n",
       "      <th>Ticket</th>\n",
       "      <th>LastName</th>\n",
       "      <th>FirstName</th>\n",
       "      <th>Designation</th>\n",
       "    </tr>\n",
       "    <tr>\n",
       "      <th>PassengerId</th>\n",
       "      <th></th>\n",
       "      <th></th>\n",
       "      <th></th>\n",
       "      <th></th>\n",
       "      <th></th>\n",
       "      <th></th>\n",
       "      <th></th>\n",
       "      <th></th>\n",
       "      <th></th>\n",
       "      <th></th>\n",
       "      <th></th>\n",
       "      <th></th>\n",
       "      <th></th>\n",
       "      <th></th>\n",
       "    </tr>\n",
       "  </thead>\n",
       "  <tbody>\n",
       "    <tr>\n",
       "      <th>1</th>\n",
       "      <td>22.0</td>\n",
       "      <td>N</td>\n",
       "      <td>S</td>\n",
       "      <td>7.2500</td>\n",
       "      <td>Braund, Mr. Owen Harris</td>\n",
       "      <td>0</td>\n",
       "      <td>3</td>\n",
       "      <td>male</td>\n",
       "      <td>1</td>\n",
       "      <td>0.0</td>\n",
       "      <td>A/5 21171</td>\n",
       "      <td>Braund</td>\n",
       "      <td>Owen Harris</td>\n",
       "      <td>Mr</td>\n",
       "    </tr>\n",
       "    <tr>\n",
       "      <th>2</th>\n",
       "      <td>38.0</td>\n",
       "      <td>C85</td>\n",
       "      <td>C</td>\n",
       "      <td>71.2833</td>\n",
       "      <td>Cumings, Mrs. John Bradley (Florence Briggs Th...</td>\n",
       "      <td>0</td>\n",
       "      <td>1</td>\n",
       "      <td>female</td>\n",
       "      <td>1</td>\n",
       "      <td>1.0</td>\n",
       "      <td>PC 17599</td>\n",
       "      <td>Cumings</td>\n",
       "      <td>John Bradley (Florence Briggs Thayer)</td>\n",
       "      <td>Mrs</td>\n",
       "    </tr>\n",
       "    <tr>\n",
       "      <th>3</th>\n",
       "      <td>26.0</td>\n",
       "      <td>N</td>\n",
       "      <td>S</td>\n",
       "      <td>7.9250</td>\n",
       "      <td>Heikkinen, Miss. Laina</td>\n",
       "      <td>0</td>\n",
       "      <td>3</td>\n",
       "      <td>female</td>\n",
       "      <td>0</td>\n",
       "      <td>1.0</td>\n",
       "      <td>STON/O2. 3101282</td>\n",
       "      <td>Heikkinen</td>\n",
       "      <td>Laina</td>\n",
       "      <td>Miss</td>\n",
       "    </tr>\n",
       "    <tr>\n",
       "      <th>4</th>\n",
       "      <td>35.0</td>\n",
       "      <td>C123</td>\n",
       "      <td>S</td>\n",
       "      <td>53.1000</td>\n",
       "      <td>Futrelle, Mrs. Jacques Heath (Lily May Peel)</td>\n",
       "      <td>0</td>\n",
       "      <td>1</td>\n",
       "      <td>female</td>\n",
       "      <td>1</td>\n",
       "      <td>1.0</td>\n",
       "      <td>113803</td>\n",
       "      <td>Futrelle</td>\n",
       "      <td>Jacques Heath (Lily May Peel)</td>\n",
       "      <td>Mrs</td>\n",
       "    </tr>\n",
       "    <tr>\n",
       "      <th>5</th>\n",
       "      <td>35.0</td>\n",
       "      <td>N</td>\n",
       "      <td>S</td>\n",
       "      <td>8.0500</td>\n",
       "      <td>Allen, Mr. William Henry</td>\n",
       "      <td>0</td>\n",
       "      <td>3</td>\n",
       "      <td>male</td>\n",
       "      <td>0</td>\n",
       "      <td>0.0</td>\n",
       "      <td>373450</td>\n",
       "      <td>Allen</td>\n",
       "      <td>William Henry</td>\n",
       "      <td>Mr</td>\n",
       "    </tr>\n",
       "  </tbody>\n",
       "</table>\n",
       "</div>"
      ],
      "text/plain": [
       "              Age Cabin Embarked     Fare  \\\n",
       "PassengerId                                 \n",
       "1            22.0     N        S   7.2500   \n",
       "2            38.0   C85        C  71.2833   \n",
       "3            26.0     N        S   7.9250   \n",
       "4            35.0  C123        S  53.1000   \n",
       "5            35.0     N        S   8.0500   \n",
       "\n",
       "                                                          Name  Parch  Pclass  \\\n",
       "PassengerId                                                                     \n",
       "1                                      Braund, Mr. Owen Harris      0       3   \n",
       "2            Cumings, Mrs. John Bradley (Florence Briggs Th...      0       1   \n",
       "3                                       Heikkinen, Miss. Laina      0       3   \n",
       "4                 Futrelle, Mrs. Jacques Heath (Lily May Peel)      0       1   \n",
       "5                                     Allen, Mr. William Henry      0       3   \n",
       "\n",
       "                Sex  SibSp  Survived            Ticket   LastName  \\\n",
       "PassengerId                                                         \n",
       "1              male      1       0.0         A/5 21171     Braund   \n",
       "2            female      1       1.0          PC 17599    Cumings   \n",
       "3            female      0       1.0  STON/O2. 3101282  Heikkinen   \n",
       "4            female      1       1.0            113803   Futrelle   \n",
       "5              male      0       0.0            373450      Allen   \n",
       "\n",
       "                                         FirstName Designation  \n",
       "PassengerId                                                     \n",
       "1                                      Owen Harris          Mr  \n",
       "2            John Bradley (Florence Briggs Thayer)         Mrs  \n",
       "3                                            Laina        Miss  \n",
       "4                    Jacques Heath (Lily May Peel)         Mrs  \n",
       "5                                    William Henry          Mr  "
      ]
     },
     "execution_count": 64,
     "metadata": {},
     "output_type": "execute_result"
    }
   ],
   "source": [
    "combine.head()"
   ]
  },
  {
   "cell_type": "markdown",
   "metadata": {},
   "source": [
    "Note that the column, \"Designation\" can be used to impute missing data for the \"Age\" variable. Suppose we have a missing data with the designation, \"Miss\". We can look at the mean value for all observations with the same designation and impute that as the missing value."
   ]
  },
  {
   "cell_type": "code",
   "execution_count": 65,
   "metadata": {},
   "outputs": [
    {
     "data": {
      "text/plain": [
       "Designation\n",
       "Capt            70.000000\n",
       "Col             54.000000\n",
       "Don             40.000000\n",
       "Dona            39.000000\n",
       "Dr              43.571429\n",
       "Jonkheer        38.000000\n",
       "Lady            48.000000\n",
       "Major           48.500000\n",
       "Master           5.482642\n",
       "Miss            21.774238\n",
       "Mlle            24.000000\n",
       "Mme             24.000000\n",
       "Mr              32.252151\n",
       "Mrs             36.994118\n",
       "Ms              28.000000\n",
       "Rev             41.250000\n",
       "Sir             49.000000\n",
       "the Countess    33.000000\n",
       "Name: Age, dtype: float64"
      ]
     },
     "execution_count": 65,
     "metadata": {},
     "output_type": "execute_result"
    }
   ],
   "source": [
    "combine.groupby(\"Designation\")['Age'].mean()"
   ]
  },
  {
   "cell_type": "code",
   "execution_count": 66,
   "metadata": {
    "scrolled": false
   },
   "outputs": [],
   "source": [
    "def impute_missing_age():\n",
    "    '''\n",
    "    Generate a pd.Series using information on Designation to impute missing age data\n",
    "    '''\n",
    "    age_list = []\n",
    "    for age, desg in zip(combine.Age, combine.Designation):\n",
    "        if pd.isnull(age):\n",
    "            age_list.append(combine.groupby(\"Designation\")['Age'].mean()[desg])\n",
    "        else: age_list.append(age)\n",
    "    return age_list\n",
    "\n",
    "combine['NewAge'] = impute_missing_age()"
   ]
  },
  {
   "cell_type": "markdown",
   "metadata": {},
   "source": [
    "We check for missing data once again. If everything turns out to be fine, we can begin to explore the relationships inherent in the data."
   ]
  },
  {
   "cell_type": "code",
   "execution_count": 67,
   "metadata": {
    "scrolled": true
   },
   "outputs": [
    {
     "data": {
      "text/plain": [
       "Age            263\n",
       "Cabin            0\n",
       "Embarked         0\n",
       "Fare             0\n",
       "Name             0\n",
       "Parch            0\n",
       "Pclass           0\n",
       "Sex              0\n",
       "SibSp            0\n",
       "Survived       418\n",
       "Ticket           0\n",
       "LastName         0\n",
       "FirstName        0\n",
       "Designation      0\n",
       "NewAge           0\n",
       "dtype: int64"
      ]
     },
     "execution_count": 67,
     "metadata": {},
     "output_type": "execute_result"
    }
   ],
   "source": [
    "np.sum(pd.isnull(combine))"
   ]
  },
  {
   "cell_type": "markdown",
   "metadata": {},
   "source": [
    "It turns out that the new age column, \"NewAge\" has no more missing observations. "
   ]
  },
  {
   "cell_type": "markdown",
   "metadata": {},
   "source": [
    "### Data Exploration and Plotting\n",
    "Everything seems good. We can proceed with data exploration using plots. We begin with some hypotheses that we are interested in, and see what that leads to. Here are some possible hypotheses one may be interested in testing:\n",
    "\n",
    "1. Age is correlated with Survival Rate\n",
    "2. Fare is correlated with Survival Rate\n",
    "3. Designation is correlated with Survival Rate\n",
    "\n",
    "From there, we can generate additional hypotheses: can an interaction term between Gender x Age lead to even better results? "
   ]
  },
  {
   "cell_type": "code",
   "execution_count": 68,
   "metadata": {},
   "outputs": [
    {
     "data": {
      "image/png": "[encoded data removed]",
      "text/plain": [
       "<matplotlib.figure.Figure at 0x7f986e63c160>"
      ]
     },
     "metadata": {},
     "output_type": "display_data"
    }
   ],
   "source": [
    "### Hypothesis 1 - Age is correlated with Survival Rate\n",
    "plt.figure(figsize=(20, 12))\n",
    "sns.distplot(combine[combine.Survived == 0].NewAge, bins=range(0, 81, 1), color = 'red', label='Perished')\n",
    "sns.distplot(combine[combine.Survived == 1].NewAge, bins=range(0, 81, 1), color = 'blue', label='Survived')\n",
    "plt.legend(loc='upper right')\n",
    "plt.title(\"Age Distribution\")\n",
    "plt.show()"
   ]
  },
  {
   "cell_type": "code",
   "execution_count": 69,
   "metadata": {},
   "outputs": [
    {
     "data": {
      "image/png": "[encoded data removed]",
      "text/plain": [
       "<matplotlib.figure.Figure at 0x7f986d434ba8>"
      ]
     },
     "metadata": {},
     "output_type": "display_data"
    }
   ],
   "source": [
    "### Hypothesis 2 - Fare is correlated with Survival Rate\n",
    "plt.figure(figsize=(20, 12))\n",
    "sns.distplot(combine[combine.Survived == 0].Fare, bins=range(0, 81, 1), color = 'red', label='Perished')\n",
    "sns.distplot(combine[combine.Survived == 1].Fare, bins=range(0, 81, 1), color = 'blue', label='Survived')\n",
    "plt.legend(loc='upper right')\n",
    "plt.title(\"Age Distribution\")\n",
    "plt.show()"
   ]
  },
  {
   "cell_type": "markdown",
   "metadata": {},
   "source": [
    "From the graphs above, it appears that passengers who are young tend to survive the Titanic crash. In addition, passengers who paid more for their fare tended to have a higher rate of survival. However, something stands out. There appears to be anomaly in the dataset - some passengers paid way more than \\$100 for their fare.\n",
    "\n",
    "We **may** need to conduct a secondary analysis to ensure that this is indeed an anomaly.\n",
    "\n",
    "---\n",
    "\n",
    "Let's test the third hypothesis."
   ]
  },
  {
   "cell_type": "code",
   "execution_count": 70,
   "metadata": {},
   "outputs": [
    {
     "data": {
      "image/png": "[encoded data removed]",
      "text/plain": [
       "<matplotlib.figure.Figure at 0x7f986e61fd30>"
      ]
     },
     "metadata": {},
     "output_type": "display_data"
    }
   ],
   "source": [
    "### Hypothesis 3 - Designation is correlated with Survival Rate\n",
    "plt.figure(figsize=(20, 12))\n",
    "sns.countplot(\"Designation\", hue='Survived', data=combine)\n",
    "plt.legend(loc='upper right')\n",
    "plt.show()"
   ]
  },
  {
   "cell_type": "markdown",
   "metadata": {},
   "source": [
    "The above plot seems to imply the following:\n",
    "\n",
    "1. Male passengers have a relatively low survival rate, compared to females\n",
    "2. Children tend to have a relatively high survival rate (their Designation is Master) \n",
    "3. There is not enough data about the other Designations to draw a decisive conclusion\n",
    "\n",
    "---\n",
    "\n",
    "Other hypotheses that we can carry out are as follows:\n",
    "\n",
    "1. Could the feature Ticket be correlated with the Survival Variable?\n",
    "2. Are passengers with Siblings/Spouses and Parents/Children more likely to survive than passengers travelling alone?"
   ]
  },
  {
   "cell_type": "code",
   "execution_count": 71,
   "metadata": {},
   "outputs": [
    {
     "data": {
      "text/plain": [
       "929"
      ]
     },
     "execution_count": 71,
     "metadata": {},
     "output_type": "execute_result"
    }
   ],
   "source": [
    "len(np.unique(combine.Ticket))"
   ]
  },
  {
   "cell_type": "code",
   "execution_count": 72,
   "metadata": {},
   "outputs": [
    {
     "data": {
      "text/plain": [
       "1309"
      ]
     },
     "execution_count": 72,
     "metadata": {},
     "output_type": "execute_result"
    }
   ],
   "source": [
    "len(combine.Ticket)"
   ]
  },
  {
   "cell_type": "markdown",
   "metadata": {},
   "source": [
    "We note that there are 929 unique value for tickets, but there are 1309 entries. Some passengers might be sharing tickets! To determine how many people are sharing tickets, we can use the DataFrame method, `groupby`. This can be done using the following function:"
   ]
  },
  {
   "cell_type": "code",
   "execution_count": 73,
   "metadata": {},
   "outputs": [
    {
     "data": {
      "text/plain": [
       "Ticket\n",
       "110152               3\n",
       "110413               3\n",
       "110465               2\n",
       "110469               1\n",
       "110489               1\n",
       "110564               1\n",
       "110813               2\n",
       "111163               1\n",
       "111240               1\n",
       "111320               1\n",
       "111361               2\n",
       "111369               1\n",
       "111426               1\n",
       "111427               1\n",
       "111428               1\n",
       "112050               1\n",
       "112051               1\n",
       "112052               1\n",
       "112053               1\n",
       "112058               2\n",
       "112059               1\n",
       "112277               1\n",
       "112377               1\n",
       "112378               2\n",
       "112379               1\n",
       "112901               1\n",
       "113028               1\n",
       "113038               1\n",
       "113043               1\n",
       "113044               1\n",
       "                    ..\n",
       "STON/O 2. 3101273    1\n",
       "STON/O 2. 3101274    1\n",
       "STON/O 2. 3101275    1\n",
       "STON/O 2. 3101280    1\n",
       "STON/O 2. 3101285    1\n",
       "STON/O 2. 3101286    1\n",
       "STON/O 2. 3101288    1\n",
       "STON/O 2. 3101289    1\n",
       "STON/O 2. 3101291    1\n",
       "STON/O 2. 3101292    1\n",
       "STON/O 2. 3101293    1\n",
       "STON/O 2. 3101294    1\n",
       "STON/O2. 3101270     1\n",
       "STON/O2. 3101271     1\n",
       "STON/O2. 3101279     2\n",
       "STON/O2. 3101282     1\n",
       "STON/O2. 3101283     1\n",
       "STON/O2. 3101290     1\n",
       "STON/OQ. 369943      1\n",
       "SW/PP 751            1\n",
       "W./C. 14258          1\n",
       "W./C. 14260          1\n",
       "W./C. 14263          1\n",
       "W./C. 14266          1\n",
       "W./C. 6607           4\n",
       "W./C. 6608           5\n",
       "W./C. 6609           1\n",
       "W.E.P. 5734          2\n",
       "W/C 14208            1\n",
       "WE/P 5735            2\n",
       "Length: 929, dtype: int64"
      ]
     },
     "execution_count": 73,
     "metadata": {},
     "output_type": "execute_result"
    }
   ],
   "source": [
    "combine.groupby('Ticket').size()"
   ]
  },
  {
   "cell_type": "markdown",
   "metadata": {},
   "source": [
    "We note that there are 3 people sharing the same ticket, \"110152\". The following function returns the number of passengers that are holding a ticket number similar to the passenger ID, including himself:"
   ]
  },
  {
   "cell_type": "code",
   "execution_count": 74,
   "metadata": {},
   "outputs": [
    {
     "data": {
      "text/plain": [
       "PassengerId\n",
       "1    1\n",
       "2    2\n",
       "3    1\n",
       "4    2\n",
       "5    1\n",
       "Name: Name, dtype: int64"
      ]
     },
     "execution_count": 74,
     "metadata": {},
     "output_type": "execute_result"
    }
   ],
   "source": [
    "# We group by the ticket number, and count the number of times the same ticket number appears in the column\n",
    "combine.groupby('Ticket')['Name'].transform(\"count\").head()"
   ]
  },
  {
   "cell_type": "code",
   "execution_count": 75,
   "metadata": {},
   "outputs": [
    {
     "data": {
      "image/png": "[encoded data removed]",
      "text/plain": [
       "<matplotlib.figure.Figure at 0x7f986e64f940>"
      ]
     },
     "metadata": {},
     "output_type": "display_data"
    }
   ],
   "source": [
    "combine['SharedTickets'] = combine.groupby('Ticket')['Name'].transform(\"count\")\n",
    "\n",
    "plt.figure(figsize=(18, 10))\n",
    "sns.countplot(combine.SharedTickets)\n",
    "plt.show()"
   ]
  },
  {
   "cell_type": "markdown",
   "metadata": {},
   "source": [
    "Are passengers who share tickets more or less likely to perish? To find out, we can use the `sns.distplot` function to find out."
   ]
  },
  {
   "cell_type": "code",
   "execution_count": 76,
   "metadata": {},
   "outputs": [
    {
     "data": {
      "image/png": "[encoded data removed]",
      "text/plain": [
       "<matplotlib.figure.Figure at 0x7f986eb09128>"
      ]
     },
     "metadata": {},
     "output_type": "display_data"
    }
   ],
   "source": [
    "plt.figure(figsize=(20, 10))\n",
    "\n",
    "sns.distplot(combine[(combine.Survived == 0)].SharedTickets.dropna(),\n",
    "             bins = range(1, 12, 1), kde = False, norm_hist = True, color = 'red', label='Perished')\n",
    "\n",
    "sns.distplot(combine[(combine.Survived == 1)].SharedTickets.dropna(),\n",
    "             bins = range(1, 12, 1), kde = False, norm_hist = True, color = 'blue', label='Survived')\n",
    "\n",
    "plt.legend(loc='upper right')\n",
    "plt.title('Distribution of Shared Tickets')\n",
    "plt.show()"
   ]
  },
  {
   "cell_type": "markdown",
   "metadata": {},
   "source": [
    " "
   ]
  },
  {
   "cell_type": "markdown",
   "metadata": {},
   "source": [
    "It appears that passengers who shared tickets with 1, 2 or 3 other friends or relative had a higher chance of survival. To capture this, we can create a new feature called \"GoodSharedTicket\". In addition, we can also create a new column called, \"Alone\"."
   ]
  },
  {
   "cell_type": "code",
   "execution_count": 77,
   "metadata": {},
   "outputs": [],
   "source": [
    "combine['GoodSharedTickets'] = ((combine.SharedTickets >= 2) & (combine.SharedTickets <= 4))\n",
    "combine['Alone'] = combine.SharedTickets == 1"
   ]
  },
  {
   "cell_type": "code",
   "execution_count": 78,
   "metadata": {},
   "outputs": [
    {
     "data": {
      "text/html": [
       "<div>\n",
       "<style scoped>\n",
       "    .dataframe tbody tr th:only-of-type {\n",
       "        vertical-align: middle;\n",
       "    }\n",
       "\n",
       "    .dataframe tbody tr th {\n",
       "        vertical-align: top;\n",
       "    }\n",
       "\n",
       "    .dataframe thead th {\n",
       "        text-align: right;\n",
       "    }\n",
       "</style>\n",
       "<table border=\"1\" class=\"dataframe\">\n",
       "  <thead>\n",
       "    <tr style=\"text-align: right;\">\n",
       "      <th></th>\n",
       "      <th>Age</th>\n",
       "      <th>Cabin</th>\n",
       "      <th>Embarked</th>\n",
       "      <th>Fare</th>\n",
       "      <th>Name</th>\n",
       "      <th>Parch</th>\n",
       "      <th>Pclass</th>\n",
       "      <th>Sex</th>\n",
       "      <th>SibSp</th>\n",
       "      <th>Survived</th>\n",
       "      <th>Ticket</th>\n",
       "      <th>LastName</th>\n",
       "      <th>FirstName</th>\n",
       "      <th>Designation</th>\n",
       "      <th>NewAge</th>\n",
       "      <th>SharedTickets</th>\n",
       "      <th>GoodSharedTickets</th>\n",
       "      <th>Alone</th>\n",
       "    </tr>\n",
       "    <tr>\n",
       "      <th>PassengerId</th>\n",
       "      <th></th>\n",
       "      <th></th>\n",
       "      <th></th>\n",
       "      <th></th>\n",
       "      <th></th>\n",
       "      <th></th>\n",
       "      <th></th>\n",
       "      <th></th>\n",
       "      <th></th>\n",
       "      <th></th>\n",
       "      <th></th>\n",
       "      <th></th>\n",
       "      <th></th>\n",
       "      <th></th>\n",
       "      <th></th>\n",
       "      <th></th>\n",
       "      <th></th>\n",
       "      <th></th>\n",
       "    </tr>\n",
       "  </thead>\n",
       "  <tbody>\n",
       "    <tr>\n",
       "      <th>1</th>\n",
       "      <td>22.0</td>\n",
       "      <td>N</td>\n",
       "      <td>S</td>\n",
       "      <td>7.2500</td>\n",
       "      <td>Braund, Mr. Owen Harris</td>\n",
       "      <td>0</td>\n",
       "      <td>3</td>\n",
       "      <td>male</td>\n",
       "      <td>1</td>\n",
       "      <td>0.0</td>\n",
       "      <td>A/5 21171</td>\n",
       "      <td>Braund</td>\n",
       "      <td>Owen Harris</td>\n",
       "      <td>Mr</td>\n",
       "      <td>22.0</td>\n",
       "      <td>1</td>\n",
       "      <td>False</td>\n",
       "      <td>True</td>\n",
       "    </tr>\n",
       "    <tr>\n",
       "      <th>2</th>\n",
       "      <td>38.0</td>\n",
       "      <td>C85</td>\n",
       "      <td>C</td>\n",
       "      <td>71.2833</td>\n",
       "      <td>Cumings, Mrs. John Bradley (Florence Briggs Th...</td>\n",
       "      <td>0</td>\n",
       "      <td>1</td>\n",
       "      <td>female</td>\n",
       "      <td>1</td>\n",
       "      <td>1.0</td>\n",
       "      <td>PC 17599</td>\n",
       "      <td>Cumings</td>\n",
       "      <td>John Bradley (Florence Briggs Thayer)</td>\n",
       "      <td>Mrs</td>\n",
       "      <td>38.0</td>\n",
       "      <td>2</td>\n",
       "      <td>True</td>\n",
       "      <td>False</td>\n",
       "    </tr>\n",
       "    <tr>\n",
       "      <th>3</th>\n",
       "      <td>26.0</td>\n",
       "      <td>N</td>\n",
       "      <td>S</td>\n",
       "      <td>7.9250</td>\n",
       "      <td>Heikkinen, Miss. Laina</td>\n",
       "      <td>0</td>\n",
       "      <td>3</td>\n",
       "      <td>female</td>\n",
       "      <td>0</td>\n",
       "      <td>1.0</td>\n",
       "      <td>STON/O2. 3101282</td>\n",
       "      <td>Heikkinen</td>\n",
       "      <td>Laina</td>\n",
       "      <td>Miss</td>\n",
       "      <td>26.0</td>\n",
       "      <td>1</td>\n",
       "      <td>False</td>\n",
       "      <td>True</td>\n",
       "    </tr>\n",
       "    <tr>\n",
       "      <th>4</th>\n",
       "      <td>35.0</td>\n",
       "      <td>C123</td>\n",
       "      <td>S</td>\n",
       "      <td>53.1000</td>\n",
       "      <td>Futrelle, Mrs. Jacques Heath (Lily May Peel)</td>\n",
       "      <td>0</td>\n",
       "      <td>1</td>\n",
       "      <td>female</td>\n",
       "      <td>1</td>\n",
       "      <td>1.0</td>\n",
       "      <td>113803</td>\n",
       "      <td>Futrelle</td>\n",
       "      <td>Jacques Heath (Lily May Peel)</td>\n",
       "      <td>Mrs</td>\n",
       "      <td>35.0</td>\n",
       "      <td>2</td>\n",
       "      <td>True</td>\n",
       "      <td>False</td>\n",
       "    </tr>\n",
       "    <tr>\n",
       "      <th>5</th>\n",
       "      <td>35.0</td>\n",
       "      <td>N</td>\n",
       "      <td>S</td>\n",
       "      <td>8.0500</td>\n",
       "      <td>Allen, Mr. William Henry</td>\n",
       "      <td>0</td>\n",
       "      <td>3</td>\n",
       "      <td>male</td>\n",
       "      <td>0</td>\n",
       "      <td>0.0</td>\n",
       "      <td>373450</td>\n",
       "      <td>Allen</td>\n",
       "      <td>William Henry</td>\n",
       "      <td>Mr</td>\n",
       "      <td>35.0</td>\n",
       "      <td>1</td>\n",
       "      <td>False</td>\n",
       "      <td>True</td>\n",
       "    </tr>\n",
       "  </tbody>\n",
       "</table>\n",
       "</div>"
      ],
      "text/plain": [
       "              Age Cabin Embarked     Fare  \\\n",
       "PassengerId                                 \n",
       "1            22.0     N        S   7.2500   \n",
       "2            38.0   C85        C  71.2833   \n",
       "3            26.0     N        S   7.9250   \n",
       "4            35.0  C123        S  53.1000   \n",
       "5            35.0     N        S   8.0500   \n",
       "\n",
       "                                                          Name  Parch  Pclass  \\\n",
       "PassengerId                                                                     \n",
       "1                                      Braund, Mr. Owen Harris      0       3   \n",
       "2            Cumings, Mrs. John Bradley (Florence Briggs Th...      0       1   \n",
       "3                                       Heikkinen, Miss. Laina      0       3   \n",
       "4                 Futrelle, Mrs. Jacques Heath (Lily May Peel)      0       1   \n",
       "5                                     Allen, Mr. William Henry      0       3   \n",
       "\n",
       "                Sex  SibSp  Survived            Ticket   LastName  \\\n",
       "PassengerId                                                         \n",
       "1              male      1       0.0         A/5 21171     Braund   \n",
       "2            female      1       1.0          PC 17599    Cumings   \n",
       "3            female      0       1.0  STON/O2. 3101282  Heikkinen   \n",
       "4            female      1       1.0            113803   Futrelle   \n",
       "5              male      0       0.0            373450      Allen   \n",
       "\n",
       "                                         FirstName Designation  NewAge  \\\n",
       "PassengerId                                                              \n",
       "1                                      Owen Harris          Mr    22.0   \n",
       "2            John Bradley (Florence Briggs Thayer)         Mrs    38.0   \n",
       "3                                            Laina        Miss    26.0   \n",
       "4                    Jacques Heath (Lily May Peel)         Mrs    35.0   \n",
       "5                                    William Henry          Mr    35.0   \n",
       "\n",
       "             SharedTickets  GoodSharedTickets  Alone  \n",
       "PassengerId                                           \n",
       "1                        1              False   True  \n",
       "2                        2               True  False  \n",
       "3                        1              False   True  \n",
       "4                        2               True  False  \n",
       "5                        1              False   True  "
      ]
     },
     "execution_count": 78,
     "metadata": {},
     "output_type": "execute_result"
    }
   ],
   "source": [
    "combine.head()"
   ]
  },
  {
   "cell_type": "markdown",
   "metadata": {},
   "source": [
    "Recall that we had tickets costing more than \\$500. Let's take a closer look at those tickets."
   ]
  },
  {
   "cell_type": "code",
   "execution_count": 79,
   "metadata": {},
   "outputs": [
    {
     "data": {
      "text/html": [
       "<div>\n",
       "<style scoped>\n",
       "    .dataframe tbody tr th:only-of-type {\n",
       "        vertical-align: middle;\n",
       "    }\n",
       "\n",
       "    .dataframe tbody tr th {\n",
       "        vertical-align: top;\n",
       "    }\n",
       "\n",
       "    .dataframe thead th {\n",
       "        text-align: right;\n",
       "    }\n",
       "</style>\n",
       "<table border=\"1\" class=\"dataframe\">\n",
       "  <thead>\n",
       "    <tr style=\"text-align: right;\">\n",
       "      <th></th>\n",
       "      <th>Age</th>\n",
       "      <th>Cabin</th>\n",
       "      <th>Embarked</th>\n",
       "      <th>Fare</th>\n",
       "      <th>Name</th>\n",
       "      <th>Parch</th>\n",
       "      <th>Pclass</th>\n",
       "      <th>Sex</th>\n",
       "      <th>SibSp</th>\n",
       "      <th>Survived</th>\n",
       "      <th>Ticket</th>\n",
       "      <th>LastName</th>\n",
       "      <th>FirstName</th>\n",
       "      <th>Designation</th>\n",
       "      <th>NewAge</th>\n",
       "      <th>SharedTickets</th>\n",
       "      <th>GoodSharedTickets</th>\n",
       "      <th>Alone</th>\n",
       "    </tr>\n",
       "    <tr>\n",
       "      <th>PassengerId</th>\n",
       "      <th></th>\n",
       "      <th></th>\n",
       "      <th></th>\n",
       "      <th></th>\n",
       "      <th></th>\n",
       "      <th></th>\n",
       "      <th></th>\n",
       "      <th></th>\n",
       "      <th></th>\n",
       "      <th></th>\n",
       "      <th></th>\n",
       "      <th></th>\n",
       "      <th></th>\n",
       "      <th></th>\n",
       "      <th></th>\n",
       "      <th></th>\n",
       "      <th></th>\n",
       "      <th></th>\n",
       "    </tr>\n",
       "  </thead>\n",
       "  <tbody>\n",
       "    <tr>\n",
       "      <th>259</th>\n",
       "      <td>35.0</td>\n",
       "      <td>N</td>\n",
       "      <td>C</td>\n",
       "      <td>512.3292</td>\n",
       "      <td>Ward, Miss. Anna</td>\n",
       "      <td>0</td>\n",
       "      <td>1</td>\n",
       "      <td>female</td>\n",
       "      <td>0</td>\n",
       "      <td>1.0</td>\n",
       "      <td>PC 17755</td>\n",
       "      <td>Ward</td>\n",
       "      <td>Anna</td>\n",
       "      <td>Miss</td>\n",
       "      <td>35.0</td>\n",
       "      <td>4</td>\n",
       "      <td>True</td>\n",
       "      <td>False</td>\n",
       "    </tr>\n",
       "    <tr>\n",
       "      <th>680</th>\n",
       "      <td>36.0</td>\n",
       "      <td>B51 B53 B55</td>\n",
       "      <td>C</td>\n",
       "      <td>512.3292</td>\n",
       "      <td>Cardeza, Mr. Thomas Drake Martinez</td>\n",
       "      <td>1</td>\n",
       "      <td>1</td>\n",
       "      <td>male</td>\n",
       "      <td>0</td>\n",
       "      <td>1.0</td>\n",
       "      <td>PC 17755</td>\n",
       "      <td>Cardeza</td>\n",
       "      <td>Thomas Drake Martinez</td>\n",
       "      <td>Mr</td>\n",
       "      <td>36.0</td>\n",
       "      <td>4</td>\n",
       "      <td>True</td>\n",
       "      <td>False</td>\n",
       "    </tr>\n",
       "    <tr>\n",
       "      <th>738</th>\n",
       "      <td>35.0</td>\n",
       "      <td>B101</td>\n",
       "      <td>C</td>\n",
       "      <td>512.3292</td>\n",
       "      <td>Lesurer, Mr. Gustave J</td>\n",
       "      <td>0</td>\n",
       "      <td>1</td>\n",
       "      <td>male</td>\n",
       "      <td>0</td>\n",
       "      <td>1.0</td>\n",
       "      <td>PC 17755</td>\n",
       "      <td>Lesurer</td>\n",
       "      <td>Gustave J</td>\n",
       "      <td>Mr</td>\n",
       "      <td>35.0</td>\n",
       "      <td>4</td>\n",
       "      <td>True</td>\n",
       "      <td>False</td>\n",
       "    </tr>\n",
       "    <tr>\n",
       "      <th>1235</th>\n",
       "      <td>58.0</td>\n",
       "      <td>B51 B53 B55</td>\n",
       "      <td>C</td>\n",
       "      <td>512.3292</td>\n",
       "      <td>Cardeza, Mrs. James Warburton Martinez (Charlo...</td>\n",
       "      <td>1</td>\n",
       "      <td>1</td>\n",
       "      <td>female</td>\n",
       "      <td>0</td>\n",
       "      <td>NaN</td>\n",
       "      <td>PC 17755</td>\n",
       "      <td>Cardeza</td>\n",
       "      <td>James Warburton Martinez (Charlotte Wardle Drake)</td>\n",
       "      <td>Mrs</td>\n",
       "      <td>58.0</td>\n",
       "      <td>4</td>\n",
       "      <td>True</td>\n",
       "      <td>False</td>\n",
       "    </tr>\n",
       "  </tbody>\n",
       "</table>\n",
       "</div>"
      ],
      "text/plain": [
       "              Age        Cabin Embarked      Fare  \\\n",
       "PassengerId                                         \n",
       "259          35.0            N        C  512.3292   \n",
       "680          36.0  B51 B53 B55        C  512.3292   \n",
       "738          35.0         B101        C  512.3292   \n",
       "1235         58.0  B51 B53 B55        C  512.3292   \n",
       "\n",
       "                                                          Name  Parch  Pclass  \\\n",
       "PassengerId                                                                     \n",
       "259                                           Ward, Miss. Anna      0       1   \n",
       "680                         Cardeza, Mr. Thomas Drake Martinez      1       1   \n",
       "738                                     Lesurer, Mr. Gustave J      0       1   \n",
       "1235         Cardeza, Mrs. James Warburton Martinez (Charlo...      1       1   \n",
       "\n",
       "                Sex  SibSp  Survived    Ticket LastName  \\\n",
       "PassengerId                                               \n",
       "259          female      0       1.0  PC 17755     Ward   \n",
       "680            male      0       1.0  PC 17755  Cardeza   \n",
       "738            male      0       1.0  PC 17755  Lesurer   \n",
       "1235         female      0       NaN  PC 17755  Cardeza   \n",
       "\n",
       "                                                     FirstName Designation  \\\n",
       "PassengerId                                                                  \n",
       "259                                                       Anna        Miss   \n",
       "680                                      Thomas Drake Martinez          Mr   \n",
       "738                                                  Gustave J          Mr   \n",
       "1235         James Warburton Martinez (Charlotte Wardle Drake)         Mrs   \n",
       "\n",
       "             NewAge  SharedTickets  GoodSharedTickets  Alone  \n",
       "PassengerId                                                   \n",
       "259            35.0              4               True  False  \n",
       "680            36.0              4               True  False  \n",
       "738            35.0              4               True  False  \n",
       "1235           58.0              4               True  False  "
      ]
     },
     "execution_count": 79,
     "metadata": {},
     "output_type": "execute_result"
    }
   ],
   "source": [
    "combine[combine.Fare >= 500]"
   ]
  },
  {
   "cell_type": "markdown",
   "metadata": {},
   "source": [
    "There is something similar across all ticket-holders; they all share the same ticket! One theory might be that the ticket fare, \\$512.3292, might reflect the joint total instead of the fare each person paid. If we believe this to be true, we can simply create a new fare column by using the fare to divide by the number of people that shared the same ticket."
   ]
  },
  {
   "cell_type": "code",
   "execution_count": 80,
   "metadata": {},
   "outputs": [],
   "source": [
    "combine['NormalisedFare'] = combine.Fare / combine.SharedTickets"
   ]
  },
  {
   "cell_type": "code",
   "execution_count": 81,
   "metadata": {},
   "outputs": [
    {
     "name": "stdout",
     "output_type": "stream",
     "text": [
      "Max Fare is 512.329200\n",
      "Max Normalised Fare is 128.082300\n"
     ]
    }
   ],
   "source": [
    "print('Max Fare is %f' % max(combine.Fare))\n",
    "print('Max Normalised Fare is %f' % max(combine.NormalisedFare))"
   ]
  },
  {
   "cell_type": "code",
   "execution_count": 82,
   "metadata": {
    "scrolled": false
   },
   "outputs": [
    {
     "data": {
      "image/png": "[encoded data removed]",
      "text/plain": [
       "<matplotlib.figure.Figure at 0x7f986eb0ce10>"
      ]
     },
     "metadata": {},
     "output_type": "display_data"
    }
   ],
   "source": [
    "### Revised Hypothesis 2\n",
    "plt.figure(figsize=(20, 12))\n",
    "sns.distplot(combine[combine.Survived == 0].NormalisedFare, bins=range(0, 131, 1), color = 'red', label='Perished')\n",
    "sns.distplot(combine[combine.Survived == 1].NormalisedFare, bins=range(0, 131, 1), color = 'blue', label='Survived')\n",
    "plt.legend(loc='upper right')\n",
    "plt.title(\"Age Distribution\")\n",
    "plt.show()"
   ]
  },
  {
   "cell_type": "markdown",
   "metadata": {},
   "source": [
    "All in all, the observation that passengers who paid higher fares has a higher rate of survival still stands.\n",
    "\n",
    "---\n",
    "\n",
    "#### Investing the Cabin Variable\n",
    "\n",
    "Finally, we investigate the cabin variable, and check whether we are able to generate any new features from it."
   ]
  },
  {
   "cell_type": "code",
   "execution_count": 83,
   "metadata": {},
   "outputs": [
    {
     "data": {
      "text/plain": [
       "array(['A10', 'A11', 'A14', 'A16', 'A18', 'A19', 'A20', 'A21', 'A23',\n",
       "       'A24', 'A26', 'A29', 'A31', 'A32', 'A34', 'A36', 'A5', 'A6', 'A7',\n",
       "       'A9', 'B10', 'B101', 'B102', 'B11', 'B18', 'B19', 'B20', 'B22',\n",
       "       'B24', 'B26', 'B28', 'B3', 'B30', 'B35', 'B36', 'B37', 'B38',\n",
       "       'B39', 'B4', 'B41', 'B42', 'B45', 'B49', 'B5', 'B50',\n",
       "       'B51 B53 B55', 'B52 B54 B56', 'B57 B59 B63 B66', 'B58 B60', 'B61',\n",
       "       'B69', 'B71', 'B73', 'B77', 'B78', 'B79', 'B80', 'B82 B84', 'B86',\n",
       "       'B94', 'B96 B98', 'C101', 'C103', 'C104', 'C105', 'C106', 'C110',\n",
       "       'C111', 'C116', 'C118', 'C123', 'C124', 'C125', 'C126', 'C128',\n",
       "       'C130', 'C132', 'C148', 'C2', 'C22 C26', 'C23 C25 C27', 'C28',\n",
       "       'C30', 'C31', 'C32', 'C39', 'C45', 'C46', 'C47', 'C49', 'C50',\n",
       "       'C51', 'C52', 'C53', 'C54', 'C55 C57', 'C6', 'C62 C64', 'C65',\n",
       "       'C68', 'C7', 'C70', 'C78', 'C80', 'C82', 'C83', 'C85', 'C86',\n",
       "       'C87', 'C89', 'C90', 'C91', 'C92', 'C93', 'C95', 'C97', 'C99', 'D',\n",
       "       'D10 D12', 'D11', 'D15', 'D17', 'D19', 'D20', 'D21', 'D22', 'D26',\n",
       "       'D28', 'D30', 'D33', 'D34', 'D35', 'D36', 'D37', 'D38', 'D40',\n",
       "       'D43', 'D45', 'D46', 'D47', 'D48', 'D49', 'D50', 'D56', 'D6', 'D7',\n",
       "       'D9', 'E10', 'E101', 'E12', 'E121', 'E17', 'E24', 'E25', 'E31',\n",
       "       'E33', 'E34', 'E36', 'E38', 'E39 E41', 'E40', 'E44', 'E45', 'E46',\n",
       "       'E49', 'E50', 'E52', 'E58', 'E60', 'E63', 'E67', 'E68', 'E77',\n",
       "       'E8', 'F', 'F E46', 'F E57', 'F E69', 'F G63', 'F G73', 'F2',\n",
       "       'F33', 'F38', 'F4', 'G6', 'N', 'T'], dtype=object)"
      ]
     },
     "execution_count": 83,
     "metadata": {},
     "output_type": "execute_result"
    }
   ],
   "source": [
    "np.unique(combine.Cabin)"
   ]
  },
  {
   "cell_type": "markdown",
   "metadata": {},
   "source": [
    "We note that there are many different types of cabins, and some passengers \"share\" cabins with other passengers. To capture these effects, we can create a new column, \"CabinType\" (for example, the cabin type of cabin \"A35\" is \"A\"), using the first character of the Cabin feature, and another, \"NoCabin\" to capture the number of cabins that the passengers were staying in."
   ]
  },
  {
   "cell_type": "code",
   "execution_count": 84,
   "metadata": {},
   "outputs": [
    {
     "name": "stderr",
     "output_type": "stream",
     "text": [
      "/Users/ngbolin/anaconda3/lib/python3.6/site-packages/seaborn/categorical.py:3666: UserWarning: The `factorplot` function has been renamed to `catplot`. The original name will be removed in a future release. Please update your code. Note that the default `kind` in `factorplot` (`'point'`) has changed `'strip'` in `catplot`.\n",
      "  warnings.warn(msg)\n"
     ]
    },
    {
     "data": {
      "image/png": "[encoded data removed]",
      "text/plain": [
       "<matplotlib.figure.Figure at 0x7f986e2a2a58>"
      ]
     },
     "metadata": {},
     "output_type": "display_data"
    }
   ],
   "source": [
    "combine['CabinType'] = combine.Cabin.apply(lambda x: x[0])\n",
    "\n",
    "def number_of_cabins(cabin):\n",
    "    if cabin == 'N': return 0\n",
    "    else: return len(cabin.split(' '))\n",
    "    \n",
    "combine['NoCabin'] = combine.Cabin.apply(lambda x: number_of_cabins(x))\n",
    "\n",
    "fig = plt.figure(figsize=(20, 10))\n",
    "ax1 = fig.add_subplot(121); ax2 = fig.add_subplot(122)\n",
    "\n",
    "g1 = sns.factorplot('NoCabin', 'Survived', \n",
    "                    kind = 'bar', data = combine, ax = ax1)\n",
    "plt.close(g1.fig)\n",
    "g2 = sns.factorplot('CabinType', 'Survived', \n",
    "                    kind = 'bar', data = combine, ax = ax2)\n",
    "plt.close(g2.fig)\n",
    "plt.show()"
   ]
  },
  {
   "cell_type": "markdown",
   "metadata": {},
   "source": [
    "As it turns out, passengers staying in cabins had a higher possibility of surviving, but the effect does not increase with the number of cabins. In fact, the higher number of cabins, the lower the probability of the passenger surviving. We can then convert this column to categorical instead of numerical to capture the asymmetric effects.\n",
    "\n",
    "From the Cabin types, we note that passengers staying in the \"E\", \"D\", and \"B\" cabins had a higher survival rate. "
   ]
  },
  {
   "cell_type": "code",
   "execution_count": 85,
   "metadata": {
    "scrolled": false
   },
   "outputs": [
    {
     "name": "stdout",
     "output_type": "stream",
     "text": [
      "category\n"
     ]
    }
   ],
   "source": [
    "combine['NoCabin'] = pd.Categorical(combine.NoCabin)\n",
    "print(combine.NoCabin.dtypes)"
   ]
  },
  {
   "cell_type": "markdown",
   "metadata": {},
   "source": [
    "### Feature Selection\n",
    "\n",
    "After all this, we can begin to select features which we believe are informative of the response variable. We typically do so using a heatmap/correlation plot."
   ]
  },
  {
   "cell_type": "code",
   "execution_count": 86,
   "metadata": {},
   "outputs": [
    {
     "data": {
      "image/png": "[encoded data removed]",
      "text/plain": [
       "<matplotlib.figure.Figure at 0x7f986e0d79e8>"
      ]
     },
     "metadata": {},
     "output_type": "display_data"
    }
   ],
   "source": [
    "plt.figure(figsize=(20, 12))\n",
    "sns.heatmap(combine.corr(), cmap='Blues', annot=True)\n",
    "plt.show()"
   ]
  },
  {
   "cell_type": "markdown",
   "metadata": {},
   "source": [
    "From the correlation plot, we note that the following features seem to be fairly highly correlated with the \"Survived\" feature:\n",
    "\n",
    "1. NormalisedFare\n",
    "2. GoodSharedTickets\n",
    "3. NewAge\n",
    "4. PassengerClass\n",
    "\n",
    "In addition, we will include some other categorical features not included in the correlation plots:\n",
    "\n",
    "1. Gender\n",
    "2. CabinType\n",
    "3. NoCabin\n",
    "4. Designation"
   ]
  },
  {
   "cell_type": "code",
   "execution_count": 87,
   "metadata": {},
   "outputs": [],
   "source": [
    "features = ['NormalisedFare', 'GoodSharedTickets', 'NewAge', 'Pclass', 'Alone',\n",
    "            'Sex', 'CabinType', 'NoCabin', 'Designation']\n",
    "\n",
    "X = combine[features]\n",
    "y = combine['Survived']"
   ]
  },
  {
   "cell_type": "markdown",
   "metadata": {},
   "source": [
    "In the next section, we introduce several libaries that are useful for the purpose of our analysis. In addition, we start off with a basic example to get a better understanding of the libraries.\n",
    "\n",
    "This section was lifted from [Real Python](https://realpython.com/linear-regression-in-python/).\n",
    "\n",
    "We begin with a gentle introduction to Simple Linear Regression with Python. \n",
    "\n",
    "Note that we have to provide a 2-dimensional array for the independent variables, since 1 dimension is used as a count of the number of observations, while the other stores the potential independent variables (could be more than 1). We can do this easily with the `reshape` method."
   ]
  },
  {
   "cell_type": "code",
   "execution_count": 88,
   "metadata": {},
   "outputs": [
    {
     "name": "stdout",
     "output_type": "stream",
     "text": [
      "[[ 5]\n",
      " [15]\n",
      " [25]\n",
      " [35]\n",
      " [45]\n",
      " [55]]\n",
      "[ 5 20 14 32 22 38]\n"
     ]
    }
   ],
   "source": [
    "# Importing the linear_model library from sklearn\n",
    "from sklearn import linear_model\n",
    "\n",
    "# Define x and y\n",
    "x0 = np.array([5, 15, 25, 35, 45, 55]).reshape([-1,1]) # Reshape here reshapes the array into 2 dimensions.\n",
    "y0 = np.array([5, 20, 14, 32, 22, 38])\n",
    "\n",
    "print(x0)\n",
    "print(y0)"
   ]
  },
  {
   "cell_type": "code",
   "execution_count": 89,
   "metadata": {},
   "outputs": [
    {
     "data": {
      "text/plain": [
       "LinearRegression(copy_X=True, fit_intercept=True, n_jobs=1, normalize=False)"
      ]
     },
     "execution_count": 89,
     "metadata": {},
     "output_type": "execute_result"
    }
   ],
   "source": [
    "# First, we tell Python that the model of choice is the linear regression model\n",
    "model = linear_model.LinearRegression(fit_intercept=True)\n",
    "model.fit(x0,y0)"
   ]
  },
  {
   "cell_type": "code",
   "execution_count": 90,
   "metadata": {},
   "outputs": [
    {
     "name": "stdout",
     "output_type": "stream",
     "text": [
      "0.715875613747954\n",
      "5.633333333333333\n",
      "0.5399999999999999\n"
     ]
    }
   ],
   "source": [
    "# After fitting, we can obtain the R-sq, intercept and coefficient of the parameter of interest\n",
    "r_sq = model.score(x0,y0)\n",
    "print(r_sq)\n",
    "print(model.intercept_)\n",
    "print(model.coef_[0])"
   ]
  },
  {
   "cell_type": "code",
   "execution_count": 91,
   "metadata": {},
   "outputs": [
    {
     "data": {
      "text/plain": [
       "array([ 8.33333333, 13.73333333, 19.13333333, 24.53333333, 29.93333333,\n",
       "       35.33333333])"
      ]
     },
     "execution_count": 91,
     "metadata": {},
     "output_type": "execute_result"
    }
   ],
   "source": [
    "# Finally, to use the fitted model for prediction, we can simply call the prediction function of the model\n",
    "model.predict(x0)"
   ]
  },
  {
   "cell_type": "markdown",
   "metadata": {},
   "source": [
    "Next, we look at an example that uses multiple variables - Multiple Linear Regression"
   ]
  },
  {
   "cell_type": "code",
   "execution_count": 92,
   "metadata": {},
   "outputs": [
    {
     "data": {
      "text/plain": [
       "8"
      ]
     },
     "execution_count": 92,
     "metadata": {},
     "output_type": "execute_result"
    }
   ],
   "source": [
    "x1 = [[0, 1], [5, 1], [15, 2], [25, 5], [35, 11], [45, 15], [55, 34], [60, 35]]\n",
    "y1 = [4, 5, 20, 14, 32, 22, 38, 43]\n",
    "\n",
    "# We have 8 observations and 2 independent variables\n",
    "len(x1)"
   ]
  },
  {
   "cell_type": "code",
   "execution_count": 93,
   "metadata": {},
   "outputs": [
    {
     "data": {
      "text/plain": [
       "LinearRegression(copy_X=True, fit_intercept=True, n_jobs=1, normalize=False)"
      ]
     },
     "execution_count": 93,
     "metadata": {},
     "output_type": "execute_result"
    }
   ],
   "source": [
    "# To run a multiple linear regression, we can do the same\n",
    "model = linear_model.LinearRegression(fit_intercept=True)\n",
    "model.fit(x1,y1)"
   ]
  },
  {
   "cell_type": "code",
   "execution_count": 94,
   "metadata": {},
   "outputs": [
    {
     "name": "stdout",
     "output_type": "stream",
     "text": [
      "0.8615939258756776\n",
      "5.522579275198183\n",
      "[0.44706965 0.25502548]\n"
     ]
    }
   ],
   "source": [
    "r_sq = model.score(x1,y1)\n",
    "print(r_sq)\n",
    "print(model.intercept_)\n",
    "print(model.coef_) # Note that model.coef_ returns a list since there might be more than 1X"
   ]
  },
  {
   "cell_type": "code",
   "execution_count": 95,
   "metadata": {},
   "outputs": [
    {
     "data": {
      "text/plain": [
       "array([ 5.77760476,  8.012953  , 12.73867497, 17.9744479 , 23.97529728,\n",
       "       29.4660957 , 38.78227633, 41.27265006])"
      ]
     },
     "execution_count": 95,
     "metadata": {},
     "output_type": "execute_result"
    }
   ],
   "source": [
    "model.predict(x1)"
   ]
  },
  {
   "cell_type": "markdown",
   "metadata": {},
   "source": [
    "Now that we have a working understanding of how to run a linear regression, let's apply this knowledge to the Titanic dataset. Before we can run the analysis, recall that we have categorical data - we have to One-Hot "
   ]
  },
  {
   "cell_type": "code",
   "execution_count": 96,
   "metadata": {},
   "outputs": [],
   "source": [
    "from sklearn.preprocessing import OneHotEncoder\n",
    "\n",
    "enc = OneHotEncoder() # We drop the first category to avoid multicollinearity issues\n",
    "\n",
    "catfeatures = ['GoodSharedTickets', 'NoCabin', 'Pclass', 'Alone', 'Sex', 'CabinType', 'Designation']\n",
    "for feature in catfeatures:\n",
    "    Z = pd.get_dummies(X[feature])\n",
    "    X = pd.merge(X,Z,left_index=True,right_index=True)"
   ]
  },
  {
   "cell_type": "code",
   "execution_count": 97,
   "metadata": {},
   "outputs": [],
   "source": [
    "for feature in catfeatures:\n",
    "    del X[feature]"
   ]
  },
  {
   "cell_type": "code",
   "execution_count": 98,
   "metadata": {},
   "outputs": [
    {
     "data": {
      "text/html": [
       "<div>\n",
       "<style scoped>\n",
       "    .dataframe tbody tr th:only-of-type {\n",
       "        vertical-align: middle;\n",
       "    }\n",
       "\n",
       "    .dataframe tbody tr th {\n",
       "        vertical-align: top;\n",
       "    }\n",
       "\n",
       "    .dataframe thead th {\n",
       "        text-align: right;\n",
       "    }\n",
       "</style>\n",
       "<table border=\"1\" class=\"dataframe\">\n",
       "  <thead>\n",
       "    <tr style=\"text-align: right;\">\n",
       "      <th></th>\n",
       "      <th>NormalisedFare</th>\n",
       "      <th>NewAge</th>\n",
       "      <th>False_x</th>\n",
       "      <th>True_x</th>\n",
       "      <th>0_y</th>\n",
       "      <th>1_y</th>\n",
       "      <th>2_x</th>\n",
       "      <th>3_x</th>\n",
       "      <th>4</th>\n",
       "      <th>1_x</th>\n",
       "      <th>...</th>\n",
       "      <th>Master</th>\n",
       "      <th>Miss</th>\n",
       "      <th>Mlle</th>\n",
       "      <th>Mme</th>\n",
       "      <th>Mr</th>\n",
       "      <th>Mrs</th>\n",
       "      <th>Ms</th>\n",
       "      <th>Rev</th>\n",
       "      <th>Sir</th>\n",
       "      <th>the Countess</th>\n",
       "    </tr>\n",
       "    <tr>\n",
       "      <th>PassengerId</th>\n",
       "      <th></th>\n",
       "      <th></th>\n",
       "      <th></th>\n",
       "      <th></th>\n",
       "      <th></th>\n",
       "      <th></th>\n",
       "      <th></th>\n",
       "      <th></th>\n",
       "      <th></th>\n",
       "      <th></th>\n",
       "      <th></th>\n",
       "      <th></th>\n",
       "      <th></th>\n",
       "      <th></th>\n",
       "      <th></th>\n",
       "      <th></th>\n",
       "      <th></th>\n",
       "      <th></th>\n",
       "      <th></th>\n",
       "      <th></th>\n",
       "      <th></th>\n",
       "    </tr>\n",
       "  </thead>\n",
       "  <tbody>\n",
       "    <tr>\n",
       "      <th>1</th>\n",
       "      <td>7.25000</td>\n",
       "      <td>22.0</td>\n",
       "      <td>1</td>\n",
       "      <td>0</td>\n",
       "      <td>1</td>\n",
       "      <td>0</td>\n",
       "      <td>0</td>\n",
       "      <td>0</td>\n",
       "      <td>0</td>\n",
       "      <td>0</td>\n",
       "      <td>...</td>\n",
       "      <td>0</td>\n",
       "      <td>0</td>\n",
       "      <td>0</td>\n",
       "      <td>0</td>\n",
       "      <td>1</td>\n",
       "      <td>0</td>\n",
       "      <td>0</td>\n",
       "      <td>0</td>\n",
       "      <td>0</td>\n",
       "      <td>0</td>\n",
       "    </tr>\n",
       "    <tr>\n",
       "      <th>2</th>\n",
       "      <td>35.64165</td>\n",
       "      <td>38.0</td>\n",
       "      <td>0</td>\n",
       "      <td>1</td>\n",
       "      <td>0</td>\n",
       "      <td>1</td>\n",
       "      <td>0</td>\n",
       "      <td>0</td>\n",
       "      <td>0</td>\n",
       "      <td>1</td>\n",
       "      <td>...</td>\n",
       "      <td>0</td>\n",
       "      <td>0</td>\n",
       "      <td>0</td>\n",
       "      <td>0</td>\n",
       "      <td>0</td>\n",
       "      <td>1</td>\n",
       "      <td>0</td>\n",
       "      <td>0</td>\n",
       "      <td>0</td>\n",
       "      <td>0</td>\n",
       "    </tr>\n",
       "    <tr>\n",
       "      <th>3</th>\n",
       "      <td>7.92500</td>\n",
       "      <td>26.0</td>\n",
       "      <td>1</td>\n",
       "      <td>0</td>\n",
       "      <td>1</td>\n",
       "      <td>0</td>\n",
       "      <td>0</td>\n",
       "      <td>0</td>\n",
       "      <td>0</td>\n",
       "      <td>0</td>\n",
       "      <td>...</td>\n",
       "      <td>0</td>\n",
       "      <td>1</td>\n",
       "      <td>0</td>\n",
       "      <td>0</td>\n",
       "      <td>0</td>\n",
       "      <td>0</td>\n",
       "      <td>0</td>\n",
       "      <td>0</td>\n",
       "      <td>0</td>\n",
       "      <td>0</td>\n",
       "    </tr>\n",
       "    <tr>\n",
       "      <th>4</th>\n",
       "      <td>26.55000</td>\n",
       "      <td>35.0</td>\n",
       "      <td>0</td>\n",
       "      <td>1</td>\n",
       "      <td>0</td>\n",
       "      <td>1</td>\n",
       "      <td>0</td>\n",
       "      <td>0</td>\n",
       "      <td>0</td>\n",
       "      <td>1</td>\n",
       "      <td>...</td>\n",
       "      <td>0</td>\n",
       "      <td>0</td>\n",
       "      <td>0</td>\n",
       "      <td>0</td>\n",
       "      <td>0</td>\n",
       "      <td>1</td>\n",
       "      <td>0</td>\n",
       "      <td>0</td>\n",
       "      <td>0</td>\n",
       "      <td>0</td>\n",
       "    </tr>\n",
       "    <tr>\n",
       "      <th>5</th>\n",
       "      <td>8.05000</td>\n",
       "      <td>35.0</td>\n",
       "      <td>1</td>\n",
       "      <td>0</td>\n",
       "      <td>1</td>\n",
       "      <td>0</td>\n",
       "      <td>0</td>\n",
       "      <td>0</td>\n",
       "      <td>0</td>\n",
       "      <td>0</td>\n",
       "      <td>...</td>\n",
       "      <td>0</td>\n",
       "      <td>0</td>\n",
       "      <td>0</td>\n",
       "      <td>0</td>\n",
       "      <td>1</td>\n",
       "      <td>0</td>\n",
       "      <td>0</td>\n",
       "      <td>0</td>\n",
       "      <td>0</td>\n",
       "      <td>0</td>\n",
       "    </tr>\n",
       "  </tbody>\n",
       "</table>\n",
       "<p>5 rows × 43 columns</p>\n",
       "</div>"
      ],
      "text/plain": [
       "             NormalisedFare  NewAge  False_x  True_x  0_y  1_y  2_x  3_x  4  \\\n",
       "PassengerId                                                                   \n",
       "1                   7.25000    22.0        1       0    1    0    0    0  0   \n",
       "2                  35.64165    38.0        0       1    0    1    0    0  0   \n",
       "3                   7.92500    26.0        1       0    1    0    0    0  0   \n",
       "4                  26.55000    35.0        0       1    0    1    0    0  0   \n",
       "5                   8.05000    35.0        1       0    1    0    0    0  0   \n",
       "\n",
       "             1_x  ...  Master  Miss  Mlle  Mme  Mr  Mrs  Ms  Rev  Sir  \\\n",
       "PassengerId       ...                                                   \n",
       "1              0  ...       0     0     0    0   1    0   0    0    0   \n",
       "2              1  ...       0     0     0    0   0    1   0    0    0   \n",
       "3              0  ...       0     1     0    0   0    0   0    0    0   \n",
       "4              1  ...       0     0     0    0   0    1   0    0    0   \n",
       "5              0  ...       0     0     0    0   1    0   0    0    0   \n",
       "\n",
       "             the Countess  \n",
       "PassengerId                \n",
       "1                       0  \n",
       "2                       0  \n",
       "3                       0  \n",
       "4                       0  \n",
       "5                       0  \n",
       "\n",
       "[5 rows x 43 columns]"
      ]
     },
     "execution_count": 98,
     "metadata": {},
     "output_type": "execute_result"
    }
   ],
   "source": [
    "X.head()"
   ]
  },
  {
   "cell_type": "markdown",
   "metadata": {},
   "source": [
    "Next, to avoid the issue of multicollinearity, we remove several columns, such as \"False_x\" and \"False_y\""
   ]
  },
  {
   "cell_type": "code",
   "execution_count": 99,
   "metadata": {},
   "outputs": [
    {
     "data": {
      "text/plain": [
       "Index(['NormalisedFare',         'NewAge',        'False_x',         'True_x',\n",
       "                  '0_y',            '1_y',            '2_x',            '3_x',\n",
       "                      4,            '1_x',            '2_y',            '3_y',\n",
       "                  False,         'True_y',         'female',           'male',\n",
       "                    'A',              'B',              'C',              'D',\n",
       "                    'E',              'F',              'G',              'N',\n",
       "                    'T',           'Capt',            'Col',            'Don',\n",
       "                 'Dona',             'Dr',       'Jonkheer',           'Lady',\n",
       "                'Major',         'Master',           'Miss',           'Mlle',\n",
       "                  'Mme',             'Mr',            'Mrs',             'Ms',\n",
       "                  'Rev',            'Sir',   'the Countess'],\n",
       "      dtype='object')"
      ]
     },
     "execution_count": 99,
     "metadata": {},
     "output_type": "execute_result"
    }
   ],
   "source": [
    "X.columns"
   ]
  },
  {
   "cell_type": "code",
   "execution_count": 100,
   "metadata": {},
   "outputs": [],
   "source": [
    "multicollinear_cols = [\"False_x\", \"0_y\", \"1_x\", False, \"female\", \"A\", \"Capt\"]\n",
    "for col in multicollinear_cols:\n",
    "    del X[col]"
   ]
  },
  {
   "cell_type": "code",
   "execution_count": 101,
   "metadata": {},
   "outputs": [],
   "source": [
    "for col in X.columns:\n",
    "    X[col] = X[col].astype(float)"
   ]
  },
  {
   "cell_type": "code",
   "execution_count": 103,
   "metadata": {},
   "outputs": [
    {
     "data": {
      "text/plain": [
       "LinearRegression(copy_X=True, fit_intercept=True, n_jobs=1, normalize=False)"
      ]
     },
     "execution_count": 103,
     "metadata": {},
     "output_type": "execute_result"
    }
   ],
   "source": [
    "model = linear_model.LinearRegression()\n",
    "# Only the training data is used to fit a line of best fit\n",
    "model.fit(X[:len(train)].values,y[:len(train)])"
   ]
  },
  {
   "cell_type": "code",
   "execution_count": 105,
   "metadata": {},
   "outputs": [
    {
     "name": "stdout",
     "output_type": "stream",
     "text": [
      "0.46078577060095083\n",
      "0.39607485392098774\n",
      "[ 3.95920225e-03 -4.01081539e-03  3.14903383e-01 -6.08759260e-02\n",
      " -1.32668817e-01  1.32192835e-02  2.63741750e-01 -4.35892134e-02\n",
      " -1.69902674e-01  3.19345181e-01 -5.62145934e-01  5.22490210e-02\n",
      "  2.41799029e-02  1.41582282e-01  2.13284221e-01  9.28195425e-02\n",
      " -2.04388277e-01 -8.34162899e-02 -3.27196488e-01  5.28665050e-01\n",
      " -1.91774491e-02 -8.19467995e-16  2.97744616e-01  8.25531739e-02\n",
      "  3.81190621e-01  4.50975665e-01  7.61813090e-01  2.17745891e-01\n",
      "  2.39130148e-01  2.56721880e-01  2.74733326e-01  3.06199306e-01\n",
      "  4.72418670e-01  9.89379881e-02  9.95876469e-01  3.15848578e-01]\n"
     ]
    }
   ],
   "source": [
    "r_sq = model.score(X[:len(train)].values,y[:len(train)])\n",
    "print(r_sq)\n",
    "print(model.intercept_)\n",
    "print(model.coef_)"
   ]
  }
 ],
 "metadata": {
  "kernelspec": {
   "display_name": "Python 3",
   "language": "python",
   "name": "python3"
  },
  "language_info": {
   "codemirror_mode": {
    "name": "ipython",
    "version": 3
   },
   "file_extension": ".py",
   "mimetype": "text/x-python",
   "name": "python",
   "nbconvert_exporter": "python",
   "pygments_lexer": "ipython3",
   "version": "3.6.3"
  }
 },
 "nbformat": 4,
 "nbformat_minor": 2
}
