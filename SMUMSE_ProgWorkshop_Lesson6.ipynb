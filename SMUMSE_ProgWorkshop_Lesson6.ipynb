{
 "cells": [
  {
   "cell_type": "markdown",
   "metadata": {},
   "source": [
    "## Final Lesson - Introduction to Machine Learning\n",
    "\n",
    "This lesson is dedicated solely to Machine Learning. What is Machine Learning? According to Wikipedia, [Machine Learning](https://en.wikipedia.org/wiki/Machine_learning) is the scientific study of algorithms and statistical models that computer systems use in order to perform a specific task effectively without using explicit instructions, relying on patterns and inference instead.\n",
    "\n",
    "### Types of Machine Learning problems\n",
    "Typically, there are 2 kinds of machine learning problems: Supervised and Unsupervised (there is actually a third field called Reinforcement Learning, but that's not the subject of focus):\n",
    "\n",
    "From Wikipedia:\n",
    "\n",
    "    Supervised learning is the machine learning task of learning a function that maps an input to an output based \n",
    "    on example input-output pairs\n",
    "    \n",
    "    Unsupervised learning is a type of self-organized Hebbian learning that helps find previously unknown patterns \n",
    "    in data set without pre-existing labels.\n",
    "\n",
    "We will only be going through Supervised Learning problems in this lesson. That is, we are given something to predict, and we have some features that we can use to generate predictions.\n",
    "\n",
    "In the field of supervised learning problems, there are 3 subfields:\n",
    "\n",
    "1. Classification problems - In classification problems, we are given a category to predict. Examples of such questions are: is this picture a cat, a dog, or a rabbit? Is the person going to default on his loan? Given an image, predict what number it is.\n",
    "\n",
    "2. Regression problems - In regression problems, our algorithm outputs a real-valued number. Examples of such problems are: predict the price of this house, or predict GDP growth levels next year.\n",
    "\n",
    "### On Machine Learning vs Econometrics\n",
    "A better question is, how does Machine Learning differ from traditional Econometrics? According to econometrician [Francis X. Diebold](https://fxdiebold.blogspot.com/2016/10/machine-learning-vs-econometrics-i.html), Machine learning is almost always centered on prediction; think \"ŷ \", while Econometrics (E) is often, but not always, centered on prediction. Instead it's also often interested on estimation and associated inference; think \"β̂ \". Nowadays, however, the difference between the two fields seem more minute, and ML is attempting to provide answers to questions previously reserved for Econometrics.\n",
    "\n",
    "#### Disclaimer\n",
    "By no means is this a full treatment of Machine Learning; this is a gentle introduction into the wide field. For a deeper understanding of Machine Learning, online training courses hosted by Coursera and Codeacademy are recommended. In fact, this iPython notebook is derived of 3 primary components:\n",
    "\n",
    "1. Data Manipulation, Processing and Cleaning\n",
    "2. Feature Generation\n",
    "3. Machine Learning\n",
    "\n",
    "For the machine learning aspect, we will be learning two different algorithms on how to classify categorical problems. Finally, we will give some intuition into how Neural Networks work, as well as other training problems for you to work on in your free time to gain a better understanding of the other ML algorithms."
   ]
  },
  {
   "cell_type": "markdown",
   "metadata": {},
   "source": [
    "#### Case-Study approach\n",
    "\n",
    "In this lesson, we will not be going through the different kinds of algorithms used by Data Scientists; there are way too many algorithms. Instead, the focus will be on the important aspects before we apply the algorithms: \n",
    "\n",
    "1. Data Manipulation, Processing and Cleaning \n",
    "2. Imputing Missing Data\n",
    "3. Feature Generation\n",
    "\n",
    "The first and second section relies on much that we have learnt in lesson 3 on data manipulation, while the last section relies much on the 4th lesson. Without further ado, let's apply our understanding on the Titanic dataset.\n",
    "\n",
    "##### Training vs Testing\n",
    "In Machine Learning problems, we are typically given a training set (for us to train our algorithms), which contains the variable we are interested in, and a test set (to evaluate our predictions). Typically, the problem will include a metric for basis of comparison. \n",
    "\n",
    "##### Evaluation Metric\n",
    "For classification problems, it could be accuracy (how many test observations did you correctly predict). For regression problems, it could be RMSE (root mean-squared error).\n",
    "\n",
    "For the [Titanic problem listed on Kaggle](https://www.kaggle.com/c/titanic/overview/evaluation), they will be using \"Accuracy\" as the evaluation metric."
   ]
  },
  {
   "cell_type": "markdown",
   "metadata": {},
   "source": [
    "### Preliminary Data Exploration\n",
    "\n",
    "In this section, we import key libraries and read the training and test data into Python. We look at summary statistics to get a better understanding of what we are currently dealing with."
   ]
  },
  {
   "cell_type": "code",
   "execution_count": 4,
   "metadata": {
    "collapsed": true
   },
   "outputs": [],
   "source": [
    "import pandas as pd\n",
    "import numpy as np\n",
    "import seaborn as sns\n",
    "import matplotlib.pyplot as plt\n",
    "\n",
    "def read_and_combine_data(train_filepath, test_filepath):\n",
    "    train = pd.read_csv(train_filepath, index_col=0)\n",
    "    test = pd.read_csv(test_filepath, index_col=0)\n",
    "    \n",
    "    combine = pd.concat([train, test], sort=True)\n",
    "    return combine\n",
    "\n",
    "train_filepath = 'data/titanic/train.csv'\n",
    "test_filepath = 'data/titanic/test.csv'\n",
    "\n",
    "train = pd.read_csv(train_filepath, index_col=0)\n",
    "test = pd.read_csv(test_filepath, index_col=0)\n",
    "combine = read_and_combine_data(train_filepath, test_filepath)"
   ]
  },
  {
   "cell_type": "code",
   "execution_count": 13,
   "metadata": {},
   "outputs": [
    {
     "data": {
      "text/html": [
       "<div>\n",
       "<style scoped>\n",
       "    .dataframe tbody tr th:only-of-type {\n",
       "        vertical-align: middle;\n",
       "    }\n",
       "\n",
       "    .dataframe tbody tr th {\n",
       "        vertical-align: top;\n",
       "    }\n",
       "\n",
       "    .dataframe thead th {\n",
       "        text-align: right;\n",
       "    }\n",
       "</style>\n",
       "<table border=\"1\" class=\"dataframe\">\n",
       "  <thead>\n",
       "    <tr style=\"text-align: right;\">\n",
       "      <th></th>\n",
       "      <th>Age</th>\n",
       "      <th>Cabin</th>\n",
       "      <th>Embarked</th>\n",
       "      <th>Fare</th>\n",
       "      <th>Name</th>\n",
       "      <th>Parch</th>\n",
       "      <th>Pclass</th>\n",
       "      <th>Sex</th>\n",
       "      <th>SibSp</th>\n",
       "      <th>Survived</th>\n",
       "      <th>Ticket</th>\n",
       "    </tr>\n",
       "    <tr>\n",
       "      <th>PassengerId</th>\n",
       "      <th></th>\n",
       "      <th></th>\n",
       "      <th></th>\n",
       "      <th></th>\n",
       "      <th></th>\n",
       "      <th></th>\n",
       "      <th></th>\n",
       "      <th></th>\n",
       "      <th></th>\n",
       "      <th></th>\n",
       "      <th></th>\n",
       "    </tr>\n",
       "  </thead>\n",
       "  <tbody>\n",
       "    <tr>\n",
       "      <th>1</th>\n",
       "      <td>22.0</td>\n",
       "      <td>N</td>\n",
       "      <td>S</td>\n",
       "      <td>7.2500</td>\n",
       "      <td>Braund, Mr. Owen Harris</td>\n",
       "      <td>0</td>\n",
       "      <td>3</td>\n",
       "      <td>male</td>\n",
       "      <td>1</td>\n",
       "      <td>0.0</td>\n",
       "      <td>A/5 21171</td>\n",
       "    </tr>\n",
       "    <tr>\n",
       "      <th>2</th>\n",
       "      <td>38.0</td>\n",
       "      <td>C85</td>\n",
       "      <td>C</td>\n",
       "      <td>71.2833</td>\n",
       "      <td>Cumings, Mrs. John Bradley (Florence Briggs Th...</td>\n",
       "      <td>0</td>\n",
       "      <td>1</td>\n",
       "      <td>female</td>\n",
       "      <td>1</td>\n",
       "      <td>1.0</td>\n",
       "      <td>PC 17599</td>\n",
       "    </tr>\n",
       "    <tr>\n",
       "      <th>3</th>\n",
       "      <td>26.0</td>\n",
       "      <td>N</td>\n",
       "      <td>S</td>\n",
       "      <td>7.9250</td>\n",
       "      <td>Heikkinen, Miss. Laina</td>\n",
       "      <td>0</td>\n",
       "      <td>3</td>\n",
       "      <td>female</td>\n",
       "      <td>0</td>\n",
       "      <td>1.0</td>\n",
       "      <td>STON/O2. 3101282</td>\n",
       "    </tr>\n",
       "    <tr>\n",
       "      <th>4</th>\n",
       "      <td>35.0</td>\n",
       "      <td>C123</td>\n",
       "      <td>S</td>\n",
       "      <td>53.1000</td>\n",
       "      <td>Futrelle, Mrs. Jacques Heath (Lily May Peel)</td>\n",
       "      <td>0</td>\n",
       "      <td>1</td>\n",
       "      <td>female</td>\n",
       "      <td>1</td>\n",
       "      <td>1.0</td>\n",
       "      <td>113803</td>\n",
       "    </tr>\n",
       "    <tr>\n",
       "      <th>5</th>\n",
       "      <td>35.0</td>\n",
       "      <td>N</td>\n",
       "      <td>S</td>\n",
       "      <td>8.0500</td>\n",
       "      <td>Allen, Mr. William Henry</td>\n",
       "      <td>0</td>\n",
       "      <td>3</td>\n",
       "      <td>male</td>\n",
       "      <td>0</td>\n",
       "      <td>0.0</td>\n",
       "      <td>373450</td>\n",
       "    </tr>\n",
       "  </tbody>\n",
       "</table>\n",
       "</div>"
      ],
      "text/plain": [
       "              Age Cabin Embarked     Fare  \\\n",
       "PassengerId                                 \n",
       "1            22.0     N        S   7.2500   \n",
       "2            38.0   C85        C  71.2833   \n",
       "3            26.0     N        S   7.9250   \n",
       "4            35.0  C123        S  53.1000   \n",
       "5            35.0     N        S   8.0500   \n",
       "\n",
       "                                                          Name  Parch  Pclass  \\\n",
       "PassengerId                                                                     \n",
       "1                                      Braund, Mr. Owen Harris      0       3   \n",
       "2            Cumings, Mrs. John Bradley (Florence Briggs Th...      0       1   \n",
       "3                                       Heikkinen, Miss. Laina      0       3   \n",
       "4                 Futrelle, Mrs. Jacques Heath (Lily May Peel)      0       1   \n",
       "5                                     Allen, Mr. William Henry      0       3   \n",
       "\n",
       "                Sex  SibSp  Survived            Ticket  \n",
       "PassengerId                                             \n",
       "1              male      1       0.0         A/5 21171  \n",
       "2            female      1       1.0          PC 17599  \n",
       "3            female      0       1.0  STON/O2. 3101282  \n",
       "4            female      1       1.0            113803  \n",
       "5              male      0       0.0            373450  "
      ]
     },
     "execution_count": 13,
     "metadata": {},
     "output_type": "execute_result"
    }
   ],
   "source": [
    "combine.head()"
   ]
  },
  {
   "cell_type": "code",
   "execution_count": 49,
   "metadata": {},
   "outputs": [
    {
     "data": {
      "text/html": [
       "<div>\n",
       "<style scoped>\n",
       "    .dataframe tbody tr th:only-of-type {\n",
       "        vertical-align: middle;\n",
       "    }\n",
       "\n",
       "    .dataframe tbody tr th {\n",
       "        vertical-align: top;\n",
       "    }\n",
       "\n",
       "    .dataframe thead th {\n",
       "        text-align: right;\n",
       "    }\n",
       "</style>\n",
       "<table border=\"1\" class=\"dataframe\">\n",
       "  <thead>\n",
       "    <tr style=\"text-align: right;\">\n",
       "      <th></th>\n",
       "      <th>Age</th>\n",
       "      <th>Cabin</th>\n",
       "      <th>Embarked</th>\n",
       "      <th>Fare</th>\n",
       "      <th>Name</th>\n",
       "      <th>Parch</th>\n",
       "      <th>Pclass</th>\n",
       "      <th>Sex</th>\n",
       "      <th>SibSp</th>\n",
       "      <th>Survived</th>\n",
       "      <th>Ticket</th>\n",
       "    </tr>\n",
       "  </thead>\n",
       "  <tbody>\n",
       "    <tr>\n",
       "      <th>count</th>\n",
       "      <td>1046.000000</td>\n",
       "      <td>295</td>\n",
       "      <td>1307</td>\n",
       "      <td>1308.000000</td>\n",
       "      <td>1309</td>\n",
       "      <td>1309.000000</td>\n",
       "      <td>1309.000000</td>\n",
       "      <td>1309</td>\n",
       "      <td>1309.000000</td>\n",
       "      <td>891.000000</td>\n",
       "      <td>1309</td>\n",
       "    </tr>\n",
       "    <tr>\n",
       "      <th>unique</th>\n",
       "      <td>NaN</td>\n",
       "      <td>186</td>\n",
       "      <td>3</td>\n",
       "      <td>NaN</td>\n",
       "      <td>1307</td>\n",
       "      <td>NaN</td>\n",
       "      <td>NaN</td>\n",
       "      <td>2</td>\n",
       "      <td>NaN</td>\n",
       "      <td>NaN</td>\n",
       "      <td>929</td>\n",
       "    </tr>\n",
       "    <tr>\n",
       "      <th>top</th>\n",
       "      <td>NaN</td>\n",
       "      <td>C23 C25 C27</td>\n",
       "      <td>S</td>\n",
       "      <td>NaN</td>\n",
       "      <td>Connolly, Miss. Kate</td>\n",
       "      <td>NaN</td>\n",
       "      <td>NaN</td>\n",
       "      <td>male</td>\n",
       "      <td>NaN</td>\n",
       "      <td>NaN</td>\n",
       "      <td>CA. 2343</td>\n",
       "    </tr>\n",
       "    <tr>\n",
       "      <th>freq</th>\n",
       "      <td>NaN</td>\n",
       "      <td>6</td>\n",
       "      <td>914</td>\n",
       "      <td>NaN</td>\n",
       "      <td>2</td>\n",
       "      <td>NaN</td>\n",
       "      <td>NaN</td>\n",
       "      <td>843</td>\n",
       "      <td>NaN</td>\n",
       "      <td>NaN</td>\n",
       "      <td>11</td>\n",
       "    </tr>\n",
       "    <tr>\n",
       "      <th>mean</th>\n",
       "      <td>29.881138</td>\n",
       "      <td>NaN</td>\n",
       "      <td>NaN</td>\n",
       "      <td>33.295479</td>\n",
       "      <td>NaN</td>\n",
       "      <td>0.385027</td>\n",
       "      <td>2.294882</td>\n",
       "      <td>NaN</td>\n",
       "      <td>0.498854</td>\n",
       "      <td>0.383838</td>\n",
       "      <td>NaN</td>\n",
       "    </tr>\n",
       "    <tr>\n",
       "      <th>std</th>\n",
       "      <td>14.413493</td>\n",
       "      <td>NaN</td>\n",
       "      <td>NaN</td>\n",
       "      <td>51.758668</td>\n",
       "      <td>NaN</td>\n",
       "      <td>0.865560</td>\n",
       "      <td>0.837836</td>\n",
       "      <td>NaN</td>\n",
       "      <td>1.041658</td>\n",
       "      <td>0.486592</td>\n",
       "      <td>NaN</td>\n",
       "    </tr>\n",
       "    <tr>\n",
       "      <th>min</th>\n",
       "      <td>0.170000</td>\n",
       "      <td>NaN</td>\n",
       "      <td>NaN</td>\n",
       "      <td>0.000000</td>\n",
       "      <td>NaN</td>\n",
       "      <td>0.000000</td>\n",
       "      <td>1.000000</td>\n",
       "      <td>NaN</td>\n",
       "      <td>0.000000</td>\n",
       "      <td>0.000000</td>\n",
       "      <td>NaN</td>\n",
       "    </tr>\n",
       "    <tr>\n",
       "      <th>25%</th>\n",
       "      <td>21.000000</td>\n",
       "      <td>NaN</td>\n",
       "      <td>NaN</td>\n",
       "      <td>7.895800</td>\n",
       "      <td>NaN</td>\n",
       "      <td>0.000000</td>\n",
       "      <td>2.000000</td>\n",
       "      <td>NaN</td>\n",
       "      <td>0.000000</td>\n",
       "      <td>0.000000</td>\n",
       "      <td>NaN</td>\n",
       "    </tr>\n",
       "    <tr>\n",
       "      <th>50%</th>\n",
       "      <td>28.000000</td>\n",
       "      <td>NaN</td>\n",
       "      <td>NaN</td>\n",
       "      <td>14.454200</td>\n",
       "      <td>NaN</td>\n",
       "      <td>0.000000</td>\n",
       "      <td>3.000000</td>\n",
       "      <td>NaN</td>\n",
       "      <td>0.000000</td>\n",
       "      <td>0.000000</td>\n",
       "      <td>NaN</td>\n",
       "    </tr>\n",
       "    <tr>\n",
       "      <th>75%</th>\n",
       "      <td>39.000000</td>\n",
       "      <td>NaN</td>\n",
       "      <td>NaN</td>\n",
       "      <td>31.275000</td>\n",
       "      <td>NaN</td>\n",
       "      <td>0.000000</td>\n",
       "      <td>3.000000</td>\n",
       "      <td>NaN</td>\n",
       "      <td>1.000000</td>\n",
       "      <td>1.000000</td>\n",
       "      <td>NaN</td>\n",
       "    </tr>\n",
       "    <tr>\n",
       "      <th>max</th>\n",
       "      <td>80.000000</td>\n",
       "      <td>NaN</td>\n",
       "      <td>NaN</td>\n",
       "      <td>512.329200</td>\n",
       "      <td>NaN</td>\n",
       "      <td>9.000000</td>\n",
       "      <td>3.000000</td>\n",
       "      <td>NaN</td>\n",
       "      <td>8.000000</td>\n",
       "      <td>1.000000</td>\n",
       "      <td>NaN</td>\n",
       "    </tr>\n",
       "  </tbody>\n",
       "</table>\n",
       "</div>"
      ],
      "text/plain": [
       "                Age        Cabin Embarked         Fare                  Name  \\\n",
       "count   1046.000000          295     1307  1308.000000                  1309   \n",
       "unique          NaN          186        3          NaN                  1307   \n",
       "top             NaN  C23 C25 C27        S          NaN  Connolly, Miss. Kate   \n",
       "freq            NaN            6      914          NaN                     2   \n",
       "mean      29.881138          NaN      NaN    33.295479                   NaN   \n",
       "std       14.413493          NaN      NaN    51.758668                   NaN   \n",
       "min        0.170000          NaN      NaN     0.000000                   NaN   \n",
       "25%       21.000000          NaN      NaN     7.895800                   NaN   \n",
       "50%       28.000000          NaN      NaN    14.454200                   NaN   \n",
       "75%       39.000000          NaN      NaN    31.275000                   NaN   \n",
       "max       80.000000          NaN      NaN   512.329200                   NaN   \n",
       "\n",
       "              Parch       Pclass   Sex        SibSp    Survived    Ticket  \n",
       "count   1309.000000  1309.000000  1309  1309.000000  891.000000      1309  \n",
       "unique          NaN          NaN     2          NaN         NaN       929  \n",
       "top             NaN          NaN  male          NaN         NaN  CA. 2343  \n",
       "freq            NaN          NaN   843          NaN         NaN        11  \n",
       "mean       0.385027     2.294882   NaN     0.498854    0.383838       NaN  \n",
       "std        0.865560     0.837836   NaN     1.041658    0.486592       NaN  \n",
       "min        0.000000     1.000000   NaN     0.000000    0.000000       NaN  \n",
       "25%        0.000000     2.000000   NaN     0.000000    0.000000       NaN  \n",
       "50%        0.000000     3.000000   NaN     0.000000    0.000000       NaN  \n",
       "75%        0.000000     3.000000   NaN     1.000000    1.000000       NaN  \n",
       "max        9.000000     3.000000   NaN     8.000000    1.000000       NaN  "
      ]
     },
     "execution_count": 49,
     "metadata": {},
     "output_type": "execute_result"
    }
   ],
   "source": [
    "combine.describe(include='all')"
   ]
  },
  {
   "cell_type": "markdown",
   "metadata": {},
   "source": [
    "### Imputing Missing Data\n",
    "\n",
    "In our case, we are tasked to predict whether a passenger survived based on the features in the model. However, some of these features are not as useful as others, and we can generate new features using a combination of different features. Before we do that however, we check for missing data."
   ]
  },
  {
   "cell_type": "code",
   "execution_count": 50,
   "metadata": {},
   "outputs": [
    {
     "data": {
      "text/plain": [
       "Age          263\n",
       "Cabin       1014\n",
       "Embarked       2\n",
       "Fare           1\n",
       "Name           0\n",
       "Parch          0\n",
       "Pclass         0\n",
       "Sex            0\n",
       "SibSp          0\n",
       "Survived     418\n",
       "Ticket         0\n",
       "dtype: int64"
      ]
     },
     "execution_count": 50,
     "metadata": {},
     "output_type": "execute_result"
    }
   ],
   "source": [
    "np.sum(pd.isnull(combine))"
   ]
  },
  {
   "cell_type": "markdown",
   "metadata": {},
   "source": [
    "We note that there are quite a significant number of observations with missing data. To circumvent this, we can create a new column for the \"Cabin\" variable, to indicate that the data are missing. For the \"Embarked\" and \"Fare\" feature, we can impute the most popular embarkation point and the average fare."
   ]
  },
  {
   "cell_type": "code",
   "execution_count": 9,
   "metadata": {},
   "outputs": [
    {
     "data": {
      "text/plain": [
       "S    914\n",
       "C    270\n",
       "Q    123\n",
       "Name: Embarked, dtype: int64"
      ]
     },
     "execution_count": 9,
     "metadata": {},
     "output_type": "execute_result"
    }
   ],
   "source": [
    "combine.Embarked.value_counts()"
   ]
  },
  {
   "cell_type": "code",
   "execution_count": 10,
   "metadata": {},
   "outputs": [
    {
     "data": {
      "text/plain": [
       "33.2954792813456"
      ]
     },
     "execution_count": 10,
     "metadata": {},
     "output_type": "execute_result"
    }
   ],
   "source": [
    "combine.Fare.mean()"
   ]
  },
  {
   "cell_type": "code",
   "execution_count": 11,
   "metadata": {
    "collapsed": true
   },
   "outputs": [],
   "source": [
    "def impute_missing_cabins():\n",
    "    return combine.Cabin.fillna(\"N\", inplace=True)\n",
    "\n",
    "def impute_missing_embarkation_point():\n",
    "    return combine.Embarked.fillna(\"S\", inplace=True)\n",
    "\n",
    "def impute_missing_fare():\n",
    "    return combine.Fare.fillna(combine.Fare.mean(), inplace=True)\n",
    "\n",
    "impute_missing_cabins()\n",
    "impute_missing_embarkation_point()\n",
    "impute_missing_fare()"
   ]
  },
  {
   "cell_type": "code",
   "execution_count": 54,
   "metadata": {},
   "outputs": [
    {
     "data": {
      "text/plain": [
       "Age         263\n",
       "Cabin         0\n",
       "Embarked      0\n",
       "Fare          0\n",
       "Name          0\n",
       "Parch         0\n",
       "Pclass        0\n",
       "Sex           0\n",
       "SibSp         0\n",
       "Survived    418\n",
       "Ticket        0\n",
       "dtype: int64"
      ]
     },
     "execution_count": 54,
     "metadata": {},
     "output_type": "execute_result"
    }
   ],
   "source": [
    "np.sum(pd.isnull(combine))"
   ]
  },
  {
   "cell_type": "markdown",
   "metadata": {},
   "source": [
    "We are left with the age variable. There are a few ways to resolve this issue:\n",
    "\n",
    "1. Drop the age variable.\n",
    "2. Impute the missing ages with the average age of the dataset\n",
    "3. Use conditional information to determine the missing age\n",
    "\n",
    "Of the 3, the third way is the hardest - we will do the third way. \n",
    "\n",
    "We first split the Name column into First and Last Name, bearing in mind that the designation of the passenger may contain some important information on the age of the passenger."
   ]
  },
  {
   "cell_type": "code",
   "execution_count": 21,
   "metadata": {
    "scrolled": false
   },
   "outputs": [
    {
     "name": "stdout",
     "output_type": "stream",
     "text": [
      "\n"
     ]
    }
   ],
   "source": [
    "def get_desg_first_name(name):\n",
    "    return name.split(\", \")[1]\n",
    "\n",
    "def get_first_name():\n",
    "    first_name = combine.Name.apply(lambda x: get_desg_first_name(x))\n",
    "    combine['FirstName'] = first_name.apply(lambda x: x.split(\". \")[1])\n",
    "    combine['Designation'] = first_name.apply(lambda x: x.split(\". \")[0])\n",
    "    return combine\n",
    "    \n",
    "def get_last_name():\n",
    "    combine['LastName'] = combine.Name.apply(lambda x: x.split(\", \")[0])\n",
    "    return combine\n",
    "\n",
    "get_last_name()\n",
    "get_first_name()\n",
    "print('')"
   ]
  },
  {
   "cell_type": "code",
   "execution_count": 22,
   "metadata": {},
   "outputs": [
    {
     "data": {
      "text/html": [
       "<div>\n",
       "<style scoped>\n",
       "    .dataframe tbody tr th:only-of-type {\n",
       "        vertical-align: middle;\n",
       "    }\n",
       "\n",
       "    .dataframe tbody tr th {\n",
       "        vertical-align: top;\n",
       "    }\n",
       "\n",
       "    .dataframe thead th {\n",
       "        text-align: right;\n",
       "    }\n",
       "</style>\n",
       "<table border=\"1\" class=\"dataframe\">\n",
       "  <thead>\n",
       "    <tr style=\"text-align: right;\">\n",
       "      <th></th>\n",
       "      <th>Age</th>\n",
       "      <th>Cabin</th>\n",
       "      <th>Embarked</th>\n",
       "      <th>Fare</th>\n",
       "      <th>Name</th>\n",
       "      <th>Parch</th>\n",
       "      <th>Pclass</th>\n",
       "      <th>Sex</th>\n",
       "      <th>SibSp</th>\n",
       "      <th>Survived</th>\n",
       "      <th>Ticket</th>\n",
       "      <th>LastName</th>\n",
       "      <th>FirstName</th>\n",
       "      <th>Designation</th>\n",
       "    </tr>\n",
       "    <tr>\n",
       "      <th>PassengerId</th>\n",
       "      <th></th>\n",
       "      <th></th>\n",
       "      <th></th>\n",
       "      <th></th>\n",
       "      <th></th>\n",
       "      <th></th>\n",
       "      <th></th>\n",
       "      <th></th>\n",
       "      <th></th>\n",
       "      <th></th>\n",
       "      <th></th>\n",
       "      <th></th>\n",
       "      <th></th>\n",
       "      <th></th>\n",
       "    </tr>\n",
       "  </thead>\n",
       "  <tbody>\n",
       "    <tr>\n",
       "      <th>1</th>\n",
       "      <td>22.0</td>\n",
       "      <td>N</td>\n",
       "      <td>S</td>\n",
       "      <td>7.2500</td>\n",
       "      <td>Braund, Mr. Owen Harris</td>\n",
       "      <td>0</td>\n",
       "      <td>3</td>\n",
       "      <td>male</td>\n",
       "      <td>1</td>\n",
       "      <td>0.0</td>\n",
       "      <td>A/5 21171</td>\n",
       "      <td>Braund</td>\n",
       "      <td>Owen Harris</td>\n",
       "      <td>Mr</td>\n",
       "    </tr>\n",
       "    <tr>\n",
       "      <th>2</th>\n",
       "      <td>38.0</td>\n",
       "      <td>C85</td>\n",
       "      <td>C</td>\n",
       "      <td>71.2833</td>\n",
       "      <td>Cumings, Mrs. John Bradley (Florence Briggs Th...</td>\n",
       "      <td>0</td>\n",
       "      <td>1</td>\n",
       "      <td>female</td>\n",
       "      <td>1</td>\n",
       "      <td>1.0</td>\n",
       "      <td>PC 17599</td>\n",
       "      <td>Cumings</td>\n",
       "      <td>John Bradley (Florence Briggs Thayer)</td>\n",
       "      <td>Mrs</td>\n",
       "    </tr>\n",
       "    <tr>\n",
       "      <th>3</th>\n",
       "      <td>26.0</td>\n",
       "      <td>N</td>\n",
       "      <td>S</td>\n",
       "      <td>7.9250</td>\n",
       "      <td>Heikkinen, Miss. Laina</td>\n",
       "      <td>0</td>\n",
       "      <td>3</td>\n",
       "      <td>female</td>\n",
       "      <td>0</td>\n",
       "      <td>1.0</td>\n",
       "      <td>STON/O2. 3101282</td>\n",
       "      <td>Heikkinen</td>\n",
       "      <td>Laina</td>\n",
       "      <td>Miss</td>\n",
       "    </tr>\n",
       "    <tr>\n",
       "      <th>4</th>\n",
       "      <td>35.0</td>\n",
       "      <td>C123</td>\n",
       "      <td>S</td>\n",
       "      <td>53.1000</td>\n",
       "      <td>Futrelle, Mrs. Jacques Heath (Lily May Peel)</td>\n",
       "      <td>0</td>\n",
       "      <td>1</td>\n",
       "      <td>female</td>\n",
       "      <td>1</td>\n",
       "      <td>1.0</td>\n",
       "      <td>113803</td>\n",
       "      <td>Futrelle</td>\n",
       "      <td>Jacques Heath (Lily May Peel)</td>\n",
       "      <td>Mrs</td>\n",
       "    </tr>\n",
       "    <tr>\n",
       "      <th>5</th>\n",
       "      <td>35.0</td>\n",
       "      <td>N</td>\n",
       "      <td>S</td>\n",
       "      <td>8.0500</td>\n",
       "      <td>Allen, Mr. William Henry</td>\n",
       "      <td>0</td>\n",
       "      <td>3</td>\n",
       "      <td>male</td>\n",
       "      <td>0</td>\n",
       "      <td>0.0</td>\n",
       "      <td>373450</td>\n",
       "      <td>Allen</td>\n",
       "      <td>William Henry</td>\n",
       "      <td>Mr</td>\n",
       "    </tr>\n",
       "  </tbody>\n",
       "</table>\n",
       "</div>"
      ],
      "text/plain": [
       "              Age Cabin Embarked     Fare  \\\n",
       "PassengerId                                 \n",
       "1            22.0     N        S   7.2500   \n",
       "2            38.0   C85        C  71.2833   \n",
       "3            26.0     N        S   7.9250   \n",
       "4            35.0  C123        S  53.1000   \n",
       "5            35.0     N        S   8.0500   \n",
       "\n",
       "                                                          Name  Parch  Pclass  \\\n",
       "PassengerId                                                                     \n",
       "1                                      Braund, Mr. Owen Harris      0       3   \n",
       "2            Cumings, Mrs. John Bradley (Florence Briggs Th...      0       1   \n",
       "3                                       Heikkinen, Miss. Laina      0       3   \n",
       "4                 Futrelle, Mrs. Jacques Heath (Lily May Peel)      0       1   \n",
       "5                                     Allen, Mr. William Henry      0       3   \n",
       "\n",
       "                Sex  SibSp  Survived            Ticket   LastName  \\\n",
       "PassengerId                                                         \n",
       "1              male      1       0.0         A/5 21171     Braund   \n",
       "2            female      1       1.0          PC 17599    Cumings   \n",
       "3            female      0       1.0  STON/O2. 3101282  Heikkinen   \n",
       "4            female      1       1.0            113803   Futrelle   \n",
       "5              male      0       0.0            373450      Allen   \n",
       "\n",
       "                                         FirstName Designation  \n",
       "PassengerId                                                     \n",
       "1                                      Owen Harris          Mr  \n",
       "2            John Bradley (Florence Briggs Thayer)         Mrs  \n",
       "3                                            Laina        Miss  \n",
       "4                    Jacques Heath (Lily May Peel)         Mrs  \n",
       "5                                    William Henry          Mr  "
      ]
     },
     "execution_count": 22,
     "metadata": {},
     "output_type": "execute_result"
    }
   ],
   "source": [
    "combine.head()"
   ]
  },
  {
   "cell_type": "markdown",
   "metadata": {},
   "source": [
    "Note that the column, \"Designation\" can be used to impute missing data for the \"Age\" variable. Suppose we have a missing data with the designation, \"Miss\". We can look at the mean value for all observations with the same designation and impute that as the missing value."
   ]
  },
  {
   "cell_type": "code",
   "execution_count": 57,
   "metadata": {},
   "outputs": [
    {
     "data": {
      "text/plain": [
       "Designation\n",
       "Capt            70.000000\n",
       "Col             54.000000\n",
       "Don             40.000000\n",
       "Dona            39.000000\n",
       "Dr              43.571429\n",
       "Jonkheer        38.000000\n",
       "Lady            48.000000\n",
       "Major           48.500000\n",
       "Master           5.482642\n",
       "Miss            21.774238\n",
       "Mlle            24.000000\n",
       "Mme             24.000000\n",
       "Mr              32.252151\n",
       "Mrs             36.994118\n",
       "Ms              28.000000\n",
       "Rev             41.250000\n",
       "Sir             49.000000\n",
       "the Countess    33.000000\n",
       "Name: Age, dtype: float64"
      ]
     },
     "execution_count": 57,
     "metadata": {},
     "output_type": "execute_result"
    }
   ],
   "source": [
    "combine.groupby(\"Designation\")['Age'].mean()"
   ]
  },
  {
   "cell_type": "code",
   "execution_count": 23,
   "metadata": {},
   "outputs": [
    {
     "data": {
      "text/plain": [
       "Designation\n",
       "Capt              1\n",
       "Col               4\n",
       "Don               1\n",
       "Dona              1\n",
       "Dr                8\n",
       "Jonkheer          1\n",
       "Lady              1\n",
       "Major             2\n",
       "Master           61\n",
       "Miss            260\n",
       "Mlle              2\n",
       "Mme               1\n",
       "Mr              757\n",
       "Mrs             197\n",
       "Ms                2\n",
       "Rev               8\n",
       "Sir               1\n",
       "the Countess      1\n",
       "dtype: int64"
      ]
     },
     "execution_count": 23,
     "metadata": {},
     "output_type": "execute_result"
    }
   ],
   "source": [
    "combine.groupby(\"Designation\").size()"
   ]
  },
  {
   "cell_type": "code",
   "execution_count": 31,
   "metadata": {},
   "outputs": [
    {
     "data": {
      "text/plain": [
       "PassengerId\n",
       "1         Mr\n",
       "2        Mrs\n",
       "3       Miss\n",
       "4        Mrs\n",
       "5         Mr\n",
       "6         Mr\n",
       "7         Mr\n",
       "8     Master\n",
       "9        Mrs\n",
       "10       Mrs\n",
       "11      Miss\n",
       "12      Miss\n",
       "13        Mr\n",
       "14        Mr\n",
       "15      Miss\n",
       "16       Mrs\n",
       "17    Master\n",
       "18        Mr\n",
       "19       Mrs\n",
       "20       Mrs\n",
       "Name: Designation, dtype: object"
      ]
     },
     "execution_count": 31,
     "metadata": {},
     "output_type": "execute_result"
    }
   ],
   "source": [
    "combine.Designation[:20]"
   ]
  },
  {
   "cell_type": "code",
   "execution_count": 32,
   "metadata": {
    "scrolled": false
   },
   "outputs": [],
   "source": [
    "def impute_missing_age():\n",
    "    '''\n",
    "    Generate a pd.Series using information on Designation to impute missing age data\n",
    "    '''\n",
    "    age_list = []\n",
    "    for age, desg in zip(combine.Age, combine.Designation):\n",
    "        if pd.isnull(age):\n",
    "            age_list.append(combine.groupby(\"Designation\")['Age'].mean()[desg])\n",
    "        else: age_list.append(age)\n",
    "    return age_list\n",
    "\n",
    "combine['NewAge'] = impute_missing_age()"
   ]
  },
  {
   "cell_type": "markdown",
   "metadata": {},
   "source": [
    "We check for missing data once again. If everything turns out to be fine, we can begin to explore the relationships inherent in the data."
   ]
  },
  {
   "cell_type": "code",
   "execution_count": 34,
   "metadata": {},
   "outputs": [
    {
     "data": {
      "text/plain": [
       "Age            263\n",
       "Cabin            0\n",
       "Embarked         0\n",
       "Fare             0\n",
       "Name             0\n",
       "Parch            0\n",
       "Pclass           0\n",
       "Sex              0\n",
       "SibSp            0\n",
       "Survived       418\n",
       "Ticket           0\n",
       "LastName         0\n",
       "FirstName        0\n",
       "Designation      0\n",
       "NewAge           0\n",
       "dtype: int64"
      ]
     },
     "execution_count": 34,
     "metadata": {},
     "output_type": "execute_result"
    }
   ],
   "source": [
    "np.sum(pd.isnull(combine))"
   ]
  },
  {
   "cell_type": "markdown",
   "metadata": {},
   "source": [
    "### Data Exploration and Plotting\n",
    "Everything seems good. We can proceed with data exploration using plots. We begin with some hypotheses that we are interested in, and see what that leads to. Here are some possible hypotheses one may be interested in testing:\n",
    "\n",
    "1. Age is correlated with Survival Rate\n",
    "2. Fare is correlated with Survival Rate\n",
    "3. Designation is correlated with Survival Rate\n",
    "\n",
    "From there, we can generate additional hypotheses: can an interaction term between Gender x Age lead to even better results? "
   ]
  },
  {
   "cell_type": "code",
   "execution_count": 35,
   "metadata": {},
   "outputs": [
    {
     "data": {
      "image/png": "[encoded data removed]",
      "text/plain": [
       "<matplotlib.figure.Figure at 0x1091fe080>"
      ]
     },
     "metadata": {},
     "output_type": "display_data"
    }
   ],
   "source": [
    "### Hypothesis 1\n",
    "plt.figure(figsize=(20, 12))\n",
    "sns.distplot(combine[combine.Survived == 0].NewAge, bins=range(0, 81, 1), color = 'red', label='Perished')\n",
    "sns.distplot(combine[combine.Survived == 1].NewAge, bins=range(0, 81, 1), color = 'blue', label='Survived')\n",
    "plt.legend(loc='upper right')\n",
    "plt.title(\"Age Distribution\")\n",
    "plt.show()"
   ]
  },
  {
   "cell_type": "code",
   "execution_count": 62,
   "metadata": {},
   "outputs": [
    {
     "data": {
      "image/png": "[encoded data removed]",
      "text/plain": [
       "<matplotlib.figure.Figure at 0x11762ea58>"
      ]
     },
     "metadata": {},
     "output_type": "display_data"
    }
   ],
   "source": [
    "### Hypothesis 2\n",
    "plt.figure(figsize=(20, 12))\n",
    "sns.distplot(combine[combine.Survived == 0].Fare, bins=range(0, 81, 1), color = 'red', label='Perished')\n",
    "sns.distplot(combine[combine.Survived == 1].Fare, bins=range(0, 81, 1), color = 'blue', label='Survived')\n",
    "plt.legend(loc='upper right')\n",
    "plt.title(\"Age Distribution\")\n",
    "plt.show()"
   ]
  },
  {
   "cell_type": "markdown",
   "metadata": {},
   "source": [
    "From the graphs above, it appears that passengers who are young tend to survive the Titanic crash. In addition, passengers who paid more for their fare tended to have a higher rate of survival. However, something stands out. There appears to be anomaly in the dataset - some passengers paid way more than \\$100 for their fare.\n",
    "\n",
    "We **may** need to conduct a secondary analysis to ensure that this is indeed an anomaly.\n",
    "\n",
    "---\n",
    "\n",
    "Let's test the third hypothesis."
   ]
  },
  {
   "cell_type": "code",
   "execution_count": 63,
   "metadata": {},
   "outputs": [
    {
     "data": {
      "image/png": "[encoded data removed]",
      "text/plain": [
       "<matplotlib.figure.Figure at 0x118202128>"
      ]
     },
     "metadata": {},
     "output_type": "display_data"
    }
   ],
   "source": [
    "### Hypothesis 3\n",
    "plt.figure(figsize=(20, 12))\n",
    "sns.countplot(\"Designation\", hue='Survived', data=combine)\n",
    "plt.legend(loc='upper right')\n",
    "plt.show()"
   ]
  },
  {
   "cell_type": "markdown",
   "metadata": {},
   "source": [
    "The above plot seems to imply the following:\n",
    "\n",
    "1. Male passengers have a relatively low survival rate, compared to females\n",
    "2. Children tend to have a relatively high survival rate (their Designation is Master) \n",
    "3. There is not enough data about the other Designations to draw a decisive conclusion\n",
    "\n",
    "---\n",
    "\n",
    "Other hypotheses that we can carry out are as follows:\n",
    "\n",
    "1. Could the feature Ticket be correlated with the Survival Variable?\n",
    "2. Are passengers with Siblings/Spouses and Parents/Children more likely to survive than passengers travelling alone?"
   ]
  },
  {
   "cell_type": "code",
   "execution_count": 41,
   "metadata": {},
   "outputs": [
    {
     "data": {
      "text/plain": [
       "929"
      ]
     },
     "execution_count": 41,
     "metadata": {},
     "output_type": "execute_result"
    }
   ],
   "source": [
    "len(np.unique(combine.Ticket))"
   ]
  },
  {
   "cell_type": "code",
   "execution_count": 42,
   "metadata": {},
   "outputs": [
    {
     "data": {
      "text/plain": [
       "1309"
      ]
     },
     "execution_count": 42,
     "metadata": {},
     "output_type": "execute_result"
    }
   ],
   "source": [
    "len(combine.Ticket)"
   ]
  },
  {
   "cell_type": "markdown",
   "metadata": {},
   "source": [
    "We note that there are 929 unique value for tickets, but there are 1309 entries. Some passengers might be sharing tickets! To determine how many people are sharing tickets, we can use the DataFrame method, `groupby`. This can be done using the following function:"
   ]
  },
  {
   "cell_type": "code",
   "execution_count": 44,
   "metadata": {},
   "outputs": [
    {
     "data": {
      "text/plain": [
       "Ticket\n",
       "110152               3\n",
       "110413               3\n",
       "110465               2\n",
       "110469               1\n",
       "110489               1\n",
       "110564               1\n",
       "110813               2\n",
       "111163               1\n",
       "111240               1\n",
       "111320               1\n",
       "111361               2\n",
       "111369               1\n",
       "111426               1\n",
       "111427               1\n",
       "111428               1\n",
       "112050               1\n",
       "112051               1\n",
       "112052               1\n",
       "112053               1\n",
       "112058               2\n",
       "112059               1\n",
       "112277               1\n",
       "112377               1\n",
       "112378               2\n",
       "112379               1\n",
       "112901               1\n",
       "113028               1\n",
       "113038               1\n",
       "113043               1\n",
       "113044               1\n",
       "                    ..\n",
       "STON/O 2. 3101273    1\n",
       "STON/O 2. 3101274    1\n",
       "STON/O 2. 3101275    1\n",
       "STON/O 2. 3101280    1\n",
       "STON/O 2. 3101285    1\n",
       "STON/O 2. 3101286    1\n",
       "STON/O 2. 3101288    1\n",
       "STON/O 2. 3101289    1\n",
       "STON/O 2. 3101291    1\n",
       "STON/O 2. 3101292    1\n",
       "STON/O 2. 3101293    1\n",
       "STON/O 2. 3101294    1\n",
       "STON/O2. 3101270     1\n",
       "STON/O2. 3101271     1\n",
       "STON/O2. 3101279     2\n",
       "STON/O2. 3101282     1\n",
       "STON/O2. 3101283     1\n",
       "STON/O2. 3101290     1\n",
       "STON/OQ. 369943      1\n",
       "SW/PP 751            1\n",
       "W./C. 14258          1\n",
       "W./C. 14260          1\n",
       "W./C. 14263          1\n",
       "W./C. 14266          1\n",
       "W./C. 6607           4\n",
       "W./C. 6608           5\n",
       "W./C. 6609           1\n",
       "W.E.P. 5734          2\n",
       "W/C 14208            1\n",
       "WE/P 5735            2\n",
       "Length: 929, dtype: int64"
      ]
     },
     "execution_count": 44,
     "metadata": {},
     "output_type": "execute_result"
    }
   ],
   "source": [
    "combine.groupby('Ticket').size()"
   ]
  },
  {
   "cell_type": "markdown",
   "metadata": {},
   "source": [
    "We note that there are 3 people sharing the same ticket, \"110152\". The following function returns the number of passengers holding the same ticket owned by the passenger (it's quite a difficult function to understand):"
   ]
  },
  {
   "cell_type": "code",
   "execution_count": 50,
   "metadata": {},
   "outputs": [
    {
     "data": {
      "text/plain": [
       "PassengerId\n",
       "1    1\n",
       "2    2\n",
       "3    1\n",
       "4    2\n",
       "5    1\n",
       "Name: Name, dtype: int64"
      ]
     },
     "execution_count": 50,
     "metadata": {},
     "output_type": "execute_result"
    }
   ],
   "source": [
    "combine.groupby('Ticket')['Name'].transform(\"count\").head()"
   ]
  },
  {
   "cell_type": "code",
   "execution_count": 51,
   "metadata": {},
   "outputs": [
    {
     "data": {
      "image/png": "[encoded data removed]",
      "text/plain": [
       "<matplotlib.figure.Figure at 0x1091edba8>"
      ]
     },
     "metadata": {},
     "output_type": "display_data"
    }
   ],
   "source": [
    "combine['SharedTickets'] = combine.groupby('Ticket')['Name'].transform(\"count\")\n",
    "\n",
    "plt.figure(figsize=(18, 10))\n",
    "sns.countplot(combine.SharedTickets)\n",
    "plt.show()"
   ]
  },
  {
   "cell_type": "markdown",
   "metadata": {},
   "source": [
    "Are passengers who share tickets more or less likely to perish? To find out, we can use the `sns.distplot` function to find out."
   ]
  },
  {
   "cell_type": "code",
   "execution_count": 52,
   "metadata": {},
   "outputs": [
    {
     "data": {
      "image/png": "[encoded data removed]",
      "text/plain": [
       "<matplotlib.figure.Figure at 0x10a735e80>"
      ]
     },
     "metadata": {},
     "output_type": "display_data"
    }
   ],
   "source": [
    "plt.figure(figsize=(20, 10))\n",
    "\n",
    "sns.distplot(combine[(combine.Survived == 0)].SharedTickets.dropna(),\n",
    "             bins = range(1, 12, 1), kde = False, norm_hist = True, color = 'red', label='Perished')\n",
    "\n",
    "sns.distplot(combine[(combine.Survived == 1)].SharedTickets.dropna(),\n",
    "             bins = range(1, 12, 1), kde = False, norm_hist = True, color = 'blue', label='Survived')\n",
    "\n",
    "plt.legend(loc='upper right')\n",
    "plt.title('Distribution of Shared Tickets')\n",
    "plt.show()"
   ]
  },
  {
   "cell_type": "markdown",
   "metadata": {},
   "source": [
    " "
   ]
  },
  {
   "cell_type": "markdown",
   "metadata": {},
   "source": [
    "It appears that passengers who shared tickets with 1, 2 or 3 other friends or relative had a higher chance of survival. To capture this, we can create a new feature called \"GoodSharedTicket\". In addition, we can also create a new column called, \"Alone\"."
   ]
  },
  {
   "cell_type": "code",
   "execution_count": 68,
   "metadata": {
    "collapsed": true
   },
   "outputs": [],
   "source": [
    "combine['GoodSharedTickets'] = ((combine.SharedTickets >= 2) & (combine.SharedTickets <= 4))\n",
    "combine['Alone'] = combine.SharedTickets == 1"
   ]
  },
  {
   "cell_type": "code",
   "execution_count": 69,
   "metadata": {},
   "outputs": [
    {
     "data": {
      "text/html": [
       "<div>\n",
       "<style scoped>\n",
       "    .dataframe tbody tr th:only-of-type {\n",
       "        vertical-align: middle;\n",
       "    }\n",
       "\n",
       "    .dataframe tbody tr th {\n",
       "        vertical-align: top;\n",
       "    }\n",
       "\n",
       "    .dataframe thead th {\n",
       "        text-align: right;\n",
       "    }\n",
       "</style>\n",
       "<table border=\"1\" class=\"dataframe\">\n",
       "  <thead>\n",
       "    <tr style=\"text-align: right;\">\n",
       "      <th></th>\n",
       "      <th>Age</th>\n",
       "      <th>Cabin</th>\n",
       "      <th>Embarked</th>\n",
       "      <th>Fare</th>\n",
       "      <th>Name</th>\n",
       "      <th>Parch</th>\n",
       "      <th>Pclass</th>\n",
       "      <th>Sex</th>\n",
       "      <th>SibSp</th>\n",
       "      <th>Survived</th>\n",
       "      <th>...</th>\n",
       "      <th>LastName</th>\n",
       "      <th>FirstName</th>\n",
       "      <th>Designation</th>\n",
       "      <th>NewAge</th>\n",
       "      <th>SharedTickets</th>\n",
       "      <th>NormalisedFare</th>\n",
       "      <th>CabinType</th>\n",
       "      <th>NoCabin</th>\n",
       "      <th>GoodSharedTickets</th>\n",
       "      <th>Alone</th>\n",
       "    </tr>\n",
       "    <tr>\n",
       "      <th>PassengerId</th>\n",
       "      <th></th>\n",
       "      <th></th>\n",
       "      <th></th>\n",
       "      <th></th>\n",
       "      <th></th>\n",
       "      <th></th>\n",
       "      <th></th>\n",
       "      <th></th>\n",
       "      <th></th>\n",
       "      <th></th>\n",
       "      <th></th>\n",
       "      <th></th>\n",
       "      <th></th>\n",
       "      <th></th>\n",
       "      <th></th>\n",
       "      <th></th>\n",
       "      <th></th>\n",
       "      <th></th>\n",
       "      <th></th>\n",
       "      <th></th>\n",
       "      <th></th>\n",
       "    </tr>\n",
       "  </thead>\n",
       "  <tbody>\n",
       "    <tr>\n",
       "      <th>1</th>\n",
       "      <td>22.0</td>\n",
       "      <td>N</td>\n",
       "      <td>S</td>\n",
       "      <td>7.2500</td>\n",
       "      <td>Braund, Mr. Owen Harris</td>\n",
       "      <td>0</td>\n",
       "      <td>3</td>\n",
       "      <td>male</td>\n",
       "      <td>1</td>\n",
       "      <td>0.0</td>\n",
       "      <td>...</td>\n",
       "      <td>Braund</td>\n",
       "      <td>Owen Harris</td>\n",
       "      <td>Mr</td>\n",
       "      <td>22.0</td>\n",
       "      <td>1</td>\n",
       "      <td>7.25000</td>\n",
       "      <td>N</td>\n",
       "      <td>0</td>\n",
       "      <td>False</td>\n",
       "      <td>True</td>\n",
       "    </tr>\n",
       "    <tr>\n",
       "      <th>2</th>\n",
       "      <td>38.0</td>\n",
       "      <td>C85</td>\n",
       "      <td>C</td>\n",
       "      <td>71.2833</td>\n",
       "      <td>Cumings, Mrs. John Bradley (Florence Briggs Th...</td>\n",
       "      <td>0</td>\n",
       "      <td>1</td>\n",
       "      <td>female</td>\n",
       "      <td>1</td>\n",
       "      <td>1.0</td>\n",
       "      <td>...</td>\n",
       "      <td>Cumings</td>\n",
       "      <td>John Bradley (Florence Briggs Thayer)</td>\n",
       "      <td>Mrs</td>\n",
       "      <td>38.0</td>\n",
       "      <td>2</td>\n",
       "      <td>35.64165</td>\n",
       "      <td>C</td>\n",
       "      <td>1</td>\n",
       "      <td>True</td>\n",
       "      <td>False</td>\n",
       "    </tr>\n",
       "    <tr>\n",
       "      <th>3</th>\n",
       "      <td>26.0</td>\n",
       "      <td>N</td>\n",
       "      <td>S</td>\n",
       "      <td>7.9250</td>\n",
       "      <td>Heikkinen, Miss. Laina</td>\n",
       "      <td>0</td>\n",
       "      <td>3</td>\n",
       "      <td>female</td>\n",
       "      <td>0</td>\n",
       "      <td>1.0</td>\n",
       "      <td>...</td>\n",
       "      <td>Heikkinen</td>\n",
       "      <td>Laina</td>\n",
       "      <td>Miss</td>\n",
       "      <td>26.0</td>\n",
       "      <td>1</td>\n",
       "      <td>7.92500</td>\n",
       "      <td>N</td>\n",
       "      <td>0</td>\n",
       "      <td>False</td>\n",
       "      <td>True</td>\n",
       "    </tr>\n",
       "    <tr>\n",
       "      <th>4</th>\n",
       "      <td>35.0</td>\n",
       "      <td>C123</td>\n",
       "      <td>S</td>\n",
       "      <td>53.1000</td>\n",
       "      <td>Futrelle, Mrs. Jacques Heath (Lily May Peel)</td>\n",
       "      <td>0</td>\n",
       "      <td>1</td>\n",
       "      <td>female</td>\n",
       "      <td>1</td>\n",
       "      <td>1.0</td>\n",
       "      <td>...</td>\n",
       "      <td>Futrelle</td>\n",
       "      <td>Jacques Heath (Lily May Peel)</td>\n",
       "      <td>Mrs</td>\n",
       "      <td>35.0</td>\n",
       "      <td>2</td>\n",
       "      <td>26.55000</td>\n",
       "      <td>C</td>\n",
       "      <td>1</td>\n",
       "      <td>True</td>\n",
       "      <td>False</td>\n",
       "    </tr>\n",
       "    <tr>\n",
       "      <th>5</th>\n",
       "      <td>35.0</td>\n",
       "      <td>N</td>\n",
       "      <td>S</td>\n",
       "      <td>8.0500</td>\n",
       "      <td>Allen, Mr. William Henry</td>\n",
       "      <td>0</td>\n",
       "      <td>3</td>\n",
       "      <td>male</td>\n",
       "      <td>0</td>\n",
       "      <td>0.0</td>\n",
       "      <td>...</td>\n",
       "      <td>Allen</td>\n",
       "      <td>William Henry</td>\n",
       "      <td>Mr</td>\n",
       "      <td>35.0</td>\n",
       "      <td>1</td>\n",
       "      <td>8.05000</td>\n",
       "      <td>N</td>\n",
       "      <td>0</td>\n",
       "      <td>False</td>\n",
       "      <td>True</td>\n",
       "    </tr>\n",
       "  </tbody>\n",
       "</table>\n",
       "<p>5 rows × 21 columns</p>\n",
       "</div>"
      ],
      "text/plain": [
       "              Age Cabin Embarked     Fare  \\\n",
       "PassengerId                                 \n",
       "1            22.0     N        S   7.2500   \n",
       "2            38.0   C85        C  71.2833   \n",
       "3            26.0     N        S   7.9250   \n",
       "4            35.0  C123        S  53.1000   \n",
       "5            35.0     N        S   8.0500   \n",
       "\n",
       "                                                          Name  Parch  Pclass  \\\n",
       "PassengerId                                                                     \n",
       "1                                      Braund, Mr. Owen Harris      0       3   \n",
       "2            Cumings, Mrs. John Bradley (Florence Briggs Th...      0       1   \n",
       "3                                       Heikkinen, Miss. Laina      0       3   \n",
       "4                 Futrelle, Mrs. Jacques Heath (Lily May Peel)      0       1   \n",
       "5                                     Allen, Mr. William Henry      0       3   \n",
       "\n",
       "                Sex  SibSp  Survived  ...   LastName  \\\n",
       "PassengerId                           ...              \n",
       "1              male      1       0.0  ...     Braund   \n",
       "2            female      1       1.0  ...    Cumings   \n",
       "3            female      0       1.0  ...  Heikkinen   \n",
       "4            female      1       1.0  ...   Futrelle   \n",
       "5              male      0       0.0  ...      Allen   \n",
       "\n",
       "                                         FirstName Designation NewAge  \\\n",
       "PassengerId                                                             \n",
       "1                                      Owen Harris          Mr   22.0   \n",
       "2            John Bradley (Florence Briggs Thayer)         Mrs   38.0   \n",
       "3                                            Laina        Miss   26.0   \n",
       "4                    Jacques Heath (Lily May Peel)         Mrs   35.0   \n",
       "5                                    William Henry          Mr   35.0   \n",
       "\n",
       "             SharedTickets  NormalisedFare  CabinType NoCabin  \\\n",
       "PassengerId                                                     \n",
       "1                        1         7.25000          N       0   \n",
       "2                        2        35.64165          C       1   \n",
       "3                        1         7.92500          N       0   \n",
       "4                        2        26.55000          C       1   \n",
       "5                        1         8.05000          N       0   \n",
       "\n",
       "            GoodSharedTickets  Alone  \n",
       "PassengerId                           \n",
       "1                       False   True  \n",
       "2                        True  False  \n",
       "3                       False   True  \n",
       "4                        True  False  \n",
       "5                       False   True  \n",
       "\n",
       "[5 rows x 21 columns]"
      ]
     },
     "execution_count": 69,
     "metadata": {},
     "output_type": "execute_result"
    }
   ],
   "source": [
    "combine.head()"
   ]
  },
  {
   "cell_type": "markdown",
   "metadata": {},
   "source": [
    "Recall that we had tickets costing more than \\$500. Let's take a closer look at those tickets."
   ]
  },
  {
   "cell_type": "code",
   "execution_count": 70,
   "metadata": {},
   "outputs": [
    {
     "data": {
      "text/html": [
       "<div>\n",
       "<style scoped>\n",
       "    .dataframe tbody tr th:only-of-type {\n",
       "        vertical-align: middle;\n",
       "    }\n",
       "\n",
       "    .dataframe tbody tr th {\n",
       "        vertical-align: top;\n",
       "    }\n",
       "\n",
       "    .dataframe thead th {\n",
       "        text-align: right;\n",
       "    }\n",
       "</style>\n",
       "<table border=\"1\" class=\"dataframe\">\n",
       "  <thead>\n",
       "    <tr style=\"text-align: right;\">\n",
       "      <th></th>\n",
       "      <th>Age</th>\n",
       "      <th>Cabin</th>\n",
       "      <th>Embarked</th>\n",
       "      <th>Fare</th>\n",
       "      <th>Name</th>\n",
       "      <th>Parch</th>\n",
       "      <th>Pclass</th>\n",
       "      <th>Sex</th>\n",
       "      <th>SibSp</th>\n",
       "      <th>Survived</th>\n",
       "      <th>...</th>\n",
       "      <th>LastName</th>\n",
       "      <th>FirstName</th>\n",
       "      <th>Designation</th>\n",
       "      <th>NewAge</th>\n",
       "      <th>SharedTickets</th>\n",
       "      <th>NormalisedFare</th>\n",
       "      <th>CabinType</th>\n",
       "      <th>NoCabin</th>\n",
       "      <th>GoodSharedTickets</th>\n",
       "      <th>Alone</th>\n",
       "    </tr>\n",
       "    <tr>\n",
       "      <th>PassengerId</th>\n",
       "      <th></th>\n",
       "      <th></th>\n",
       "      <th></th>\n",
       "      <th></th>\n",
       "      <th></th>\n",
       "      <th></th>\n",
       "      <th></th>\n",
       "      <th></th>\n",
       "      <th></th>\n",
       "      <th></th>\n",
       "      <th></th>\n",
       "      <th></th>\n",
       "      <th></th>\n",
       "      <th></th>\n",
       "      <th></th>\n",
       "      <th></th>\n",
       "      <th></th>\n",
       "      <th></th>\n",
       "      <th></th>\n",
       "      <th></th>\n",
       "      <th></th>\n",
       "    </tr>\n",
       "  </thead>\n",
       "  <tbody>\n",
       "    <tr>\n",
       "      <th>259</th>\n",
       "      <td>35.0</td>\n",
       "      <td>N</td>\n",
       "      <td>C</td>\n",
       "      <td>512.3292</td>\n",
       "      <td>Ward, Miss. Anna</td>\n",
       "      <td>0</td>\n",
       "      <td>1</td>\n",
       "      <td>female</td>\n",
       "      <td>0</td>\n",
       "      <td>1.0</td>\n",
       "      <td>...</td>\n",
       "      <td>Ward</td>\n",
       "      <td>Anna</td>\n",
       "      <td>Miss</td>\n",
       "      <td>35.0</td>\n",
       "      <td>4</td>\n",
       "      <td>128.0823</td>\n",
       "      <td>N</td>\n",
       "      <td>0</td>\n",
       "      <td>True</td>\n",
       "      <td>False</td>\n",
       "    </tr>\n",
       "    <tr>\n",
       "      <th>680</th>\n",
       "      <td>36.0</td>\n",
       "      <td>B51 B53 B55</td>\n",
       "      <td>C</td>\n",
       "      <td>512.3292</td>\n",
       "      <td>Cardeza, Mr. Thomas Drake Martinez</td>\n",
       "      <td>1</td>\n",
       "      <td>1</td>\n",
       "      <td>male</td>\n",
       "      <td>0</td>\n",
       "      <td>1.0</td>\n",
       "      <td>...</td>\n",
       "      <td>Cardeza</td>\n",
       "      <td>Thomas Drake Martinez</td>\n",
       "      <td>Mr</td>\n",
       "      <td>36.0</td>\n",
       "      <td>4</td>\n",
       "      <td>128.0823</td>\n",
       "      <td>B</td>\n",
       "      <td>3</td>\n",
       "      <td>True</td>\n",
       "      <td>False</td>\n",
       "    </tr>\n",
       "    <tr>\n",
       "      <th>738</th>\n",
       "      <td>35.0</td>\n",
       "      <td>B101</td>\n",
       "      <td>C</td>\n",
       "      <td>512.3292</td>\n",
       "      <td>Lesurer, Mr. Gustave J</td>\n",
       "      <td>0</td>\n",
       "      <td>1</td>\n",
       "      <td>male</td>\n",
       "      <td>0</td>\n",
       "      <td>1.0</td>\n",
       "      <td>...</td>\n",
       "      <td>Lesurer</td>\n",
       "      <td>Gustave J</td>\n",
       "      <td>Mr</td>\n",
       "      <td>35.0</td>\n",
       "      <td>4</td>\n",
       "      <td>128.0823</td>\n",
       "      <td>B</td>\n",
       "      <td>1</td>\n",
       "      <td>True</td>\n",
       "      <td>False</td>\n",
       "    </tr>\n",
       "    <tr>\n",
       "      <th>1235</th>\n",
       "      <td>58.0</td>\n",
       "      <td>B51 B53 B55</td>\n",
       "      <td>C</td>\n",
       "      <td>512.3292</td>\n",
       "      <td>Cardeza, Mrs. James Warburton Martinez (Charlo...</td>\n",
       "      <td>1</td>\n",
       "      <td>1</td>\n",
       "      <td>female</td>\n",
       "      <td>0</td>\n",
       "      <td>NaN</td>\n",
       "      <td>...</td>\n",
       "      <td>Cardeza</td>\n",
       "      <td>James Warburton Martinez (Charlotte Wardle Drake)</td>\n",
       "      <td>Mrs</td>\n",
       "      <td>58.0</td>\n",
       "      <td>4</td>\n",
       "      <td>128.0823</td>\n",
       "      <td>B</td>\n",
       "      <td>3</td>\n",
       "      <td>True</td>\n",
       "      <td>False</td>\n",
       "    </tr>\n",
       "  </tbody>\n",
       "</table>\n",
       "<p>4 rows × 21 columns</p>\n",
       "</div>"
      ],
      "text/plain": [
       "              Age        Cabin Embarked      Fare  \\\n",
       "PassengerId                                         \n",
       "259          35.0            N        C  512.3292   \n",
       "680          36.0  B51 B53 B55        C  512.3292   \n",
       "738          35.0         B101        C  512.3292   \n",
       "1235         58.0  B51 B53 B55        C  512.3292   \n",
       "\n",
       "                                                          Name  Parch  Pclass  \\\n",
       "PassengerId                                                                     \n",
       "259                                           Ward, Miss. Anna      0       1   \n",
       "680                         Cardeza, Mr. Thomas Drake Martinez      1       1   \n",
       "738                                     Lesurer, Mr. Gustave J      0       1   \n",
       "1235         Cardeza, Mrs. James Warburton Martinez (Charlo...      1       1   \n",
       "\n",
       "                Sex  SibSp  Survived  ... LastName  \\\n",
       "PassengerId                           ...            \n",
       "259          female      0       1.0  ...     Ward   \n",
       "680            male      0       1.0  ...  Cardeza   \n",
       "738            male      0       1.0  ...  Lesurer   \n",
       "1235         female      0       NaN  ...  Cardeza   \n",
       "\n",
       "                                                     FirstName Designation  \\\n",
       "PassengerId                                                                  \n",
       "259                                                       Anna        Miss   \n",
       "680                                      Thomas Drake Martinez          Mr   \n",
       "738                                                  Gustave J          Mr   \n",
       "1235         James Warburton Martinez (Charlotte Wardle Drake)         Mrs   \n",
       "\n",
       "            NewAge  SharedTickets  NormalisedFare  CabinType NoCabin  \\\n",
       "PassengerId                                                            \n",
       "259           35.0              4        128.0823          N       0   \n",
       "680           36.0              4        128.0823          B       3   \n",
       "738           35.0              4        128.0823          B       1   \n",
       "1235          58.0              4        128.0823          B       3   \n",
       "\n",
       "            GoodSharedTickets  Alone  \n",
       "PassengerId                           \n",
       "259                      True  False  \n",
       "680                      True  False  \n",
       "738                      True  False  \n",
       "1235                     True  False  \n",
       "\n",
       "[4 rows x 21 columns]"
      ]
     },
     "execution_count": 70,
     "metadata": {},
     "output_type": "execute_result"
    }
   ],
   "source": [
    "combine[combine.Fare >= 500]"
   ]
  },
  {
   "cell_type": "markdown",
   "metadata": {},
   "source": [
    "There is something similar across all ticket-holders; they all share the same ticket! One theory might be that the ticket fare, \\$512.3292, might reflect the joint total instead of the fare each person paid. If we believe this to be true, we can simply create a new fare column by using the fare to divide by the number of people that shared the same ticket."
   ]
  },
  {
   "cell_type": "code",
   "execution_count": 71,
   "metadata": {
    "collapsed": true
   },
   "outputs": [],
   "source": [
    "combine['NormalisedFare'] = combine.Fare / combine.SharedTickets"
   ]
  },
  {
   "cell_type": "code",
   "execution_count": 72,
   "metadata": {},
   "outputs": [
    {
     "name": "stdout",
     "output_type": "stream",
     "text": [
      "Max Fare is 512.329200\n",
      "Max Normalised Fare is 128.082300\n"
     ]
    }
   ],
   "source": [
    "print('Max Fare is %f' % max(combine.Fare))\n",
    "print('Max Normalised Fare is %f' % max(combine.NormalisedFare))"
   ]
  },
  {
   "cell_type": "code",
   "execution_count": 73,
   "metadata": {
    "scrolled": false
   },
   "outputs": [
    {
     "data": {
      "image/png": "[encoded data removed]",
      "text/plain": [
       "<matplotlib.figure.Figure at 0x10accc4e0>"
      ]
     },
     "metadata": {},
     "output_type": "display_data"
    }
   ],
   "source": [
    "### Hypothesis 2\n",
    "plt.figure(figsize=(20, 12))\n",
    "sns.distplot(combine[combine.Survived == 0].NormalisedFare, bins=range(0, 131, 1), color = 'red', label='Perished')\n",
    "sns.distplot(combine[combine.Survived == 1].NormalisedFare, bins=range(0, 131, 1), color = 'blue', label='Survived')\n",
    "plt.legend(loc='upper right')\n",
    "plt.title(\"Age Distribution\")\n",
    "plt.show()"
   ]
  },
  {
   "cell_type": "markdown",
   "metadata": {},
   "source": [
    "All in all, the observation that passengers who paid higher fares has a higher rate of survival still stands. Now that we have generated some features, we can proceed to develop a Machine Learning algorithm.\n",
    "\n",
    "---\n",
    "\n",
    "#### Investing the Cabin Variable\n",
    "\n",
    "Finally, we investigate the cabin variable, and check whether we are able to generate any new features from it."
   ]
  },
  {
   "cell_type": "code",
   "execution_count": 74,
   "metadata": {},
   "outputs": [
    {
     "data": {
      "text/plain": [
       "array(['A10', 'A11', 'A14', 'A16', 'A18', 'A19', 'A20', 'A21', 'A23',\n",
       "       'A24', 'A26', 'A29', 'A31', 'A32', 'A34', 'A36', 'A5', 'A6', 'A7',\n",
       "       'A9', 'B10', 'B101', 'B102', 'B11', 'B18', 'B19', 'B20', 'B22',\n",
       "       'B24', 'B26', 'B28', 'B3', 'B30', 'B35', 'B36', 'B37', 'B38',\n",
       "       'B39', 'B4', 'B41', 'B42', 'B45', 'B49', 'B5', 'B50',\n",
       "       'B51 B53 B55', 'B52 B54 B56', 'B57 B59 B63 B66', 'B58 B60', 'B61',\n",
       "       'B69', 'B71', 'B73', 'B77', 'B78', 'B79', 'B80', 'B82 B84', 'B86',\n",
       "       'B94', 'B96 B98', 'C101', 'C103', 'C104', 'C105', 'C106', 'C110',\n",
       "       'C111', 'C116', 'C118', 'C123', 'C124', 'C125', 'C126', 'C128',\n",
       "       'C130', 'C132', 'C148', 'C2', 'C22 C26', 'C23 C25 C27', 'C28',\n",
       "       'C30', 'C31', 'C32', 'C39', 'C45', 'C46', 'C47', 'C49', 'C50',\n",
       "       'C51', 'C52', 'C53', 'C54', 'C55 C57', 'C6', 'C62 C64', 'C65',\n",
       "       'C68', 'C7', 'C70', 'C78', 'C80', 'C82', 'C83', 'C85', 'C86',\n",
       "       'C87', 'C89', 'C90', 'C91', 'C92', 'C93', 'C95', 'C97', 'C99', 'D',\n",
       "       'D10 D12', 'D11', 'D15', 'D17', 'D19', 'D20', 'D21', 'D22', 'D26',\n",
       "       'D28', 'D30', 'D33', 'D34', 'D35', 'D36', 'D37', 'D38', 'D40',\n",
       "       'D43', 'D45', 'D46', 'D47', 'D48', 'D49', 'D50', 'D56', 'D6', 'D7',\n",
       "       'D9', 'E10', 'E101', 'E12', 'E121', 'E17', 'E24', 'E25', 'E31',\n",
       "       'E33', 'E34', 'E36', 'E38', 'E39 E41', 'E40', 'E44', 'E45', 'E46',\n",
       "       'E49', 'E50', 'E52', 'E58', 'E60', 'E63', 'E67', 'E68', 'E77',\n",
       "       'E8', 'F', 'F E46', 'F E57', 'F E69', 'F G63', 'F G73', 'F2',\n",
       "       'F33', 'F38', 'F4', 'G6', 'N', 'T'], dtype=object)"
      ]
     },
     "execution_count": 74,
     "metadata": {},
     "output_type": "execute_result"
    }
   ],
   "source": [
    "np.unique(combine.Cabin)"
   ]
  },
  {
   "cell_type": "markdown",
   "metadata": {},
   "source": [
    "We note that there are many different types of cabins, and some passengers \"share\" cabins with other passengers. To capture these effects, we can create a new column, \"CabinType\", using the first character of the Cabin feature, and another, \"NoCabin\" to capture the number of cabins."
   ]
  },
  {
   "cell_type": "code",
   "execution_count": 75,
   "metadata": {},
   "outputs": [
    {
     "name": "stderr",
     "output_type": "stream",
     "text": [
      "/Users/ngbolin/anaconda3/lib/python3.6/site-packages/seaborn/categorical.py:3666: UserWarning: The `factorplot` function has been renamed to `catplot`. The original name will be removed in a future release. Please update your code. Note that the default `kind` in `factorplot` (`'point'`) has changed `'strip'` in `catplot`.\n",
      "  warnings.warn(msg)\n"
     ]
    },
    {
     "data": {
      "image/png": "[encoded data removed]",
      "text/plain": [
       "<matplotlib.figure.Figure at 0x10ab80dd8>"
      ]
     },
     "metadata": {},
     "output_type": "display_data"
    }
   ],
   "source": [
    "combine['CabinType'] = combine.Cabin.apply(lambda x: x[0])\n",
    "\n",
    "def number_of_cabins(cabin):\n",
    "    if cabin == 'N': return 0\n",
    "    else: return len(cabin.split(' '))\n",
    "    \n",
    "combine['NoCabin'] = combine.Cabin.apply(lambda x: number_of_cabins(x))\n",
    "\n",
    "fig = plt.figure(figsize=(20, 10))\n",
    "ax1 = fig.add_subplot(121); ax2 = fig.add_subplot(122)\n",
    "\n",
    "g1 = sns.factorplot('NoCabin', 'Survived', \n",
    "                    kind = 'bar', data = combine, ax = ax1)\n",
    "plt.close(g1.fig)\n",
    "g2 = sns.factorplot('CabinType', 'Survived', \n",
    "                    kind = 'bar', data = combine, ax = ax2)\n",
    "plt.close(g2.fig)\n",
    "plt.show()"
   ]
  },
  {
   "cell_type": "markdown",
   "metadata": {},
   "source": [
    "As it turns out, passengers staying in cabins had a higher possibility of surviving, but the effect does not increase with the number of cabins. In fact, the higher number of cabins, the lower the probability of the passenger surviving. We can then convert this column to categorical instead of numerical to capture the asymmetric effects.\n",
    "\n",
    "From the Cabin types, we note that passengers staying in the \"E\", \"D\", and \"B\" cabins had a higher survival rate. "
   ]
  },
  {
   "cell_type": "code",
   "execution_count": 76,
   "metadata": {
    "scrolled": false
   },
   "outputs": [
    {
     "name": "stdout",
     "output_type": "stream",
     "text": [
      "category\n"
     ]
    }
   ],
   "source": [
    "# Not very important to do\n",
    "combine['NoCabin'] = pd.Categorical(combine.NoCabin)\n",
    "print(combine.NoCabin.dtypes)"
   ]
  },
  {
   "cell_type": "markdown",
   "metadata": {},
   "source": [
    "### Feature Selection\n",
    "\n",
    "After all this, we can begin to select features which we believe are informative of the response variable. We typically do so using a heatmap/correlation plot."
   ]
  },
  {
   "cell_type": "code",
   "execution_count": 77,
   "metadata": {},
   "outputs": [
    {
     "data": {
      "image/png": "[encoded data removed]",
      "text/plain": [
       "<matplotlib.figure.Figure at 0x1090d4f28>"
      ]
     },
     "metadata": {},
     "output_type": "display_data"
    }
   ],
   "source": [
    "plt.figure(figsize=(20, 12))\n",
    "sns.heatmap(combine.corr(), cmap='Blues', annot=True)\n",
    "plt.show()"
   ]
  },
  {
   "cell_type": "markdown",
   "metadata": {},
   "source": [
    "From the correlation plot, we note that the following features seem to be fairly highly correlated with the \"Survived\" feature:\n",
    "\n",
    "1. NormalisedFare\n",
    "2. GoodSharedTickets\n",
    "3. NewAge\n",
    "4. PassengerClass\n",
    "\n",
    "In addition, we will include some other categorical features not included in the correlation plots:\n",
    "\n",
    "1. Gender\n",
    "2. CabinType\n",
    "3. NoCabin\n",
    "4. Designation"
   ]
  },
  {
   "cell_type": "code",
   "execution_count": 78,
   "metadata": {},
   "outputs": [],
   "source": [
    "features = ['NormalisedFare', 'GoodSharedTickets', 'NewAge', 'Pclass', 'Alone',\n",
    "            'Sex', 'CabinType', 'NoCabin', 'Designation']\n",
    "\n",
    "X = combine[features]\n",
    "y = combine['Survived']"
   ]
  },
  {
   "cell_type": "markdown",
   "metadata": {},
   "source": [
    "### Developing a Machine Learning Algorithm\n",
    "\n",
    "Noting that the problem we are currently dealing with is a categorical supervised learning problem, we can use the following techniques for prediction:\n",
    "\n",
    "1. Random Forest\n",
    "2. K-Nearest Neighbors\n",
    "\n",
    "#### Training, Cross-Validation and Testing\n",
    "Before we begin developing the models, it is important to split our training data into the following:\n",
    "\n",
    "1. Training data\n",
    "2. Cross-validation data\n",
    "\n",
    "The training data will be used solely for the purpose of training our classifier, while the cross-validation data will be used to evaluate the performance of the model. Typically, the training-validation data split is 80-20, but depending on data availability and problem scope, it is appropriate to use a 70-30 or 90-10 split. For our case, we will be using a 90-10 split, as we are dealing with only 891 observations.\n",
    "\n",
    "We will be using the performance on the cross-validation dataset as a metric for prediction on the test dataset. Why would we want to do that? As it turns out, as we increase the number of parameters in our model, our model becomes so complicated that it cannot be justified by the data (the model is **\"memorizing\"** the observations), and cannot generalise well to unseen data.\n",
    "\n",
    "As a result, splitting the data into training and cross-validation helps to reduce the problem of overfitting, and helps improve generalizability and performance on previously unseen dataset.\n",
    "\n",
    "---\n",
    "\n",
    "##### Model 1: Random Forest Classifier\n",
    "Recall that a random forest classifier is an ensemble of decision trees. This begs the question: What's a decision tree? Well, a decision tree is a classifier that makes decisions using decision rules. For example, suppose we are trying to predict whether or not someone is going to pass the final exams or not; we can use decision rules such as \"If the subject scored more than 70 points for his mid-term\", he is likely to pass the exam. Of course, this posits that we have data on his midterm. Then, the random forest classifier collects all these decision trees, with each decision tree splits on different features (based on what the classifier believes to be the best feature to split on). Then it passes the validation data through all these trees, and collects the result.\n",
    "\n",
    "With that in mind, we can start creating our first Machine Learning model - a Random Forest classifier. We can easily do so in Python, using the following function: `from sklearn.ensemble import RandomForestClassifier`.\n",
    "\n",
    "The classifier (you can find more information [here](https://scikit-learn.org/stable/modules/generated/sklearn.ensemble.RandomForestClassifier.html)) takes the following (and more) as inputs:\n",
    "\n",
    "1. n_estimators - the number of decision trees, typically set to 500 or 1000\n",
    "2. criterion - the function that measures the quality of the split to decide which variable/feature to split on\n",
    "3. max_depth - maximum depth of the decision tree\n",
    "4. max_features - the number of maximum features to consider when looking for the best split\n",
    "5. min_samples_split - the minimum number of samples required to split an internal node\n",
    "6. random_state - we set a random_state to ensure reproducibility\n",
    "\n",
    "For our classifier, we will also be using the GridSearch technique - we iterate over possible hyperparameters and look for the best combination of parameters that yields the highest accuracy."
   ]
  },
  {
   "cell_type": "code",
   "execution_count": 79,
   "metadata": {
    "scrolled": false
   },
   "outputs": [
    {
     "name": "stderr",
     "output_type": "stream",
     "text": [
      "/Users/ngbolin/anaconda3/lib/python3.6/site-packages/ipykernel_launcher.py:12: SettingWithCopyWarning: \n",
      "A value is trying to be set on a copy of a slice from a DataFrame.\n",
      "Try using .loc[row_indexer,col_indexer] = value instead\n",
      "\n",
      "See the caveats in the documentation: http://pandas.pydata.org/pandas-docs/stable/indexing.html#indexing-view-versus-copy\n",
      "  if sys.path[0] == '':\n"
     ]
    }
   ],
   "source": [
    "from sklearn.ensemble import RandomForestClassifier\n",
    "from sklearn.model_selection import GridSearchCV\n",
    "from sklearn.preprocessing import LabelEncoder\n",
    "\n",
    "def label_coding(col):\n",
    "    encoder = LabelEncoder()\n",
    "    return encoder.fit_transform(col)\n",
    "\n",
    "categorical_columns = ['Designation', 'Sex', 'CabinType']\n",
    "for col in categorical_columns:\n",
    "    newcolname = str(col)\n",
    "    X[newcolname] = label_coding(X[col])"
   ]
  },
  {
   "cell_type": "code",
   "execution_count": 85,
   "metadata": {
    "scrolled": false
   },
   "outputs": [
    {
     "data": {
      "text/plain": [
       "891"
      ]
     },
     "execution_count": 85,
     "metadata": {},
     "output_type": "execute_result"
    }
   ],
   "source": []
  },
  {
   "cell_type": "code",
   "execution_count": 87,
   "metadata": {
    "collapsed": true
   },
   "outputs": [],
   "source": [
    "# Splitting Training Data\n",
    "from sklearn.model_selection import train_test_split\n",
    "from sklearn.model_selection import cross_val_score\n",
    "\n",
    "random_state = 42\n",
    "X_train = X[:len(train)].copy(); y_train = y[:len(train)].copy()\n",
    "X_test = X[len(train):].copy()\n",
    "\n",
    "# Splitting into training and cross-validation dataset\n",
    "X_subtrain, X_subtest, y_subtrain, y_subtest = train_test_split(X_train, y_train, \n",
    "                                                                test_size = 0.2,\n",
    "                                                                random_state = random_state)"
   ]
  },
  {
   "cell_type": "code",
   "execution_count": 89,
   "metadata": {},
   "outputs": [
    {
     "name": "stdout",
     "output_type": "stream",
     "text": [
      "0.8329510395707578\n"
     ]
    }
   ],
   "source": [
    "# Model 1: Random Forest Classifier\n",
    "from sklearn.ensemble import RandomForestClassifier\n",
    "\n",
    "def random_forest(X_subtrain, y_subtrain):\n",
    "    # Defining the classifier and its arguments\n",
    "    rf = RandomForestClassifier(n_estimators = 1000,\n",
    "                                criterion = 'gini',\n",
    "                                min_samples_split=10,\n",
    "                                random_state = random_state)\n",
    "    \n",
    "    param_grid = {'max_depth': [4, 5, 6]}\n",
    "    rf_clf = GridSearchCV(rf, param_grid).fit(X_subtrain, y_subtrain)\n",
    "    rf_score = cross_val_score(rf_clf, X_subtrain, y_subtrain, cv = 10).mean()\n",
    "    return rf_clf, rf_score\n",
    "\n",
    "rf_clf, rf_score = random_forest(X_subtrain, y_subtrain)\n",
    "print(rf_score)"
   ]
  },
  {
   "cell_type": "markdown",
   "metadata": {},
   "source": [
    "Using cross-validation, we achieved an accuracy of 83.3% over 10-fold cross validation. What goes on under the hood?\n",
    "\n",
    "<img src=\"images/cross-validation.png\">\n",
    "\n",
    "Python splits up the dataset into 10 different folds, and uses 9 of them for training the classifier. It then evaluates the classifier's performance on the tenth fold. It does this 10 different times, each time using a different fold for testing. The accuracy score we see is the average (mean) accuracy across 10 different iterations. This begs the question: How well does our model perform? To answer this, we can simply check the average survival rate in the data."
   ]
  },
  {
   "cell_type": "code",
   "execution_count": 95,
   "metadata": {},
   "outputs": [
    {
     "data": {
      "text/plain": [
       "0.3838383838383838"
      ]
     },
     "execution_count": 95,
     "metadata": {},
     "output_type": "execute_result"
    }
   ],
   "source": [
    "np.mean(combine.Survived)"
   ]
  },
  {
   "cell_type": "markdown",
   "metadata": {},
   "source": [
    "As it turns out, a simple model that predicts 0 (everyone perishes) for every observation would yield an accuracy score of 61.6%. However, our model had an accuracy of 83.3%, beating the simple baseline model by more than 20%.\n",
    "\n",
    "---\n",
    "\n",
    "##### Model 2: K-Nearest Neighbors\n",
    "\n",
    "The next model that we are interested in is the k-Nearest Neighbors model. What exactly is it? The k-Nearest Neighbors algorithm is a non-parametric method that takes an observation as its input, and returns the output from the k different observations that are the most similar to (smallest distance from) the observation.\n",
    "\n",
    "How do we judge distance? One way to do so is through the Euclidean distance metric. But what if there is reason to believe that for some categorical variables, there is no natural ordering i.e. Low - Medium - High? There are ways to circumvent this issue, but we will not be discussing those issues here. Instead, we sweep these questions under the rug (you can learn more about it [here](https://www.quora.com/How-can-I-use-KNN-for-mixed-data-categorical-and-numerical)), and proceed to encode our categorical variables.\n",
    "\n",
    "To proceed with the algorithm, here are some steps we need to take:\n",
    "\n",
    "1. Import the library and the corresponding functions that allow us to use the algorithm.\n",
    "2. Choose K - typically, K is chosen to be an odd number, such as 5 or 7. We will use 5 in our case.\n",
    "3. We scale our datasets; the K-Nearest Neighbors algorithm works best with scaled data.\n",
    "4. We pass our data into the algorithm, and use that to predict for the validation data and verify it with the actual realisations."
   ]
  },
  {
   "cell_type": "code",
   "execution_count": 92,
   "metadata": {},
   "outputs": [
    {
     "name": "stdout",
     "output_type": "stream",
     "text": [
      "0.7261323496534764\n"
     ]
    }
   ],
   "source": [
    "from sklearn.neighbors import KNeighborsClassifier\n",
    "from sklearn.preprocessing import StandardScaler\n",
    "\n",
    "def k_nearest_neighbors(X_subtrain, y_subtrain):\n",
    "    # Scaling the data\n",
    "    scaler = StandardScaler()\n",
    "    X_train = scaler.fit_transform(X_subtrain)\n",
    "    \n",
    "    knn = KNeighborsClassifier()\n",
    "    param_grid = {'n_neighbors': [3, 5, 7, 10],\n",
    "                  'weights': ['uniform', 'distance']}\n",
    "    knn_clf = GridSearchCV(knn, param_grid).fit(X_subtrain, y_subtrain)\n",
    "    knn_score = cross_val_score(knn_clf, X_subtrain, y_subtrain, cv = 10).mean()\n",
    "    return knn_clf, knn_score\n",
    "\n",
    "knn_clf, knn_score = k_nearest_neighbors(X_subtrain, y_subtrain)\n",
    "print(knn_score)"
   ]
  },
  {
   "cell_type": "markdown",
   "metadata": {},
   "source": [
    "It appears that the KNN model did not perform as well as the Random Forest classifier, since it only achieved an accuracy of 72.6%. Nonetheless, let's check the classifiers' performance on the validation dataset."
   ]
  },
  {
   "cell_type": "code",
   "execution_count": 93,
   "metadata": {},
   "outputs": [
    {
     "name": "stdout",
     "output_type": "stream",
     "text": [
      "0.8156424581005587\n",
      "0.7374301675977654\n"
     ]
    }
   ],
   "source": [
    "print(rf_clf.score(X_subtest, y_subtest))\n",
    "print(knn_clf.score(X_subtest, y_subtest))"
   ]
  },
  {
   "cell_type": "markdown",
   "metadata": {},
   "source": [
    "It turns out that our intuition was right - the Random Forest classifier did perform better on the validation dataset. \n",
    "\n",
    "Let's use the Random Forest classifier to predict for the testing dataset, and submit it to Kaggle and check how well we did."
   ]
  },
  {
   "cell_type": "code",
   "execution_count": 100,
   "metadata": {},
   "outputs": [],
   "source": [
    "submission.to_csv('submission1.csv', index=False)"
   ]
  },
  {
   "cell_type": "code",
   "execution_count": 109,
   "metadata": {
    "collapsed": true
   },
   "outputs": [],
   "source": [
    "def submissions():\n",
    "    submission = pd.read_csv('data/titanic/gender_submission.csv')\n",
    "    submission['Survived'] = [int(x) for x in rf_clf.predict(X_test)]\n",
    "    submission.to_csv('data/titanic/submissions.csv', index=False)\n",
    "    \n",
    "submissions()"
   ]
  },
  {
   "cell_type": "markdown",
   "metadata": {},
   "source": [
    "Our model did pretty well! Please feel free to improve on our baseline model."
   ]
  },
  {
   "cell_type": "code",
   "execution_count": null,
   "metadata": {
    "collapsed": true
   },
   "outputs": [],
   "source": []
  }
 ],
 "metadata": {
  "kernelspec": {
   "display_name": "Python 3",
   "language": "python",
   "name": "python3"
  },
  "language_info": {
   "codemirror_mode": {
    "name": "ipython",
    "version": 3
   },
   "file_extension": ".py",
   "mimetype": "text/x-python",
   "name": "python",
   "nbconvert_exporter": "python",
   "pygments_lexer": "ipython3",
   "version": "3.6.3"
  }
 },
 "nbformat": 4,
 "nbformat_minor": 2
}
